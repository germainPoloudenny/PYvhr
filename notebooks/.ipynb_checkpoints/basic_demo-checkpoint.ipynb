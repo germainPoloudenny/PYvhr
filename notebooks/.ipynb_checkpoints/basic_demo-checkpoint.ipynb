{
 "cells": [
  {
   "cell_type": "markdown",
   "metadata": {},
   "source": [
    "<h1>Basic Demo</h1> \n",
    "\n",
    "Basic steps to process video for HRV estimation trough rPPG methods:\n",
    "<ul>\n",
    "    <li><a href=\"#video\">Load video and crop faces</a></li>\n",
    "    <li><a href=\"#roi\">Process ROIs</a></li>\n",
    "    <li><a href=\"#method\">Apply rPPG methods</a></li>\n",
    "    <li><a href=\"#res\">Analyze results</a></li>\n",
    "    <li><a href=\"#tune\">Do fine tuning</a></li>\n",
    "    <li><a href=\"#gt\">Compare with ground truth (GT)</a></li>\n",
    "</ul>"
   ]
  },
  {
   "cell_type": "code",
   "execution_count": 1,
   "metadata": {
    "ExecuteTime": {
     "end_time": "2020-07-24T20:18:32.013191Z",
     "start_time": "2020-07-24T20:18:30.749438Z"
    }
   },
   "outputs": [
    {
     "name": "stdout",
     "output_type": "stream",
     "text": [
      "i\n"
     ]
    }
   ],
   "source": [
    "# -- Modules and packages to import for demo\n",
    "from pyVHR.signals.video import Video\n",
    "from pyVHR.methods.pos import POS\n",
    "from pyVHR.methods.chrom import CHROM\n",
    "from pyVHR.analysis.testsuite import TestSuite, TestResult\n"
   ]
  },
  {
   "cell_type": "markdown",
   "metadata": {},
   "source": [
    "<a id=\"video\"></a>\n",
    "<h2>Load video and crop faces</h2> \n",
    "\n",
    "Given a video sequence $v(t)$, the process starts by extracting the portion of the image corresponding to the face from each frame.\n",
    "The face detectors included in the Package pyVHR are: dlib, mtcnn, and Kalman filter for face tracking. Thus,\n",
    "\\begin{equation*}\n",
    "b(t)=\n",
    "\\begin{cases} \n",
    "    \\text{dlib}(v(t))  \\\\ \n",
    "    \\text{mtcnn}(v(t)) \\\\ \n",
    "    \\text{kalman}(v(t)).\n",
    "\\end{cases}\n",
    "\\end{equation*}\n",
    "The signal $b(t)$ has dimensions $w\\times h \\times 3 \\times W_s$, where $w$ and $h$ are the width and the height of the bounding box containing the face, respectively. Signal $b(t)$ has 3 channels being coded in the RGB-color space, and depth $W_s$ according to the time window considered.\n",
    "\n",
    "<h3>Download video sample</h3> \n",
    "To repeat next experiment:\n",
    "<ul>\n",
    "    <li>Download the file <code>ID1.zip</code> (7.57GB) from <a href=\"https://github.com/partofthestars/LGI-PPGI-DB\">github.com/partofthestars/LGI-PPGI-DB</a></li>\n",
    "    <li>Unpack the file in the pyVHR root directory and rename the folder as <code>sampleDataset</code></li>\n",
    "    <li>Run the following snippets (cells)</li>\n",
    "        "
   ]
  },
  {
   "cell_type": "code",
   "execution_count": 2,
   "metadata": {
    "ExecuteTime": {
     "end_time": "2020-07-24T20:18:36.856099Z",
     "start_time": "2020-07-24T20:18:35.215786Z"
    },
    "scrolled": false
   },
   "outputs": [
    {
     "name": "stdout",
     "output_type": "stream",
     "text": [
      "\n",
      "\n",
      "mtcnn\n",
      "\n",
      "\n",
      "\n",
      "Performing face detection...\n",
      "WARNING:tensorflow:5 out of the last 5 calls to <function Model.make_predict_function.<locals>.predict_function at 0x000002606C2BBA60> triggered tf.function retracing. Tracing is expensive and the excessive number of tracings is likely due to passing python objects instead of tensors. Also, tf.function has experimental_relax_shapes=True option that relaxes argument shapes that can avoid unnecessary retracing. Please refer to https://www.tensorflow.org/tutorials/customization/performance#python_or_tensor_args and https://www.tensorflow.org/api_docs/python/tf/function for more details.\n",
      "WARNING:tensorflow:6 out of the last 6 calls to <function Model.make_predict_function.<locals>.predict_function at 0x000002606C2BBA60> triggered tf.function retracing. Tracing is expensive and the excessive number of tracings is likely due to passing python objects instead of tensors. Also, tf.function has experimental_relax_shapes=True option that relaxes argument shapes that can avoid unnecessary retracing. Please refer to https://www.tensorflow.org/tutorials/customization/performance#python_or_tensor_args and https://www.tensorflow.org/api_docs/python/tf/function for more details.\n",
      "WARNING:tensorflow:7 out of the last 7 calls to <function Model.make_predict_function.<locals>.predict_function at 0x000002606C2BBA60> triggered tf.function retracing. Tracing is expensive and the excessive number of tracings is likely due to passing python objects instead of tensors. Also, tf.function has experimental_relax_shapes=True option that relaxes argument shapes that can avoid unnecessary retracing. Please refer to https://www.tensorflow.org/tutorials/customization/performance#python_or_tensor_args and https://www.tensorflow.org/api_docs/python/tf/function for more details.\n",
      "WARNING:tensorflow:8 out of the last 8 calls to <function Model.make_predict_function.<locals>.predict_function at 0x000002606C2BBA60> triggered tf.function retracing. Tracing is expensive and the excessive number of tracings is likely due to passing python objects instead of tensors. Also, tf.function has experimental_relax_shapes=True option that relaxes argument shapes that can avoid unnecessary retracing. Please refer to https://www.tensorflow.org/tutorials/customization/performance#python_or_tensor_args and https://www.tensorflow.org/api_docs/python/tf/function for more details.\n",
      "WARNING:tensorflow:9 out of the last 9 calls to <function Model.make_predict_function.<locals>.predict_function at 0x000002606C2BBA60> triggered tf.function retracing. Tracing is expensive and the excessive number of tracings is likely due to passing python objects instead of tensors. Also, tf.function has experimental_relax_shapes=True option that relaxes argument shapes that can avoid unnecessary retracing. Please refer to https://www.tensorflow.org/tutorials/customization/performance#python_or_tensor_args and https://www.tensorflow.org/api_docs/python/tf/function for more details.\n",
      "WARNING:tensorflow:10 out of the last 10 calls to <function Model.make_predict_function.<locals>.predict_function at 0x000002606C2BBA60> triggered tf.function retracing. Tracing is expensive and the excessive number of tracings is likely due to passing python objects instead of tensors. Also, tf.function has experimental_relax_shapes=True option that relaxes argument shapes that can avoid unnecessary retracing. Please refer to https://www.tensorflow.org/tutorials/customization/performance#python_or_tensor_args and https://www.tensorflow.org/api_docs/python/tf/function for more details.\n",
      "Processing: |█████████████████████████████████████████████████-| 99.7% Complete\n",
      "   * Video filename: ../sampleDataset/mesh.mp4\n",
      "         Total frames: 300\n",
      "             Duration: 10.0 (sec)\n",
      "           Frame rate: 30 (fps)\n",
      "                Codec: h264\n",
      "           Num frames: 300\n",
      "               Height: 480\n",
      "                Width: 480\n",
      "             Detector: mtcnn\n",
      "            Extractor: skvideo\n",
      "\n",
      "Show video cropped faces, crop size: (266, 194)\n"
     ]
    },
    {
     "data": {
      "application/vnd.jupyter.widget-view+json": {
       "model_id": "800d327a4a0d4a5a96dd1bd4328597fb",
       "version_major": 2,
       "version_minor": 0
      },
      "text/plain": [
       "interactive(children=(IntSlider(value=1, description='frame', max=300), Output()), _dom_classes=('widget-inter…"
      ]
     },
     "metadata": {},
     "output_type": "display_data"
    }
   ],
   "source": [
    "# -- Video object\n",
    "videoFilename = (\"mesh\",\"mp4\")\n",
    "video = Video(videoFilename)\n",
    "\n",
    "# -- extract faces\n",
    "video.getCroppedFaces(detector='mtcnn', extractor='skvideo')\n",
    "\n",
    "video.printVideoInfo()\n",
    "\n",
    "print(\"\\nShow video cropped faces, crop size:\", video.cropSize)\n",
    "video.showVideo()"
   ]
  },
  {
   "cell_type": "markdown",
   "metadata": {},
   "source": [
    "<a id=\"roi\"></a>\n",
    "<h2>Process ROIs</h2> \n",
    "\n",
    "For each frame $t=1,\\dots,T$, given the ROIs, either rectangular patch-based $R(t)$ or skin-based $S(t)$, we average over all the selected pixels to compute the output  $q(t)$ of this step. More formally, if $N$ denotes the number of rectangular patches, $\\left|R^{(i)}(t)\\right|$ the number of pixels in the $i$-th patch, and  $\\left|S(t) \\right |$ the number of detected skin pixels within the face, we have\n",
    "\\begin{equation*}\n",
    "q(t)=\\begin{cases} \n",
    "    \\text{Patch}(R(t)) \\\\ \\text{Skin}(S(t))\n",
    "    \\end{cases}\n",
    "\\end{equation*}\n",
    "where\n",
    "\\begin{align*}\n",
    "    \\text{Patch}(R(t))&= \n",
    "    \\frac{1}{N}\\sum_{i=1}^N \\frac{1}{\\left| R^{(i)}(t) \\right|} \\sum_{(x,y)\\in R^{(i)}(t)} R^{(i)}_{x,y}(t)   \\\\ \n",
    "    \\text{Skin}(S(t)) &= \n",
    "    \\frac{1}{\\left| S(t) \\right |} \\sum_{(x,y)\\in S(t)}\n",
    "    S_{x,y}(t)\n",
    "\\end{align*}\n"
   ]
  },
  {
   "cell_type": "code",
   "execution_count": 3,
   "metadata": {
    "ExecuteTime": {
     "end_time": "2020-07-24T20:18:41.434688Z",
     "start_time": "2020-07-24T20:18:41.202602Z"
    }
   },
   "outputs": [
    {
     "name": "stdout",
     "output_type": "stream",
     "text": [
      "      ROI type: rect\n",
      "   Rect coords: [[15, 20, 140, 50], [10, 120, 100, 30]]\n"
     ]
    },
    {
     "data": {
      "application/vnd.jupyter.widget-view+json": {
       "model_id": "2fa23a2527884b17873b20b18d8d6624",
       "version_major": 2,
       "version_minor": 0
      },
      "text/plain": [
       "interactive(children=(IntSlider(value=1, description='frame', max=300), Output()), _dom_classes=('widget-inter…"
      ]
     },
     "metadata": {},
     "output_type": "display_data"
    }
   ],
   "source": [
    "# -- define ROIs: free rectangular regions\n",
    "video.setMask(typeROI='rect', rectCoords=[[15,20,140,50],[10,120,100,30]])\n",
    "video.printROIInfo()\n",
    "video.showVideo()"
   ]
  },
  {
   "cell_type": "code",
   "execution_count": 4,
   "metadata": {
    "ExecuteTime": {
     "end_time": "2020-07-24T20:18:47.625088Z",
     "start_time": "2020-07-24T20:18:47.472931Z"
    }
   },
   "outputs": [
    {
     "name": "stdout",
     "output_type": "stream",
     "text": [
      "      ROI type: rect\n",
      "   Rect coords: [[38, 26, 116, 31], [29, 143, 29, 29], [135, 143, 29, 29], [67, 133, 58, 21]]\n"
     ]
    },
    {
     "data": {
      "application/vnd.jupyter.widget-view+json": {
       "model_id": "b083b0b7a2724dd791f0e93276d9b6e7",
       "version_major": 2,
       "version_minor": 0
      },
      "text/plain": [
       "interactive(children=(IntSlider(value=1, description='frame', max=300), Output()), _dom_classes=('widget-inter…"
      ]
     },
     "metadata": {},
     "output_type": "display_data"
    }
   ],
   "source": [
    "# -- define ROIs: standard regions, i.e. 'forehead', 'lcheek', 'rcheek', 'nose'\n",
    "video.setMask(typeROI='rect', rectRegions=['forehead', 'lcheek', 'rcheek', 'nose'])\n",
    "video.printROIInfo()\n",
    "video.showVideo()"
   ]
  },
  {
   "cell_type": "code",
   "execution_count": 5,
   "metadata": {
    "ExecuteTime": {
     "end_time": "2020-07-24T20:10:16.954884Z",
     "start_time": "2020-07-24T20:10:15.020241Z"
    },
    "scrolled": true
   },
   "outputs": [
    {
     "name": "stdout",
     "output_type": "stream",
     "text": [
      "      ROI type: skin_adapt\n",
      "   Skin thresh: 0.2\n"
     ]
    },
    {
     "data": {
      "application/vnd.jupyter.widget-view+json": {
       "model_id": "16c6e0b4df7d47a6aacbdfd4fbd04dbd",
       "version_major": 2,
       "version_minor": 0
      },
      "text/plain": [
       "interactive(children=(IntSlider(value=1, description='frame', max=300), Output()), _dom_classes=('widget-inter…"
      ]
     },
     "metadata": {},
     "output_type": "display_data"
    }
   ],
   "source": [
    "# -- define ROIs: using skin, with threshold param \n",
    "video.setMask(typeROI='skin_adapt',skinThresh_adapt=0.2)\n",
    "video.printROIInfo()\n",
    "video.showVideo()"
   ]
  },
  {
   "cell_type": "code",
   "execution_count": 6,
   "metadata": {
    "ExecuteTime": {
     "end_time": "2020-07-24T20:10:20.599133Z",
     "start_time": "2020-07-24T20:10:20.378122Z"
    }
   },
   "outputs": [
    {
     "name": "stdout",
     "output_type": "stream",
     "text": [
      "      ROI type: skin_fix\n",
      "   Skin thresh: [20, 50]\n"
     ]
    },
    {
     "data": {
      "application/vnd.jupyter.widget-view+json": {
       "model_id": "9a3dd988675e4636a6e57bc60cec2dff",
       "version_major": 2,
       "version_minor": 0
      },
      "text/plain": [
       "interactive(children=(IntSlider(value=1, description='frame', max=300), Output()), _dom_classes=('widget-inter…"
      ]
     },
     "metadata": {},
     "output_type": "display_data"
    }
   ],
   "source": [
    "# -- define ROIs: using skin, with threshold param \n",
    "video.setMask(typeROI='skin_fix',skinThresh_fix=[20, 50])\n",
    "video.printROIInfo()\n",
    "video.showVideo()"
   ]
  },
  {
   "cell_type": "markdown",
   "metadata": {},
   "source": [
    "<a id=\"method\"></a>\n",
    "<h2>Apply rPPG methods</h2> \n",
    "\n",
    "The temporal RGB trace $x(t) =(x_r(t),x_g(t),x_b(t))^T$ is achieved by preprocessing the raw RGB signal $s(t) =(s_r(t),s_g(t),s_b(t))^T$. The signal $x(t)$ is than split into overlapped subsequences, each  representing samples of a finite-length multivariate measurement with $t= 1,2,...,M$, where $M=W_s\\cdot f_{ps}$ is the number of frames selected by the sliding window, being $f_{ps}$ the video frame rate. Thus, a method receives as input a chunk of the sequence $x(t)$ and produces as output a monovariate temporal sequence $y(t)$, i.e. a real BVP estimate coming from the application of the rPPG model."
   ]
  },
  {
   "cell_type": "code",
   "execution_count": 7,
   "metadata": {
    "ExecuteTime": {
     "end_time": "2020-07-24T20:10:46.303970Z",
     "start_time": "2020-07-24T20:10:25.010551Z"
    },
    "scrolled": true
   },
   "outputs": [
    {
     "name": "stdout",
     "output_type": "stream",
     "text": [
      "** Run the test with the following config:\n",
      "      dataset: LGI_PPGI\n",
      "      methods: ['POS', 'CHROM']\n",
      "cms50\n",
      "cms50\n",
      "cms50\n",
      "cms50\n",
      "cms50\n",
      "cms50\n",
      "cms50\n",
      "cms50\n",
      "cms50\n",
      "cms50\n",
      "cms50\n",
      "cms50\n",
      "cms50\n"
     ]
    }
   ],
   "source": [
    "# -- Define a configuration file. \n",
    "#    It contains all the information relative to the dataset (e.g. the path), \n",
    "#    and the test procedure (e.g. hyperparamenters)\n",
    "cfgFilename = '../pyVHR/analysis/sample.cfg'\n",
    "\n",
    "# -- apply the pipeline until GT comparison\n",
    "test = TestSuite(configFilename=cfgFilename)\n",
    "\n",
    "# -- run exp and save results on a pandas file\n",
    "#    change verb to see more details as follow:\n",
    "#       0 - not verbose\n",
    "#       1 - show the main steps\n",
    "#       2 - display graphic \n",
    "#       3 - display spectra  \n",
    "#       4 - display errors\n",
    "#       (use also combinations, e.g. verb=21, verb=321)\n",
    "\n",
    "result = test.start(outFilename='sampleExp.h5', verb='1')"
   ]
  },
  {
   "cell_type": "markdown",
   "metadata": {},
   "source": [
    "<a id=\"test\"></a>\n",
    "<h2>Test results</h2>\n",
    "\n",
    "Results from experiments are organized in pandas file and object of type TestResult. "
   ]
  },
  {
   "cell_type": "code",
   "execution_count": 8,
   "metadata": {
    "ExecuteTime": {
     "end_time": "2020-07-24T20:10:56.763054Z",
     "start_time": "2020-07-24T20:10:56.720708Z"
    }
   },
   "outputs": [
    {
     "data": {
      "text/html": [
       "<div>\n",
       "<style scoped>\n",
       "    .dataframe tbody tr th:only-of-type {\n",
       "        vertical-align: middle;\n",
       "    }\n",
       "\n",
       "    .dataframe tbody tr th {\n",
       "        vertical-align: top;\n",
       "    }\n",
       "\n",
       "    .dataframe thead th {\n",
       "        text-align: right;\n",
       "    }\n",
       "</style>\n",
       "<table border=\"1\" class=\"dataframe\">\n",
       "  <thead>\n",
       "    <tr style=\"text-align: right;\">\n",
       "      <th></th>\n",
       "    </tr>\n",
       "  </thead>\n",
       "  <tbody>\n",
       "  </tbody>\n",
       "</table>\n",
       "</div>"
      ],
      "text/plain": [
       "Empty DataFrame\n",
       "Columns: []\n",
       "Index: []"
      ]
     },
     "execution_count": 8,
     "metadata": {},
     "output_type": "execute_result"
    }
   ],
   "source": [
    "# -- pandas file for collecting results\n",
    "result.dataFrame"
   ]
  },
  {
   "cell_type": "markdown",
   "metadata": {},
   "source": [
    "<a id=\"tune\"></a>\n",
    "<h2>Do fine tuning</h2>\n",
    "\n",
    "In this section it is shown how to tune parameters, visualize intermediate results, invoke methods on specific dataset "
   ]
  },
  {
   "cell_type": "code",
   "execution_count": 14,
   "metadata": {
    "ExecuteTime": {
     "end_time": "2020-07-24T20:11:52.813684Z",
     "start_time": "2020-07-24T20:11:00.632494Z"
    },
    "scrolled": false
   },
   "outputs": [
    {
     "data": {
      "application/vnd.plotly.v1+json": {
       "config": {
        "plotlyServerURL": "https://plot.ly"
       },
       "data": [
        {
         "name": "ch B",
         "type": "scatter",
         "x": [
          0,
          1,
          2,
          3,
          4,
          5,
          6,
          7,
          8,
          9,
          10,
          11,
          12,
          13,
          14,
          15,
          16,
          17,
          18,
          19,
          20,
          21,
          22,
          23,
          24,
          25,
          26,
          27,
          28,
          29,
          30,
          31,
          32,
          33,
          34,
          35,
          36,
          37,
          38,
          39,
          40,
          41,
          42,
          43,
          44,
          45,
          46,
          47,
          48,
          49,
          50,
          51,
          52,
          53,
          54,
          55,
          56,
          57,
          58,
          59,
          60,
          61,
          62,
          63,
          64,
          65,
          66,
          67,
          68,
          69,
          70,
          71,
          72,
          73,
          74,
          75,
          76,
          77,
          78,
          79,
          80,
          81,
          82,
          83,
          84,
          85,
          86,
          87,
          88,
          89,
          90,
          91,
          92,
          93,
          94,
          95,
          96,
          97,
          98,
          99,
          100,
          101,
          102,
          103,
          104,
          105,
          106,
          107,
          108,
          109,
          110,
          111,
          112,
          113,
          114,
          115,
          116,
          117,
          118,
          119,
          120,
          121,
          122,
          123,
          124,
          125,
          126,
          127,
          128,
          129,
          130,
          131,
          132,
          133,
          134,
          135,
          136,
          137,
          138,
          139,
          140,
          141,
          142,
          143,
          144,
          145,
          146,
          147,
          148,
          149,
          150,
          151,
          152,
          153,
          154,
          155,
          156,
          157,
          158,
          159,
          160,
          161,
          162,
          163,
          164,
          165,
          166,
          167,
          168,
          169,
          170,
          171,
          172,
          173,
          174,
          175,
          176,
          177,
          178,
          179,
          180,
          181,
          182,
          183,
          184,
          185,
          186,
          187,
          188,
          189,
          190,
          191,
          192,
          193,
          194,
          195,
          196,
          197,
          198,
          199,
          200,
          201,
          202,
          203,
          204,
          205,
          206,
          207,
          208,
          209,
          210,
          211,
          212,
          213,
          214,
          215,
          216,
          217,
          218,
          219,
          220,
          221,
          222,
          223,
          224,
          225,
          226,
          227,
          228,
          229,
          230,
          231,
          232,
          233,
          234,
          235,
          236,
          237,
          238,
          239,
          240,
          241,
          242,
          243,
          244,
          245,
          246,
          247,
          248,
          249,
          250,
          251,
          252,
          253,
          254,
          255,
          256,
          257,
          258,
          259,
          260,
          261,
          262,
          263,
          264,
          265,
          266,
          267,
          268,
          269,
          270,
          271,
          272,
          273,
          274,
          275,
          276,
          277,
          278,
          279,
          280,
          281,
          282,
          283,
          284,
          285,
          286,
          287,
          288,
          289,
          290,
          291,
          292,
          293,
          294,
          295,
          296,
          297,
          298,
          299
         ],
         "y": [
          -0.06087076344518039,
          -0.04627403025126853,
          0.013022528241933173,
          0.0036000254372794416,
          -0.016275900354557393,
          0.15164819445871558,
          0.02504719696544555,
          0.129007532662186,
          0.13588759032627706,
          0.1374874288861605,
          0.13326378157898944,
          0.137297635702339,
          0.12630414243157873,
          0.13846319792837392,
          0.13306731274740002,
          0.12239576645674788,
          0.12223149205649975,
          0.07962628031469876,
          -0.04753635594403249,
          0.046697455528459386,
          0.042176889239939896,
          -0.024628141370584444,
          -0.003232709731676664,
          0.1277700002334825,
          0.09776900859988302,
          -0.005774095732604678,
          0.11481399175579554,
          0.0036107638782141294,
          0.004534926817157725,
          0.008399659937794013,
          0.011324258110008145,
          0.009092896278133367,
          0.011763162991215381,
          0.02089475216442338,
          0.020059052556547385,
          0.02046646262675722,
          0.01580212082147625,
          0.008420831750413527,
          0.008037515586451605,
          0.00822917366842546,
          0.007465304403524442,
          0.007465304403524442,
          0.007465304403524442,
          0.007465304403524442,
          0.007465304403524442,
          0.02508705378190257,
          0.022595200226220413,
          0.022993116114733425,
          0.02305671663536657,
          0.04094709289516629,
          0.04003986924342939,
          0.041817101514439514,
          0.035492789069834885,
          0.035492789069834885,
          0.035492789069834885,
          0.035492789069834885,
          0.035492789069834885,
          0.026931983818315075,
          0.14538450874925957,
          0.1441941337838557,
          0.1456432562640515,
          0.036304069649091275,
          0.041234704044882164,
          0.039601373050402344,
          0.03499970494571869,
          0.14710403512744108,
          0.1458593271531754,
          0.1438393495578083,
          0.14763868658377532,
          0.15054656111092868,
          0.15230779237118952,
          0.153070842291811,
          0.15365521614093325,
          0.16116245515165417,
          0.1600855687237157,
          0.15926035145048445,
          0.1554584140359907,
          0.2381938274925801,
          0.2381938274925801,
          0.2373215289940731,
          0.15792739276460566,
          0.15778807942517403,
          0.15778807942517403,
          0.24242752357409358,
          0.24304317066544456,
          0.2428654846424365,
          0.24262548656241734,
          0.24176032026561245,
          0.24409215704983467,
          0.24489133330375523,
          0.24473178165099796,
          0.24475578433929002,
          0.24627244847980023,
          0.252688099382695,
          0.24073060079984998,
          0.20391407204962775,
          0.19641646187484696,
          0.24125935277834287,
          0.25805099125756215,
          0.24051706293502662,
          0.2334961124761321,
          0.24659058389245558,
          0.20138839771676942,
          0.06231651301236241,
          0.015292204197749015,
          0.02578355584540759,
          0.021194700631653518,
          0.02299850018154359,
          0.009557985618243947,
          0.016344582349361758,
          0.024265646211077296,
          0.027764915199398388,
          0.029815360571987526,
          0.006241367475297466,
          -0.0003457234384853791,
          -0.00025502887955042297,
          -0.010177576746528416,
          -0.02363879065718777,
          -0.02844221577566941,
          -0.08192662733728184,
          -0.11558250176763352,
          -0.06690310539555355,
          -0.06362140266024596,
          0.05742569166869771,
          0.049623513130924835,
          0.18577459591499235,
          0.12481946901817764,
          0.16202379141215317,
          0.12666191969601925,
          0.22605186461198912,
          0.22120797672653225,
          0.14634333093873408,
          0.1086111368454965,
          0.14419544940699325,
          0.1285983034395315,
          0.1480305705242131,
          0.16107313020263803,
          0.1546114323435006,
          0.1595350520561709,
          0.16205645705541372,
          0.07143275606844668,
          0.07335874608951087,
          -0.05842660889011597,
          -0.0540996454767253,
          0.00865220364899244,
          0.02883426588731197,
          0.02910748134767971,
          0.03128885953765348,
          0.023943532038671833,
          0.0653842090615342,
          -0.03846227320886442,
          0.1019373336463616,
          0.09487495685665692,
          0.06969614868565088,
          0.06792294328808168,
          0.06853699908160138,
          -0.04278204544715436,
          0.06815136082980189,
          0.06788914390489253,
          0.06805600922074007,
          0.07842621031333863,
          0.07970086370838203,
          0.07970086370838203,
          0.07970086370838203,
          0.07941464513280039,
          0.07915227810518388,
          0.07915227810518388,
          0.07917612965314902,
          0.07912842655721875,
          0.09075344082168613,
          0.09204640854797219,
          0.09041000334880778,
          -0.010157676914076319,
          0.10213967339397811,
          0.08874972738269093,
          0.06885807235390473,
          0.04153834705809345,
          0.05029994487617273,
          0.04891255913759096,
          0.03171273682136189,
          0.023506245107753898,
          0.03900997598492495,
          0.036896150877595346,
          0.039055569478350094,
          0.02782388532013158,
          0.014873057637785791,
          0.1087747028943653,
          0.1618241940188483,
          0.060879312899601246,
          0.06199125753676071,
          0.04516067941938218,
          0.03399536035523454,
          0.006514806255268013,
          0.013148522653821715,
          -0.1131594715057389,
          -0.04909896367101396,
          -0.08270762156311662,
          -0.07926012060073617,
          -0.0766781601404034,
          -0.0758392397411285,
          -0.09950670521595839,
          -0.08568581316670532,
          -0.08623550472624686,
          -0.08836378244672005,
          -0.09922561629109339,
          -0.09228372782048666,
          -0.11354871393179167,
          -0.11290423023484664,
          -0.12444282293839137,
          -0.13088036167630435,
          -0.1307132573554668,
          -0.13119014151799036,
          -0.1318125146868141,
          -0.13278715095280802,
          -0.13295423533041628,
          -0.13254845898478607,
          -0.13758556885134965,
          -0.13944741064253208,
          -0.1404245168244529,
          -0.13777581308433184,
          -0.13512828430343404,
          -0.13512828430343404,
          -0.13512828430343404,
          -0.1360360511405787,
          -0.1360360511405787,
          -0.13720435284531618,
          -0.13539086427097402,
          -0.13534312245869273,
          -0.13412633306271005,
          -0.13852791802915476,
          -0.14776557858309047,
          -0.14103639252826383,
          -0.14466961879989526,
          -0.1424006673460525,
          -0.14275864548551453,
          -0.14099341054927095,
          -0.14175954203771823,
          -0.14175954203771823,
          -0.14175954203771823,
          -0.14175954203771823,
          -0.14175954203771823,
          -0.14175954203771823,
          -0.14175954203771823,
          -0.14175954203771823,
          -0.14175954203771823,
          -0.14175954203771823,
          -0.14175954203771823,
          -0.14175954203771823,
          -0.14175954203771823,
          -0.14175954203771823,
          -0.08882213872230693,
          -0.10559672077523885,
          -0.10519026931606845,
          -0.10447309784036918,
          -0.10913468214452848,
          -0.19635290611248024,
          -0.19695126421784437,
          -0.1975017536747714,
          -0.20417943013057993,
          -0.20260203213442196,
          -0.20245842275194548,
          -0.20193185501618416,
          -0.1990553022352941,
          -0.1990553022352941,
          -0.1990553022352941,
          -0.1990553022352941,
          -0.1990553022352941,
          -0.1990553022352941,
          -0.1990553022352941,
          -0.1990553022352941,
          -0.1990553022352941,
          -0.20065220153460928,
          -0.20065220153460928,
          -0.20062826950157842,
          -0.1120507097788419,
          -0.1120507097788419,
          -0.1120507097788419,
          -0.1120507097788419,
          -0.1120507097788419,
          -0.1120507097788419,
          -0.1120507097788419,
          -0.1120507097788419,
          -0.1120507097788419,
          -0.19628176002800046,
          -0.19845921025770963,
          -0.19381511695259235,
          -0.19330650746310596,
          -0.2637898914489085,
          -0.07840604788296446,
          -0.14091690231072107,
          -0.22353294554351066,
          -0.23445691952963443,
          -0.2427564132177622,
          -0.22364415431729867,
          -0.23205491920977295,
          -0.22699526622226074,
          -0.22788199690718614,
          -0.22699526622226074,
          -0.23205491920977295,
          -0.23205491920977295
         ]
        },
        {
         "name": "ch R",
         "type": "scatter",
         "x": [
          0,
          1,
          2,
          3,
          4,
          5,
          6,
          7,
          8,
          9,
          10,
          11,
          12,
          13,
          14,
          15,
          16,
          17,
          18,
          19,
          20,
          21,
          22,
          23,
          24,
          25,
          26,
          27,
          28,
          29,
          30,
          31,
          32,
          33,
          34,
          35,
          36,
          37,
          38,
          39,
          40,
          41,
          42,
          43,
          44,
          45,
          46,
          47,
          48,
          49,
          50,
          51,
          52,
          53,
          54,
          55,
          56,
          57,
          58,
          59,
          60,
          61,
          62,
          63,
          64,
          65,
          66,
          67,
          68,
          69,
          70,
          71,
          72,
          73,
          74,
          75,
          76,
          77,
          78,
          79,
          80,
          81,
          82,
          83,
          84,
          85,
          86,
          87,
          88,
          89,
          90,
          91,
          92,
          93,
          94,
          95,
          96,
          97,
          98,
          99,
          100,
          101,
          102,
          103,
          104,
          105,
          106,
          107,
          108,
          109,
          110,
          111,
          112,
          113,
          114,
          115,
          116,
          117,
          118,
          119,
          120,
          121,
          122,
          123,
          124,
          125,
          126,
          127,
          128,
          129,
          130,
          131,
          132,
          133,
          134,
          135,
          136,
          137,
          138,
          139,
          140,
          141,
          142,
          143,
          144,
          145,
          146,
          147,
          148,
          149,
          150,
          151,
          152,
          153,
          154,
          155,
          156,
          157,
          158,
          159,
          160,
          161,
          162,
          163,
          164,
          165,
          166,
          167,
          168,
          169,
          170,
          171,
          172,
          173,
          174,
          175,
          176,
          177,
          178,
          179,
          180,
          181,
          182,
          183,
          184,
          185,
          186,
          187,
          188,
          189,
          190,
          191,
          192,
          193,
          194,
          195,
          196,
          197,
          198,
          199,
          200,
          201,
          202,
          203,
          204,
          205,
          206,
          207,
          208,
          209,
          210,
          211,
          212,
          213,
          214,
          215,
          216,
          217,
          218,
          219,
          220,
          221,
          222,
          223,
          224,
          225,
          226,
          227,
          228,
          229,
          230,
          231,
          232,
          233,
          234,
          235,
          236,
          237,
          238,
          239,
          240,
          241,
          242,
          243,
          244,
          245,
          246,
          247,
          248,
          249,
          250,
          251,
          252,
          253,
          254,
          255,
          256,
          257,
          258,
          259,
          260,
          261,
          262,
          263,
          264,
          265,
          266,
          267,
          268,
          269,
          270,
          271,
          272,
          273,
          274,
          275,
          276,
          277,
          278,
          279,
          280,
          281,
          282,
          283,
          284,
          285,
          286,
          287,
          288,
          289,
          290,
          291,
          292,
          293,
          294,
          295,
          296,
          297,
          298,
          299
         ],
         "y": [
          0.25181691318822175,
          0.16882579976736167,
          0.26739243153937764,
          0.2034196130368997,
          0.2031277184506166,
          0.2677395580192581,
          0.16165633073627816,
          0.19913861796733556,
          0.204960558857195,
          0.17388215477932079,
          0.1716740467106206,
          0.16088194391463162,
          0.16853308802014055,
          0.15699780627736004,
          0.1554429572582876,
          0.1481789334053616,
          0.155097945623055,
          0.0687412548182067,
          0.06998026425044657,
          0.17928301164307925,
          0.19546210641209427,
          0.13728915774878203,
          0.19178079562259143,
          0.2573615665779272,
          0.3020073428030372,
          0.22599117686336,
          0.2835732913408435,
          0.2327303936946663,
          0.24530488600572653,
          0.23660357000433407,
          0.2420201055796838,
          0.2401188568845356,
          0.2480788787342192,
          0.24432140762239385,
          0.2440660624465636,
          0.24416192363955247,
          0.24308425028830527,
          0.23333729717880658,
          0.23321751087756581,
          0.2332893826582989,
          0.2334411358883841,
          0.2334411358883841,
          0.2334411358883841,
          0.2334411358883841,
          0.2334411358883841,
          0.24011013450601126,
          0.24013409463636037,
          0.2403970843197385,
          0.24324144234014966,
          0.25212827815521166,
          0.2512259488977122,
          0.2527923570947763,
          0.24990054699884467,
          0.24990054699884467,
          0.24990054699884467,
          0.24990054699884467,
          0.24990054699884467,
          0.2376182809503291,
          0.2850955647049034,
          0.2847163304840734,
          0.28704722779686165,
          0.2357180717328191,
          0.23798739662703383,
          0.2369966268581436,
          0.2349114959982188,
          0.2813387286344664,
          0.2802050677825889,
          0.27795645309628014,
          0.2808062027253726,
          0.27789598123420944,
          0.2774483021002254,
          0.27650161639144244,
          0.27568141395063606,
          0.2755546982683228,
          0.2739172887457215,
          0.2731513252572313,
          0.27267360656695416,
          0.36294098076562875,
          0.36294098076562875,
          0.36216185504451914,
          0.27146302369109776,
          0.2707152690798438,
          0.2707152690798438,
          0.3661778711137913,
          0.36741477032144587,
          0.3660498239407701,
          0.36580982586075095,
          0.3646003202020296,
          0.3684933956646148,
          0.36847086325761325,
          0.36843412381409735,
          0.3684821291906957,
          0.37218472811819936,
          0.35928378970599795,
          0.35225856099899033,
          0.2872294164789366,
          0.3028777101889091,
          0.31958457207065294,
          0.31917971129836076,
          0.30669932768672936,
          0.30866447983855494,
          0.23113257000939313,
          0.20155723764474942,
          0.0928905526833006,
          0.0718978596307096,
          0.06703038001502648,
          0.0639786995261602,
          0.06484945687911647,
          0.05730706665367791,
          0.054398884969060646,
          0.06496532247129494,
          0.0658041883246625,
          0.06668308711215332,
          0.043339407061850466,
          0.03740003896254507,
          0.03842377123774554,
          0.032813493904825464,
          -0.009433009770461354,
          -0.010980207143930443,
          -0.09256249165349573,
          -0.1039571902615819,
          -0.1269414431422149,
          -0.12190205788185438,
          -0.0484914054054002,
          -0.04187302908711388,
          -0.1039563941913002,
          -0.10677251331287607,
          -0.09725001034772163,
          -0.036147385809556454,
          -0.060035796559546384,
          -0.05189182010991544,
          -0.1259303471437363,
          -0.11227903761475488,
          -0.15431790797974543,
          -0.1659537860385143,
          -0.1592172135994474,
          -0.09683509702566084,
          -0.11283322957167741,
          -0.10377599606617594,
          -0.10263127136651917,
          -0.19459940556039612,
          -0.25302910822105673,
          -0.3730314551544893,
          -0.3742691578427326,
          -0.2968958811556206,
          -0.310476278880472,
          -0.3052797535142133,
          -0.3065721502976402,
          -0.3019831020506132,
          -0.367420887922421,
          -0.45101182864584644,
          -0.28302495600496513,
          -0.273654571231134,
          -0.31672154995381163,
          -0.3169823397720819,
          -0.3178041325735279,
          -0.3574310864036221,
          -0.3170048624679822,
          -0.31724324149062966,
          -0.3170287003702441,
          -0.30564677953957187,
          -0.3071586273424316,
          -0.3071586273424316,
          -0.3071586273424316,
          -0.3073971428220972,
          -0.30699166650667564,
          -0.30699166650667564,
          -0.3070155180546408,
          -0.3069678149587105,
          -0.3043781191554018,
          -0.3034048734776178,
          -0.30529873232404725,
          -0.34396465640756446,
          -0.3501223822361368,
          -0.3619671437291032,
          -0.37193830476289236,
          -0.37427173550113935,
          -0.3926845525615903,
          -0.39055154660279356,
          -0.4025342499699036,
          -0.39546630672587924,
          -0.4104960931676942,
          -0.4081346027070225,
          -0.4055061190394724,
          -0.4092956283938918,
          -0.4549101531603128,
          -0.38740903681070904,
          -0.35159500227582896,
          -0.3820004929430212,
          -0.32489939803663503,
          -0.30423704268713436,
          -0.31445953712220387,
          -0.2832964340473296,
          -0.2858608519257615,
          -0.3597577174249835,
          -0.28784716992865356,
          -0.26989072726176744,
          -0.2866009737653741,
          -0.2839200777735158,
          -0.28381814361098634,
          -0.2845458716066105,
          -0.28801586734162754,
          -0.287056335193526,
          -0.28809949303300186,
          -0.29574338171357795,
          -0.30434134980158944,
          -0.31853497197359104,
          -0.3191317161374343,
          -0.31947176368016983,
          -0.33084985805919587,
          -0.33065888169251423,
          -0.33105921187224396,
          -0.3319351311406251,
          -0.3386992482707285,
          -0.338866332648351,
          -0.33848442549951585,
          -0.3388004037776682,
          -0.3414499478651294,
          -0.343658246532911,
          -0.3414680750997121,
          -0.33893111656117014,
          -0.33893111656117014,
          -0.33893111656117014,
          -0.34034521602588086,
          -0.34034521602588086,
          -0.34145569010148336,
          -0.34064982180322545,
          -0.3406736927093732,
          -0.34046457340575387,
          -0.34168641295485713,
          -0.3438808717299935,
          -0.34590917249120423,
          -0.34752528540585104,
          -0.3469884788169111,
          -0.34741805258427405,
          -0.346684097013096,
          -0.3458902018622325,
          -0.3458902018622325,
          -0.3458902018622325,
          -0.3458902018622325,
          -0.3458902018622325,
          -0.3458902018622325,
          -0.3458902018622325,
          -0.3458902018622325,
          -0.3458902018622325,
          -0.3458902018622325,
          -0.3458902018622325,
          -0.3458902018622325,
          -0.3458902018622325,
          -0.3458902018622325,
          0.34315572764698743,
          0.3219437533814187,
          0.3224319758526377,
          0.32305352446492464,
          0.3190512309105884,
          0.22004491285318295,
          0.21935081745097307,
          0.21877639366982748,
          0.21308002450680874,
          0.2123694924451769,
          0.2125609716218122,
          0.21284819038677938,
          0.21568128891576066,
          0.21568128891576066,
          0.21568128891576066,
          0.21568128891576066,
          0.21568128891576066,
          0.21568128891576066,
          0.21568128891576066,
          0.21568128891576066,
          0.21568128891576066,
          0.21331322106394168,
          0.21331322106394168,
          0.21328928903091082,
          0.31109923342789614,
          0.31109923342789614,
          0.31109923342789614,
          0.31109923342789614,
          0.31109923342789614,
          0.31109923342789614,
          0.31109923342789614,
          0.31109923342789614,
          0.31109923342789614,
          0.20967138947820274,
          0.20904926084114095,
          0.2130377292520791,
          0.21409185441933687,
          0.17085283621284475,
          0.30927896999071436,
          0.2816515852736359,
          0.19577145741233437,
          0.13528878902337738,
          0.13281983204947778,
          0.14106423907823284,
          0.15679682872571732,
          0.14800829032461138,
          0.14816301820798117,
          0.14800829032461138,
          0.15679682872571732,
          0.15679682872571732
         ]
        },
        {
         "name": "ch G",
         "type": "scatter",
         "x": [
          0,
          1,
          2,
          3,
          4,
          5,
          6,
          7,
          8,
          9,
          10,
          11,
          12,
          13,
          14,
          15,
          16,
          17,
          18,
          19,
          20,
          21,
          22,
          23,
          24,
          25,
          26,
          27,
          28,
          29,
          30,
          31,
          32,
          33,
          34,
          35,
          36,
          37,
          38,
          39,
          40,
          41,
          42,
          43,
          44,
          45,
          46,
          47,
          48,
          49,
          50,
          51,
          52,
          53,
          54,
          55,
          56,
          57,
          58,
          59,
          60,
          61,
          62,
          63,
          64,
          65,
          66,
          67,
          68,
          69,
          70,
          71,
          72,
          73,
          74,
          75,
          76,
          77,
          78,
          79,
          80,
          81,
          82,
          83,
          84,
          85,
          86,
          87,
          88,
          89,
          90,
          91,
          92,
          93,
          94,
          95,
          96,
          97,
          98,
          99,
          100,
          101,
          102,
          103,
          104,
          105,
          106,
          107,
          108,
          109,
          110,
          111,
          112,
          113,
          114,
          115,
          116,
          117,
          118,
          119,
          120,
          121,
          122,
          123,
          124,
          125,
          126,
          127,
          128,
          129,
          130,
          131,
          132,
          133,
          134,
          135,
          136,
          137,
          138,
          139,
          140,
          141,
          142,
          143,
          144,
          145,
          146,
          147,
          148,
          149,
          150,
          151,
          152,
          153,
          154,
          155,
          156,
          157,
          158,
          159,
          160,
          161,
          162,
          163,
          164,
          165,
          166,
          167,
          168,
          169,
          170,
          171,
          172,
          173,
          174,
          175,
          176,
          177,
          178,
          179,
          180,
          181,
          182,
          183,
          184,
          185,
          186,
          187,
          188,
          189,
          190,
          191,
          192,
          193,
          194,
          195,
          196,
          197,
          198,
          199,
          200,
          201,
          202,
          203,
          204,
          205,
          206,
          207,
          208,
          209,
          210,
          211,
          212,
          213,
          214,
          215,
          216,
          217,
          218,
          219,
          220,
          221,
          222,
          223,
          224,
          225,
          226,
          227,
          228,
          229,
          230,
          231,
          232,
          233,
          234,
          235,
          236,
          237,
          238,
          239,
          240,
          241,
          242,
          243,
          244,
          245,
          246,
          247,
          248,
          249,
          250,
          251,
          252,
          253,
          254,
          255,
          256,
          257,
          258,
          259,
          260,
          261,
          262,
          263,
          264,
          265,
          266,
          267,
          268,
          269,
          270,
          271,
          272,
          273,
          274,
          275,
          276,
          277,
          278,
          279,
          280,
          281,
          282,
          283,
          284,
          285,
          286,
          287,
          288,
          289,
          290,
          291,
          292,
          293,
          294,
          295,
          296,
          297,
          298,
          299
         ],
         "y": [
          -0.07588054468439509,
          0.11141361697053753,
          0.129265222521866,
          0.12150879383506208,
          0.07833302050251234,
          0.22197907875755618,
          0.056584290211070254,
          0.04979640244575734,
          0.0434654584063523,
          0.05166884916471304,
          0.048593759876453646,
          0.044186245407331626,
          0.03400505327198289,
          0.053348933833845535,
          0.04558829530096631,
          0.042282237507713205,
          0.03732941814715218,
          0.1545179124902205,
          0.052489697318080175,
          0.07247857777758782,
          0.06364244018068632,
          0.16502571365924013,
          0.11391216165888096,
          0.1424038696455483,
          0.015086218546251473,
          0.035986549950052904,
          0.03887307333969403,
          0.04032621850839746,
          0.03400692808955341,
          0.045048773770098194,
          0.046773328498900923,
          0.04689584861567653,
          0.04286050240478545,
          0.049712864816484625,
          0.04894333741271595,
          0.04954246986891775,
          0.04354278812422052,
          0.04047568577671257,
          0.040212155913984304,
          0.04033194221522507,
          0.039346809227694735,
          0.039346809227694735,
          0.039346809227694735,
          0.039346809227694735,
          0.039346809227694735,
          0.053184221913852525,
          0.04987772392650669,
          0.051418961506556116,
          0.04922550247071911,
          0.0612760230293361,
          0.06036287153087727,
          0.06189448822342314,
          0.054821192721178136,
          0.054821192721178136,
          0.054821192721178136,
          0.054821192721178136,
          0.054821192721178136,
          0.053447783347628786,
          0.04859424922131694,
          0.049152627090109036,
          0.04901908651984854,
          0.051749866350228046,
          0.05178485508839259,
          0.0517874434784531,
          0.04783288495098503,
          0.0490457972029148,
          0.04792365165933887,
          0.04682842749990357,
          0.047322516716569396,
          0.049243366860835636,
          0.049384957449248645,
          0.049243366860835636,
          0.04737871591772347,
          0.05282454352889232,
          0.050789379014730685,
          0.04984123702337939,
          0.04630050583342182,
          0.10371794477199359,
          0.10371794477199359,
          0.10333529339073522,
          0.048898700597689526,
          0.048618329867252896,
          0.048618329867252896,
          0.1059688146393043,
          0.10741023302077224,
          0.10710326324697661,
          0.10674326612695495,
          0.10588315378539193,
          0.10728770247139607,
          0.1078422710401199,
          0.10796103776829824,
          0.10803304583319573,
          0.10984646267799292,
          0.12992851365272173,
          0.12116437022816484,
          0.13147393890028525,
          0.08559587433164495,
          0.13420708714547658,
          0.12456277646343494,
          0.1198164673657729,
          0.10847738700286413,
          0.18713183509893838,
          0.13712803395667805,
          0.02423915783938213,
          -0.01024832577536472,
          0.01057847064470252,
          0.008383167761834898,
          0.009286700685763094,
          -0.004047455409214251,
          0.01137023847981311,
          0.013604474962328084,
          0.01588139656431764,
          0.011049650698382152,
          0.0043146159884344115,
          -0.002087230797542361,
          0.0006042541219457576,
          -0.005645825463339804,
          0.02981323985721218,
          0.025037180529679404,
          -0.016755315989925634,
          -0.053452099969327094,
          0.02101942793400724,
          0.014087952485873245,
          0.13365497287958306,
          0.11478534963236342,
          0.311274226242908,
          0.24437038229424957,
          0.285080262577452,
          0.17561687066452691,
          0.294491464302979,
          0.2791158897148236,
          0.23668942461358,
          0.14844199566384475,
          0.23751503662979445,
          0.2088606935508608,
          0.23275691084825212,
          0.19239257463477344,
          0.2319401719652916,
          0.22968005879935305,
          0.23234925569883558,
          0.15887559577954846,
          0.20317609916574497,
          0.04141081544175762,
          0.041044038514037595,
          0.07647933642938654,
          0.1029071857362922,
          0.10171986471111438,
          0.10320427106328367,
          0.08906998753035822,
          0.18496756941138415,
          0.08299891264388037,
          0.12353230555981298,
          0.10316466866462548,
          0.10683774078098907,
          0.10041536403442564,
          0.10168819376193028,
          0.08264955758631487,
          0.09496758555290086,
          0.09465769282346059,
          0.09482455813930812,
          0.09850383028922494,
          0.10063100285599802,
          0.10063100285599802,
          0.10063100285599802,
          0.10036863582838151,
          0.09974849558127374,
          0.09974849558127374,
          0.09974849558127374,
          0.09970079248534347,
          0.1104018928373307,
          0.11061541970051536,
          0.11002257845785124,
          0.10658806379213104,
          0.15518639988508198,
          0.13062610050496204,
          0.12314573273330609,
          0.05213208533911029,
          0.08360237918370217,
          0.0796480490184166,
          0.07986216517251421,
          0.0702010019059287,
          0.0806985297698617,
          0.07965295307533182,
          0.0812948167858707,
          0.06875649647869864,
          0.16123160086509358,
          0.14353645013155614,
          0.18208998296152856,
          0.15299389469267055,
          0.15952078730300912,
          0.13044048250350215,
          0.12913679648470122,
          0.06420162402068996,
          0.11505531846029982,
          -0.0046193321026990475,
          0.02846657473612879,
          -0.06417300259374059,
          -0.03364075586856785,
          -0.032297973989813045,
          -0.03331945344389453,
          -0.06656148823432062,
          -0.04930958673720198,
          -0.04832565348596063,
          -0.04654817587925919,
          -0.060853139855048255,
          -0.047653557406874825,
          -0.06635932651924747,
          -0.06447361496150705,
          -0.07432272303321241,
          -0.07516583329110915,
          -0.07497485692443462,
          -0.07473053815193254,
          -0.07976070288025738,
          -0.07831239628489328,
          -0.07852721905610593,
          -0.07804983512007624,
          -0.08091988411699447,
          -0.0827817259081769,
          -0.08293722693129979,
          -0.08153473785309728,
          -0.08054944120311802,
          -0.08054944120311802,
          -0.08054944120311802,
          -0.08248876784328019,
          -0.08248876784328019,
          -0.08140303649867775,
          -0.08121782657502763,
          -0.08117008476274634,
          -0.08172488061212846,
          -0.06099451974151293,
          -0.06831747555906276,
          -0.071085509539067,
          -0.08121954482449922,
          -0.07796237321518618,
          -0.07836808177324883,
          -0.07777712095903411,
          -0.0792739150754258,
          -0.0792739150754258,
          -0.0792739150754258,
          -0.0792739150754258,
          -0.0792739150754258,
          -0.0792739150754258,
          -0.0792739150754258,
          -0.0792739150754258,
          -0.0792739150754258,
          -0.0792739150754258,
          -0.0792739150754258,
          -0.0792739150754258,
          -0.0792739150754258,
          -0.0792739150754258,
          -0.2268876483084199,
          -0.2262613348964777,
          -0.22619884641130739,
          -0.22545776921975147,
          -0.22975148597699047,
          -0.2938444050243376,
          -0.29444276312969464,
          -0.29496931826241024,
          -0.30176666633929017,
          -0.300700643110666,
          -0.30058096862526895,
          -0.30022194516907064,
          -0.29914684082810794,
          -0.29914684082810794,
          -0.29914684082810794,
          -0.29914684082810794,
          -0.29914684082810794,
          -0.29914684082810794,
          -0.29914684082810794,
          -0.29914684082810794,
          -0.29914684082810794,
          -0.2994728719625357,
          -0.2994728719625357,
          -0.2994728719625357,
          -0.234781648102647,
          -0.234781648102647,
          -0.234781648102647,
          -0.234781648102647,
          -0.234781648102647,
          -0.234781648102647,
          -0.234781648102647,
          -0.234781648102647,
          -0.234781648102647,
          -0.29360536645917534,
          -0.2948256957087949,
          -0.2900532551436896,
          -0.28956637821070785,
          -0.25698713720930044,
          -0.195716429413757,
          -0.17294728819584293,
          -0.26539598508522033,
          -0.21012811481076454,
          -0.21338701892052114,
          -0.19504435042044577,
          -0.22509270898159883,
          -0.21691073154013196,
          -0.21859553656803143,
          -0.21691073154013196,
          -0.22509270898159883,
          -0.22509270898159883
         ]
        }
       ],
       "layout": {
        "font": {
         "color": "#7f7f7f",
         "family": "Courier New, monospace",
         "size": 14
        },
        "height": 400,
        "template": {
         "data": {
          "bar": [
           {
            "error_x": {
             "color": "#2a3f5f"
            },
            "error_y": {
             "color": "#2a3f5f"
            },
            "marker": {
             "line": {
              "color": "#E5ECF6",
              "width": 0.5
             },
             "pattern": {
              "fillmode": "overlay",
              "size": 10,
              "solidity": 0.2
             }
            },
            "type": "bar"
           }
          ],
          "barpolar": [
           {
            "marker": {
             "line": {
              "color": "#E5ECF6",
              "width": 0.5
             },
             "pattern": {
              "fillmode": "overlay",
              "size": 10,
              "solidity": 0.2
             }
            },
            "type": "barpolar"
           }
          ],
          "carpet": [
           {
            "aaxis": {
             "endlinecolor": "#2a3f5f",
             "gridcolor": "white",
             "linecolor": "white",
             "minorgridcolor": "white",
             "startlinecolor": "#2a3f5f"
            },
            "baxis": {
             "endlinecolor": "#2a3f5f",
             "gridcolor": "white",
             "linecolor": "white",
             "minorgridcolor": "white",
             "startlinecolor": "#2a3f5f"
            },
            "type": "carpet"
           }
          ],
          "choropleth": [
           {
            "colorbar": {
             "outlinewidth": 0,
             "ticks": ""
            },
            "type": "choropleth"
           }
          ],
          "contour": [
           {
            "colorbar": {
             "outlinewidth": 0,
             "ticks": ""
            },
            "colorscale": [
             [
              0,
              "#0d0887"
             ],
             [
              0.1111111111111111,
              "#46039f"
             ],
             [
              0.2222222222222222,
              "#7201a8"
             ],
             [
              0.3333333333333333,
              "#9c179e"
             ],
             [
              0.4444444444444444,
              "#bd3786"
             ],
             [
              0.5555555555555556,
              "#d8576b"
             ],
             [
              0.6666666666666666,
              "#ed7953"
             ],
             [
              0.7777777777777778,
              "#fb9f3a"
             ],
             [
              0.8888888888888888,
              "#fdca26"
             ],
             [
              1,
              "#f0f921"
             ]
            ],
            "type": "contour"
           }
          ],
          "contourcarpet": [
           {
            "colorbar": {
             "outlinewidth": 0,
             "ticks": ""
            },
            "type": "contourcarpet"
           }
          ],
          "heatmap": [
           {
            "colorbar": {
             "outlinewidth": 0,
             "ticks": ""
            },
            "colorscale": [
             [
              0,
              "#0d0887"
             ],
             [
              0.1111111111111111,
              "#46039f"
             ],
             [
              0.2222222222222222,
              "#7201a8"
             ],
             [
              0.3333333333333333,
              "#9c179e"
             ],
             [
              0.4444444444444444,
              "#bd3786"
             ],
             [
              0.5555555555555556,
              "#d8576b"
             ],
             [
              0.6666666666666666,
              "#ed7953"
             ],
             [
              0.7777777777777778,
              "#fb9f3a"
             ],
             [
              0.8888888888888888,
              "#fdca26"
             ],
             [
              1,
              "#f0f921"
             ]
            ],
            "type": "heatmap"
           }
          ],
          "heatmapgl": [
           {
            "colorbar": {
             "outlinewidth": 0,
             "ticks": ""
            },
            "colorscale": [
             [
              0,
              "#0d0887"
             ],
             [
              0.1111111111111111,
              "#46039f"
             ],
             [
              0.2222222222222222,
              "#7201a8"
             ],
             [
              0.3333333333333333,
              "#9c179e"
             ],
             [
              0.4444444444444444,
              "#bd3786"
             ],
             [
              0.5555555555555556,
              "#d8576b"
             ],
             [
              0.6666666666666666,
              "#ed7953"
             ],
             [
              0.7777777777777778,
              "#fb9f3a"
             ],
             [
              0.8888888888888888,
              "#fdca26"
             ],
             [
              1,
              "#f0f921"
             ]
            ],
            "type": "heatmapgl"
           }
          ],
          "histogram": [
           {
            "marker": {
             "pattern": {
              "fillmode": "overlay",
              "size": 10,
              "solidity": 0.2
             }
            },
            "type": "histogram"
           }
          ],
          "histogram2d": [
           {
            "colorbar": {
             "outlinewidth": 0,
             "ticks": ""
            },
            "colorscale": [
             [
              0,
              "#0d0887"
             ],
             [
              0.1111111111111111,
              "#46039f"
             ],
             [
              0.2222222222222222,
              "#7201a8"
             ],
             [
              0.3333333333333333,
              "#9c179e"
             ],
             [
              0.4444444444444444,
              "#bd3786"
             ],
             [
              0.5555555555555556,
              "#d8576b"
             ],
             [
              0.6666666666666666,
              "#ed7953"
             ],
             [
              0.7777777777777778,
              "#fb9f3a"
             ],
             [
              0.8888888888888888,
              "#fdca26"
             ],
             [
              1,
              "#f0f921"
             ]
            ],
            "type": "histogram2d"
           }
          ],
          "histogram2dcontour": [
           {
            "colorbar": {
             "outlinewidth": 0,
             "ticks": ""
            },
            "colorscale": [
             [
              0,
              "#0d0887"
             ],
             [
              0.1111111111111111,
              "#46039f"
             ],
             [
              0.2222222222222222,
              "#7201a8"
             ],
             [
              0.3333333333333333,
              "#9c179e"
             ],
             [
              0.4444444444444444,
              "#bd3786"
             ],
             [
              0.5555555555555556,
              "#d8576b"
             ],
             [
              0.6666666666666666,
              "#ed7953"
             ],
             [
              0.7777777777777778,
              "#fb9f3a"
             ],
             [
              0.8888888888888888,
              "#fdca26"
             ],
             [
              1,
              "#f0f921"
             ]
            ],
            "type": "histogram2dcontour"
           }
          ],
          "mesh3d": [
           {
            "colorbar": {
             "outlinewidth": 0,
             "ticks": ""
            },
            "type": "mesh3d"
           }
          ],
          "parcoords": [
           {
            "line": {
             "colorbar": {
              "outlinewidth": 0,
              "ticks": ""
             }
            },
            "type": "parcoords"
           }
          ],
          "pie": [
           {
            "automargin": true,
            "type": "pie"
           }
          ],
          "scatter": [
           {
            "marker": {
             "colorbar": {
              "outlinewidth": 0,
              "ticks": ""
             }
            },
            "type": "scatter"
           }
          ],
          "scatter3d": [
           {
            "line": {
             "colorbar": {
              "outlinewidth": 0,
              "ticks": ""
             }
            },
            "marker": {
             "colorbar": {
              "outlinewidth": 0,
              "ticks": ""
             }
            },
            "type": "scatter3d"
           }
          ],
          "scattercarpet": [
           {
            "marker": {
             "colorbar": {
              "outlinewidth": 0,
              "ticks": ""
             }
            },
            "type": "scattercarpet"
           }
          ],
          "scattergeo": [
           {
            "marker": {
             "colorbar": {
              "outlinewidth": 0,
              "ticks": ""
             }
            },
            "type": "scattergeo"
           }
          ],
          "scattergl": [
           {
            "marker": {
             "colorbar": {
              "outlinewidth": 0,
              "ticks": ""
             }
            },
            "type": "scattergl"
           }
          ],
          "scattermapbox": [
           {
            "marker": {
             "colorbar": {
              "outlinewidth": 0,
              "ticks": ""
             }
            },
            "type": "scattermapbox"
           }
          ],
          "scatterpolar": [
           {
            "marker": {
             "colorbar": {
              "outlinewidth": 0,
              "ticks": ""
             }
            },
            "type": "scatterpolar"
           }
          ],
          "scatterpolargl": [
           {
            "marker": {
             "colorbar": {
              "outlinewidth": 0,
              "ticks": ""
             }
            },
            "type": "scatterpolargl"
           }
          ],
          "scatterternary": [
           {
            "marker": {
             "colorbar": {
              "outlinewidth": 0,
              "ticks": ""
             }
            },
            "type": "scatterternary"
           }
          ],
          "surface": [
           {
            "colorbar": {
             "outlinewidth": 0,
             "ticks": ""
            },
            "colorscale": [
             [
              0,
              "#0d0887"
             ],
             [
              0.1111111111111111,
              "#46039f"
             ],
             [
              0.2222222222222222,
              "#7201a8"
             ],
             [
              0.3333333333333333,
              "#9c179e"
             ],
             [
              0.4444444444444444,
              "#bd3786"
             ],
             [
              0.5555555555555556,
              "#d8576b"
             ],
             [
              0.6666666666666666,
              "#ed7953"
             ],
             [
              0.7777777777777778,
              "#fb9f3a"
             ],
             [
              0.8888888888888888,
              "#fdca26"
             ],
             [
              1,
              "#f0f921"
             ]
            ],
            "type": "surface"
           }
          ],
          "table": [
           {
            "cells": {
             "fill": {
              "color": "#EBF0F8"
             },
             "line": {
              "color": "white"
             }
            },
            "header": {
             "fill": {
              "color": "#C8D4E3"
             },
             "line": {
              "color": "white"
             }
            },
            "type": "table"
           }
          ]
         },
         "layout": {
          "annotationdefaults": {
           "arrowcolor": "#2a3f5f",
           "arrowhead": 0,
           "arrowwidth": 1
          },
          "autotypenumbers": "strict",
          "coloraxis": {
           "colorbar": {
            "outlinewidth": 0,
            "ticks": ""
           }
          },
          "colorscale": {
           "diverging": [
            [
             0,
             "#8e0152"
            ],
            [
             0.1,
             "#c51b7d"
            ],
            [
             0.2,
             "#de77ae"
            ],
            [
             0.3,
             "#f1b6da"
            ],
            [
             0.4,
             "#fde0ef"
            ],
            [
             0.5,
             "#f7f7f7"
            ],
            [
             0.6,
             "#e6f5d0"
            ],
            [
             0.7,
             "#b8e186"
            ],
            [
             0.8,
             "#7fbc41"
            ],
            [
             0.9,
             "#4d9221"
            ],
            [
             1,
             "#276419"
            ]
           ],
           "sequential": [
            [
             0,
             "#0d0887"
            ],
            [
             0.1111111111111111,
             "#46039f"
            ],
            [
             0.2222222222222222,
             "#7201a8"
            ],
            [
             0.3333333333333333,
             "#9c179e"
            ],
            [
             0.4444444444444444,
             "#bd3786"
            ],
            [
             0.5555555555555556,
             "#d8576b"
            ],
            [
             0.6666666666666666,
             "#ed7953"
            ],
            [
             0.7777777777777778,
             "#fb9f3a"
            ],
            [
             0.8888888888888888,
             "#fdca26"
            ],
            [
             1,
             "#f0f921"
            ]
           ],
           "sequentialminus": [
            [
             0,
             "#0d0887"
            ],
            [
             0.1111111111111111,
             "#46039f"
            ],
            [
             0.2222222222222222,
             "#7201a8"
            ],
            [
             0.3333333333333333,
             "#9c179e"
            ],
            [
             0.4444444444444444,
             "#bd3786"
            ],
            [
             0.5555555555555556,
             "#d8576b"
            ],
            [
             0.6666666666666666,
             "#ed7953"
            ],
            [
             0.7777777777777778,
             "#fb9f3a"
            ],
            [
             0.8888888888888888,
             "#fdca26"
            ],
            [
             1,
             "#f0f921"
            ]
           ]
          },
          "colorway": [
           "#636efa",
           "#EF553B",
           "#00cc96",
           "#ab63fa",
           "#FFA15A",
           "#19d3f3",
           "#FF6692",
           "#B6E880",
           "#FF97FF",
           "#FECB52"
          ],
          "font": {
           "color": "#2a3f5f"
          },
          "geo": {
           "bgcolor": "white",
           "lakecolor": "white",
           "landcolor": "#E5ECF6",
           "showlakes": true,
           "showland": true,
           "subunitcolor": "white"
          },
          "hoverlabel": {
           "align": "left"
          },
          "hovermode": "closest",
          "mapbox": {
           "style": "light"
          },
          "paper_bgcolor": "white",
          "plot_bgcolor": "#E5ECF6",
          "polar": {
           "angularaxis": {
            "gridcolor": "white",
            "linecolor": "white",
            "ticks": ""
           },
           "bgcolor": "#E5ECF6",
           "radialaxis": {
            "gridcolor": "white",
            "linecolor": "white",
            "ticks": ""
           }
          },
          "scene": {
           "xaxis": {
            "backgroundcolor": "#E5ECF6",
            "gridcolor": "white",
            "gridwidth": 2,
            "linecolor": "white",
            "showbackground": true,
            "ticks": "",
            "zerolinecolor": "white"
           },
           "yaxis": {
            "backgroundcolor": "#E5ECF6",
            "gridcolor": "white",
            "gridwidth": 2,
            "linecolor": "white",
            "showbackground": true,
            "ticks": "",
            "zerolinecolor": "white"
           },
           "zaxis": {
            "backgroundcolor": "#E5ECF6",
            "gridcolor": "white",
            "gridwidth": 2,
            "linecolor": "white",
            "showbackground": true,
            "ticks": "",
            "zerolinecolor": "white"
           }
          },
          "shapedefaults": {
           "line": {
            "color": "#2a3f5f"
           }
          },
          "ternary": {
           "aaxis": {
            "gridcolor": "white",
            "linecolor": "white",
            "ticks": ""
           },
           "baxis": {
            "gridcolor": "white",
            "linecolor": "white",
            "ticks": ""
           },
           "bgcolor": "#E5ECF6",
           "caxis": {
            "gridcolor": "white",
            "linecolor": "white",
            "ticks": ""
           }
          },
          "title": {
           "x": 0.05
          },
          "xaxis": {
           "automargin": true,
           "gridcolor": "white",
           "linecolor": "white",
           "ticks": "",
           "title": {
            "standoff": 15
           },
           "zerolinecolor": "white",
           "zerolinewidth": 2
          },
          "yaxis": {
           "automargin": true,
           "gridcolor": "white",
           "linecolor": "white",
           "ticks": "",
           "title": {
            "standoff": 15
           },
           "zerolinecolor": "white",
           "zerolinewidth": 2
          }
         }
        },
        "title": {
         "text": "RGB raw data"
        },
        "width": 800
       }
      },
      "text/html": [
       "<div>                            <div id=\"62e49cf7-473e-4af1-b5c6-7442d96e2348\" class=\"plotly-graph-div\" style=\"height:400px; width:800px;\"></div>            <script type=\"text/javascript\">                require([\"plotly\"], function(Plotly) {                    window.PLOTLYENV=window.PLOTLYENV || {};                                    if (document.getElementById(\"62e49cf7-473e-4af1-b5c6-7442d96e2348\")) {                    Plotly.newPlot(                        \"62e49cf7-473e-4af1-b5c6-7442d96e2348\",                        [{\"name\":\"ch B\",\"type\":\"scatter\",\"x\":[0.0,1.0,2.0,3.0,4.0,5.0,6.0,7.0,8.0,9.0,10.0,11.0,12.0,13.0,14.0,15.0,16.0,17.0,18.0,19.0,20.0,21.0,22.0,23.0,24.0,25.0,26.0,27.0,28.0,29.0,30.0,31.0,32.0,33.0,34.0,35.0,36.0,37.0,38.0,39.0,40.0,41.0,42.0,43.0,44.0,45.0,46.0,47.0,48.0,49.0,50.0,51.0,52.0,53.0,54.0,55.0,56.0,57.0,58.0,59.0,60.0,61.0,62.0,63.0,64.0,65.0,66.0,67.0,68.0,69.0,70.0,71.0,72.0,73.0,74.0,75.0,76.0,77.0,78.0,79.0,80.0,81.0,82.0,83.0,84.0,85.0,86.0,87.0,88.0,89.0,90.0,91.0,92.0,93.0,94.0,95.0,96.0,97.0,98.0,99.0,100.0,101.0,102.0,103.0,104.0,105.0,106.0,107.0,108.0,109.0,110.0,111.0,112.0,113.0,114.0,115.0,116.0,117.0,118.0,119.0,120.0,121.0,122.0,123.0,124.0,125.0,126.0,127.0,128.0,129.0,130.0,131.0,132.0,133.0,134.0,135.0,136.0,137.0,138.0,139.0,140.0,141.0,142.0,143.0,144.0,145.0,146.0,147.0,148.0,149.0,150.0,151.0,152.0,153.0,154.0,155.0,156.0,157.0,158.0,159.0,160.0,161.0,162.0,163.0,164.0,165.0,166.0,167.0,168.0,169.0,170.0,171.0,172.0,173.0,174.0,175.0,176.0,177.0,178.0,179.0,180.0,181.0,182.0,183.0,184.0,185.0,186.0,187.0,188.0,189.0,190.0,191.0,192.0,193.0,194.0,195.0,196.0,197.0,198.0,199.0,200.0,201.0,202.0,203.0,204.0,205.0,206.0,207.0,208.0,209.0,210.0,211.0,212.0,213.0,214.0,215.0,216.0,217.0,218.0,219.0,220.0,221.0,222.0,223.0,224.0,225.0,226.0,227.0,228.0,229.0,230.0,231.0,232.0,233.0,234.0,235.0,236.0,237.0,238.0,239.0,240.0,241.0,242.0,243.0,244.0,245.0,246.0,247.0,248.0,249.0,250.0,251.0,252.0,253.0,254.0,255.0,256.0,257.0,258.0,259.0,260.0,261.0,262.0,263.0,264.0,265.0,266.0,267.0,268.0,269.0,270.0,271.0,272.0,273.0,274.0,275.0,276.0,277.0,278.0,279.0,280.0,281.0,282.0,283.0,284.0,285.0,286.0,287.0,288.0,289.0,290.0,291.0,292.0,293.0,294.0,295.0,296.0,297.0,298.0,299.0],\"y\":[-0.06087076344518039,-0.04627403025126853,0.013022528241933173,0.0036000254372794416,-0.016275900354557393,0.15164819445871558,0.02504719696544555,0.129007532662186,0.13588759032627706,0.1374874288861605,0.13326378157898944,0.137297635702339,0.12630414243157873,0.13846319792837392,0.13306731274740002,0.12239576645674788,0.12223149205649975,0.07962628031469876,-0.04753635594403249,0.046697455528459386,0.042176889239939896,-0.024628141370584444,-0.003232709731676664,0.1277700002334825,0.09776900859988302,-0.005774095732604678,0.11481399175579554,0.0036107638782141294,0.004534926817157725,0.008399659937794013,0.011324258110008145,0.009092896278133367,0.011763162991215381,0.02089475216442338,0.020059052556547385,0.02046646262675722,0.01580212082147625,0.008420831750413527,0.008037515586451605,0.00822917366842546,0.007465304403524442,0.007465304403524442,0.007465304403524442,0.007465304403524442,0.007465304403524442,0.02508705378190257,0.022595200226220413,0.022993116114733425,0.02305671663536657,0.04094709289516629,0.04003986924342939,0.041817101514439514,0.035492789069834885,0.035492789069834885,0.035492789069834885,0.035492789069834885,0.035492789069834885,0.026931983818315075,0.14538450874925957,0.1441941337838557,0.1456432562640515,0.036304069649091275,0.041234704044882164,0.039601373050402344,0.03499970494571869,0.14710403512744108,0.1458593271531754,0.1438393495578083,0.14763868658377532,0.15054656111092868,0.15230779237118952,0.153070842291811,0.15365521614093325,0.16116245515165417,0.1600855687237157,0.15926035145048445,0.1554584140359907,0.2381938274925801,0.2381938274925801,0.2373215289940731,0.15792739276460566,0.15778807942517403,0.15778807942517403,0.24242752357409358,0.24304317066544456,0.2428654846424365,0.24262548656241734,0.24176032026561245,0.24409215704983467,0.24489133330375523,0.24473178165099796,0.24475578433929002,0.24627244847980023,0.252688099382695,0.24073060079984998,0.20391407204962775,0.19641646187484696,0.24125935277834287,0.25805099125756215,0.24051706293502662,0.2334961124761321,0.24659058389245558,0.20138839771676942,0.06231651301236241,0.015292204197749015,0.02578355584540759,0.021194700631653518,0.02299850018154359,0.009557985618243947,0.016344582349361758,0.024265646211077296,0.027764915199398388,0.029815360571987526,0.006241367475297466,-0.0003457234384853791,-0.00025502887955042297,-0.010177576746528416,-0.02363879065718777,-0.02844221577566941,-0.08192662733728184,-0.11558250176763352,-0.06690310539555355,-0.06362140266024596,0.05742569166869771,0.049623513130924835,0.18577459591499235,0.12481946901817764,0.16202379141215317,0.12666191969601925,0.22605186461198912,0.22120797672653225,0.14634333093873408,0.1086111368454965,0.14419544940699325,0.1285983034395315,0.1480305705242131,0.16107313020263803,0.1546114323435006,0.1595350520561709,0.16205645705541372,0.07143275606844668,0.07335874608951087,-0.05842660889011597,-0.0540996454767253,0.00865220364899244,0.02883426588731197,0.02910748134767971,0.03128885953765348,0.023943532038671833,0.0653842090615342,-0.03846227320886442,0.1019373336463616,0.09487495685665692,0.06969614868565088,0.06792294328808168,0.06853699908160138,-0.04278204544715436,0.06815136082980189,0.06788914390489253,0.06805600922074007,0.07842621031333863,0.07970086370838203,0.07970086370838203,0.07970086370838203,0.07941464513280039,0.07915227810518388,0.07915227810518388,0.07917612965314902,0.07912842655721875,0.09075344082168613,0.09204640854797219,0.09041000334880778,-0.010157676914076319,0.10213967339397811,0.08874972738269093,0.06885807235390473,0.04153834705809345,0.05029994487617273,0.04891255913759096,0.03171273682136189,0.023506245107753898,0.03900997598492495,0.036896150877595346,0.039055569478350094,0.02782388532013158,0.014873057637785791,0.1087747028943653,0.1618241940188483,0.060879312899601246,0.06199125753676071,0.04516067941938218,0.03399536035523454,0.006514806255268013,0.013148522653821715,-0.1131594715057389,-0.04909896367101396,-0.08270762156311662,-0.07926012060073617,-0.0766781601404034,-0.0758392397411285,-0.09950670521595839,-0.08568581316670532,-0.08623550472624686,-0.08836378244672005,-0.09922561629109339,-0.09228372782048666,-0.11354871393179167,-0.11290423023484664,-0.12444282293839137,-0.13088036167630435,-0.1307132573554668,-0.13119014151799036,-0.1318125146868141,-0.13278715095280802,-0.13295423533041628,-0.13254845898478607,-0.13758556885134965,-0.13944741064253208,-0.1404245168244529,-0.13777581308433184,-0.13512828430343404,-0.13512828430343404,-0.13512828430343404,-0.1360360511405787,-0.1360360511405787,-0.13720435284531618,-0.13539086427097402,-0.13534312245869273,-0.13412633306271005,-0.13852791802915476,-0.14776557858309047,-0.14103639252826383,-0.14466961879989526,-0.1424006673460525,-0.14275864548551453,-0.14099341054927095,-0.14175954203771823,-0.14175954203771823,-0.14175954203771823,-0.14175954203771823,-0.14175954203771823,-0.14175954203771823,-0.14175954203771823,-0.14175954203771823,-0.14175954203771823,-0.14175954203771823,-0.14175954203771823,-0.14175954203771823,-0.14175954203771823,-0.14175954203771823,-0.08882213872230693,-0.10559672077523885,-0.10519026931606845,-0.10447309784036918,-0.10913468214452848,-0.19635290611248024,-0.19695126421784437,-0.1975017536747714,-0.20417943013057993,-0.20260203213442196,-0.20245842275194548,-0.20193185501618416,-0.1990553022352941,-0.1990553022352941,-0.1990553022352941,-0.1990553022352941,-0.1990553022352941,-0.1990553022352941,-0.1990553022352941,-0.1990553022352941,-0.1990553022352941,-0.20065220153460928,-0.20065220153460928,-0.20062826950157842,-0.1120507097788419,-0.1120507097788419,-0.1120507097788419,-0.1120507097788419,-0.1120507097788419,-0.1120507097788419,-0.1120507097788419,-0.1120507097788419,-0.1120507097788419,-0.19628176002800046,-0.19845921025770963,-0.19381511695259235,-0.19330650746310596,-0.2637898914489085,-0.07840604788296446,-0.14091690231072107,-0.22353294554351066,-0.23445691952963443,-0.2427564132177622,-0.22364415431729867,-0.23205491920977295,-0.22699526622226074,-0.22788199690718614,-0.22699526622226074,-0.23205491920977295,-0.23205491920977295]},{\"name\":\"ch R\",\"type\":\"scatter\",\"x\":[0.0,1.0,2.0,3.0,4.0,5.0,6.0,7.0,8.0,9.0,10.0,11.0,12.0,13.0,14.0,15.0,16.0,17.0,18.0,19.0,20.0,21.0,22.0,23.0,24.0,25.0,26.0,27.0,28.0,29.0,30.0,31.0,32.0,33.0,34.0,35.0,36.0,37.0,38.0,39.0,40.0,41.0,42.0,43.0,44.0,45.0,46.0,47.0,48.0,49.0,50.0,51.0,52.0,53.0,54.0,55.0,56.0,57.0,58.0,59.0,60.0,61.0,62.0,63.0,64.0,65.0,66.0,67.0,68.0,69.0,70.0,71.0,72.0,73.0,74.0,75.0,76.0,77.0,78.0,79.0,80.0,81.0,82.0,83.0,84.0,85.0,86.0,87.0,88.0,89.0,90.0,91.0,92.0,93.0,94.0,95.0,96.0,97.0,98.0,99.0,100.0,101.0,102.0,103.0,104.0,105.0,106.0,107.0,108.0,109.0,110.0,111.0,112.0,113.0,114.0,115.0,116.0,117.0,118.0,119.0,120.0,121.0,122.0,123.0,124.0,125.0,126.0,127.0,128.0,129.0,130.0,131.0,132.0,133.0,134.0,135.0,136.0,137.0,138.0,139.0,140.0,141.0,142.0,143.0,144.0,145.0,146.0,147.0,148.0,149.0,150.0,151.0,152.0,153.0,154.0,155.0,156.0,157.0,158.0,159.0,160.0,161.0,162.0,163.0,164.0,165.0,166.0,167.0,168.0,169.0,170.0,171.0,172.0,173.0,174.0,175.0,176.0,177.0,178.0,179.0,180.0,181.0,182.0,183.0,184.0,185.0,186.0,187.0,188.0,189.0,190.0,191.0,192.0,193.0,194.0,195.0,196.0,197.0,198.0,199.0,200.0,201.0,202.0,203.0,204.0,205.0,206.0,207.0,208.0,209.0,210.0,211.0,212.0,213.0,214.0,215.0,216.0,217.0,218.0,219.0,220.0,221.0,222.0,223.0,224.0,225.0,226.0,227.0,228.0,229.0,230.0,231.0,232.0,233.0,234.0,235.0,236.0,237.0,238.0,239.0,240.0,241.0,242.0,243.0,244.0,245.0,246.0,247.0,248.0,249.0,250.0,251.0,252.0,253.0,254.0,255.0,256.0,257.0,258.0,259.0,260.0,261.0,262.0,263.0,264.0,265.0,266.0,267.0,268.0,269.0,270.0,271.0,272.0,273.0,274.0,275.0,276.0,277.0,278.0,279.0,280.0,281.0,282.0,283.0,284.0,285.0,286.0,287.0,288.0,289.0,290.0,291.0,292.0,293.0,294.0,295.0,296.0,297.0,298.0,299.0],\"y\":[0.25181691318822175,0.16882579976736167,0.26739243153937764,0.2034196130368997,0.2031277184506166,0.2677395580192581,0.16165633073627816,0.19913861796733556,0.204960558857195,0.17388215477932079,0.1716740467106206,0.16088194391463162,0.16853308802014055,0.15699780627736004,0.1554429572582876,0.1481789334053616,0.155097945623055,0.0687412548182067,0.06998026425044657,0.17928301164307925,0.19546210641209427,0.13728915774878203,0.19178079562259143,0.2573615665779272,0.3020073428030372,0.22599117686336,0.2835732913408435,0.2327303936946663,0.24530488600572653,0.23660357000433407,0.2420201055796838,0.2401188568845356,0.2480788787342192,0.24432140762239385,0.2440660624465636,0.24416192363955247,0.24308425028830527,0.23333729717880658,0.23321751087756581,0.2332893826582989,0.2334411358883841,0.2334411358883841,0.2334411358883841,0.2334411358883841,0.2334411358883841,0.24011013450601126,0.24013409463636037,0.2403970843197385,0.24324144234014966,0.25212827815521166,0.2512259488977122,0.2527923570947763,0.24990054699884467,0.24990054699884467,0.24990054699884467,0.24990054699884467,0.24990054699884467,0.2376182809503291,0.2850955647049034,0.2847163304840734,0.28704722779686165,0.2357180717328191,0.23798739662703383,0.2369966268581436,0.2349114959982188,0.2813387286344664,0.2802050677825889,0.27795645309628014,0.2808062027253726,0.27789598123420944,0.2774483021002254,0.27650161639144244,0.27568141395063606,0.2755546982683228,0.2739172887457215,0.2731513252572313,0.27267360656695416,0.36294098076562875,0.36294098076562875,0.36216185504451914,0.27146302369109776,0.2707152690798438,0.2707152690798438,0.3661778711137913,0.36741477032144587,0.3660498239407701,0.36580982586075095,0.3646003202020296,0.3684933956646148,0.36847086325761325,0.36843412381409735,0.3684821291906957,0.37218472811819936,0.35928378970599795,0.35225856099899033,0.2872294164789366,0.3028777101889091,0.31958457207065294,0.31917971129836076,0.30669932768672936,0.30866447983855494,0.23113257000939313,0.20155723764474942,0.0928905526833006,0.0718978596307096,0.06703038001502648,0.0639786995261602,0.06484945687911647,0.05730706665367791,0.054398884969060646,0.06496532247129494,0.0658041883246625,0.06668308711215332,0.043339407061850466,0.03740003896254507,0.03842377123774554,0.032813493904825464,-0.009433009770461354,-0.010980207143930443,-0.09256249165349573,-0.1039571902615819,-0.1269414431422149,-0.12190205788185438,-0.0484914054054002,-0.04187302908711388,-0.1039563941913002,-0.10677251331287607,-0.09725001034772163,-0.036147385809556454,-0.060035796559546384,-0.05189182010991544,-0.1259303471437363,-0.11227903761475488,-0.15431790797974543,-0.1659537860385143,-0.1592172135994474,-0.09683509702566084,-0.11283322957167741,-0.10377599606617594,-0.10263127136651917,-0.19459940556039612,-0.25302910822105673,-0.3730314551544893,-0.3742691578427326,-0.2968958811556206,-0.310476278880472,-0.3052797535142133,-0.3065721502976402,-0.3019831020506132,-0.367420887922421,-0.45101182864584644,-0.28302495600496513,-0.273654571231134,-0.31672154995381163,-0.3169823397720819,-0.3178041325735279,-0.3574310864036221,-0.3170048624679822,-0.31724324149062966,-0.3170287003702441,-0.30564677953957187,-0.3071586273424316,-0.3071586273424316,-0.3071586273424316,-0.3073971428220972,-0.30699166650667564,-0.30699166650667564,-0.3070155180546408,-0.3069678149587105,-0.3043781191554018,-0.3034048734776178,-0.30529873232404725,-0.34396465640756446,-0.3501223822361368,-0.3619671437291032,-0.37193830476289236,-0.37427173550113935,-0.3926845525615903,-0.39055154660279356,-0.4025342499699036,-0.39546630672587924,-0.4104960931676942,-0.4081346027070225,-0.4055061190394724,-0.4092956283938918,-0.4549101531603128,-0.38740903681070904,-0.35159500227582896,-0.3820004929430212,-0.32489939803663503,-0.30423704268713436,-0.31445953712220387,-0.2832964340473296,-0.2858608519257615,-0.3597577174249835,-0.28784716992865356,-0.26989072726176744,-0.2866009737653741,-0.2839200777735158,-0.28381814361098634,-0.2845458716066105,-0.28801586734162754,-0.287056335193526,-0.28809949303300186,-0.29574338171357795,-0.30434134980158944,-0.31853497197359104,-0.3191317161374343,-0.31947176368016983,-0.33084985805919587,-0.33065888169251423,-0.33105921187224396,-0.3319351311406251,-0.3386992482707285,-0.338866332648351,-0.33848442549951585,-0.3388004037776682,-0.3414499478651294,-0.343658246532911,-0.3414680750997121,-0.33893111656117014,-0.33893111656117014,-0.33893111656117014,-0.34034521602588086,-0.34034521602588086,-0.34145569010148336,-0.34064982180322545,-0.3406736927093732,-0.34046457340575387,-0.34168641295485713,-0.3438808717299935,-0.34590917249120423,-0.34752528540585104,-0.3469884788169111,-0.34741805258427405,-0.346684097013096,-0.3458902018622325,-0.3458902018622325,-0.3458902018622325,-0.3458902018622325,-0.3458902018622325,-0.3458902018622325,-0.3458902018622325,-0.3458902018622325,-0.3458902018622325,-0.3458902018622325,-0.3458902018622325,-0.3458902018622325,-0.3458902018622325,-0.3458902018622325,0.34315572764698743,0.3219437533814187,0.3224319758526377,0.32305352446492464,0.3190512309105884,0.22004491285318295,0.21935081745097307,0.21877639366982748,0.21308002450680874,0.2123694924451769,0.2125609716218122,0.21284819038677938,0.21568128891576066,0.21568128891576066,0.21568128891576066,0.21568128891576066,0.21568128891576066,0.21568128891576066,0.21568128891576066,0.21568128891576066,0.21568128891576066,0.21331322106394168,0.21331322106394168,0.21328928903091082,0.31109923342789614,0.31109923342789614,0.31109923342789614,0.31109923342789614,0.31109923342789614,0.31109923342789614,0.31109923342789614,0.31109923342789614,0.31109923342789614,0.20967138947820274,0.20904926084114095,0.2130377292520791,0.21409185441933687,0.17085283621284475,0.30927896999071436,0.2816515852736359,0.19577145741233437,0.13528878902337738,0.13281983204947778,0.14106423907823284,0.15679682872571732,0.14800829032461138,0.14816301820798117,0.14800829032461138,0.15679682872571732,0.15679682872571732]},{\"name\":\"ch G\",\"type\":\"scatter\",\"x\":[0.0,1.0,2.0,3.0,4.0,5.0,6.0,7.0,8.0,9.0,10.0,11.0,12.0,13.0,14.0,15.0,16.0,17.0,18.0,19.0,20.0,21.0,22.0,23.0,24.0,25.0,26.0,27.0,28.0,29.0,30.0,31.0,32.0,33.0,34.0,35.0,36.0,37.0,38.0,39.0,40.0,41.0,42.0,43.0,44.0,45.0,46.0,47.0,48.0,49.0,50.0,51.0,52.0,53.0,54.0,55.0,56.0,57.0,58.0,59.0,60.0,61.0,62.0,63.0,64.0,65.0,66.0,67.0,68.0,69.0,70.0,71.0,72.0,73.0,74.0,75.0,76.0,77.0,78.0,79.0,80.0,81.0,82.0,83.0,84.0,85.0,86.0,87.0,88.0,89.0,90.0,91.0,92.0,93.0,94.0,95.0,96.0,97.0,98.0,99.0,100.0,101.0,102.0,103.0,104.0,105.0,106.0,107.0,108.0,109.0,110.0,111.0,112.0,113.0,114.0,115.0,116.0,117.0,118.0,119.0,120.0,121.0,122.0,123.0,124.0,125.0,126.0,127.0,128.0,129.0,130.0,131.0,132.0,133.0,134.0,135.0,136.0,137.0,138.0,139.0,140.0,141.0,142.0,143.0,144.0,145.0,146.0,147.0,148.0,149.0,150.0,151.0,152.0,153.0,154.0,155.0,156.0,157.0,158.0,159.0,160.0,161.0,162.0,163.0,164.0,165.0,166.0,167.0,168.0,169.0,170.0,171.0,172.0,173.0,174.0,175.0,176.0,177.0,178.0,179.0,180.0,181.0,182.0,183.0,184.0,185.0,186.0,187.0,188.0,189.0,190.0,191.0,192.0,193.0,194.0,195.0,196.0,197.0,198.0,199.0,200.0,201.0,202.0,203.0,204.0,205.0,206.0,207.0,208.0,209.0,210.0,211.0,212.0,213.0,214.0,215.0,216.0,217.0,218.0,219.0,220.0,221.0,222.0,223.0,224.0,225.0,226.0,227.0,228.0,229.0,230.0,231.0,232.0,233.0,234.0,235.0,236.0,237.0,238.0,239.0,240.0,241.0,242.0,243.0,244.0,245.0,246.0,247.0,248.0,249.0,250.0,251.0,252.0,253.0,254.0,255.0,256.0,257.0,258.0,259.0,260.0,261.0,262.0,263.0,264.0,265.0,266.0,267.0,268.0,269.0,270.0,271.0,272.0,273.0,274.0,275.0,276.0,277.0,278.0,279.0,280.0,281.0,282.0,283.0,284.0,285.0,286.0,287.0,288.0,289.0,290.0,291.0,292.0,293.0,294.0,295.0,296.0,297.0,298.0,299.0],\"y\":[-0.07588054468439509,0.11141361697053753,0.129265222521866,0.12150879383506208,0.07833302050251234,0.22197907875755618,0.056584290211070254,0.04979640244575734,0.0434654584063523,0.05166884916471304,0.048593759876453646,0.044186245407331626,0.03400505327198289,0.053348933833845535,0.04558829530096631,0.042282237507713205,0.03732941814715218,0.1545179124902205,0.052489697318080175,0.07247857777758782,0.06364244018068632,0.16502571365924013,0.11391216165888096,0.1424038696455483,0.015086218546251473,0.035986549950052904,0.03887307333969403,0.04032621850839746,0.03400692808955341,0.045048773770098194,0.046773328498900923,0.04689584861567653,0.04286050240478545,0.049712864816484625,0.04894333741271595,0.04954246986891775,0.04354278812422052,0.04047568577671257,0.040212155913984304,0.04033194221522507,0.039346809227694735,0.039346809227694735,0.039346809227694735,0.039346809227694735,0.039346809227694735,0.053184221913852525,0.04987772392650669,0.051418961506556116,0.04922550247071911,0.0612760230293361,0.06036287153087727,0.06189448822342314,0.054821192721178136,0.054821192721178136,0.054821192721178136,0.054821192721178136,0.054821192721178136,0.053447783347628786,0.04859424922131694,0.049152627090109036,0.04901908651984854,0.051749866350228046,0.05178485508839259,0.0517874434784531,0.04783288495098503,0.0490457972029148,0.04792365165933887,0.04682842749990357,0.047322516716569396,0.049243366860835636,0.049384957449248645,0.049243366860835636,0.04737871591772347,0.05282454352889232,0.050789379014730685,0.04984123702337939,0.04630050583342182,0.10371794477199359,0.10371794477199359,0.10333529339073522,0.048898700597689526,0.048618329867252896,0.048618329867252896,0.1059688146393043,0.10741023302077224,0.10710326324697661,0.10674326612695495,0.10588315378539193,0.10728770247139607,0.1078422710401199,0.10796103776829824,0.10803304583319573,0.10984646267799292,0.12992851365272173,0.12116437022816484,0.13147393890028525,0.08559587433164495,0.13420708714547658,0.12456277646343494,0.1198164673657729,0.10847738700286413,0.18713183509893838,0.13712803395667805,0.02423915783938213,-0.01024832577536472,0.01057847064470252,0.008383167761834898,0.009286700685763094,-0.004047455409214251,0.01137023847981311,0.013604474962328084,0.01588139656431764,0.011049650698382152,0.0043146159884344115,-0.002087230797542361,0.0006042541219457576,-0.005645825463339804,0.02981323985721218,0.025037180529679404,-0.016755315989925634,-0.053452099969327094,0.02101942793400724,0.014087952485873245,0.13365497287958306,0.11478534963236342,0.311274226242908,0.24437038229424957,0.285080262577452,0.17561687066452691,0.294491464302979,0.2791158897148236,0.23668942461358,0.14844199566384475,0.23751503662979445,0.2088606935508608,0.23275691084825212,0.19239257463477344,0.2319401719652916,0.22968005879935305,0.23234925569883558,0.15887559577954846,0.20317609916574497,0.04141081544175762,0.041044038514037595,0.07647933642938654,0.1029071857362922,0.10171986471111438,0.10320427106328367,0.08906998753035822,0.18496756941138415,0.08299891264388037,0.12353230555981298,0.10316466866462548,0.10683774078098907,0.10041536403442564,0.10168819376193028,0.08264955758631487,0.09496758555290086,0.09465769282346059,0.09482455813930812,0.09850383028922494,0.10063100285599802,0.10063100285599802,0.10063100285599802,0.10036863582838151,0.09974849558127374,0.09974849558127374,0.09974849558127374,0.09970079248534347,0.1104018928373307,0.11061541970051536,0.11002257845785124,0.10658806379213104,0.15518639988508198,0.13062610050496204,0.12314573273330609,0.05213208533911029,0.08360237918370217,0.0796480490184166,0.07986216517251421,0.0702010019059287,0.0806985297698617,0.07965295307533182,0.0812948167858707,0.06875649647869864,0.16123160086509358,0.14353645013155614,0.18208998296152856,0.15299389469267055,0.15952078730300912,0.13044048250350215,0.12913679648470122,0.06420162402068996,0.11505531846029982,-0.0046193321026990475,0.02846657473612879,-0.06417300259374059,-0.03364075586856785,-0.032297973989813045,-0.03331945344389453,-0.06656148823432062,-0.04930958673720198,-0.04832565348596063,-0.04654817587925919,-0.060853139855048255,-0.047653557406874825,-0.06635932651924747,-0.06447361496150705,-0.07432272303321241,-0.07516583329110915,-0.07497485692443462,-0.07473053815193254,-0.07976070288025738,-0.07831239628489328,-0.07852721905610593,-0.07804983512007624,-0.08091988411699447,-0.0827817259081769,-0.08293722693129979,-0.08153473785309728,-0.08054944120311802,-0.08054944120311802,-0.08054944120311802,-0.08248876784328019,-0.08248876784328019,-0.08140303649867775,-0.08121782657502763,-0.08117008476274634,-0.08172488061212846,-0.06099451974151293,-0.06831747555906276,-0.071085509539067,-0.08121954482449922,-0.07796237321518618,-0.07836808177324883,-0.07777712095903411,-0.0792739150754258,-0.0792739150754258,-0.0792739150754258,-0.0792739150754258,-0.0792739150754258,-0.0792739150754258,-0.0792739150754258,-0.0792739150754258,-0.0792739150754258,-0.0792739150754258,-0.0792739150754258,-0.0792739150754258,-0.0792739150754258,-0.0792739150754258,-0.2268876483084199,-0.2262613348964777,-0.22619884641130739,-0.22545776921975147,-0.22975148597699047,-0.2938444050243376,-0.29444276312969464,-0.29496931826241024,-0.30176666633929017,-0.300700643110666,-0.30058096862526895,-0.30022194516907064,-0.29914684082810794,-0.29914684082810794,-0.29914684082810794,-0.29914684082810794,-0.29914684082810794,-0.29914684082810794,-0.29914684082810794,-0.29914684082810794,-0.29914684082810794,-0.2994728719625357,-0.2994728719625357,-0.2994728719625357,-0.234781648102647,-0.234781648102647,-0.234781648102647,-0.234781648102647,-0.234781648102647,-0.234781648102647,-0.234781648102647,-0.234781648102647,-0.234781648102647,-0.29360536645917534,-0.2948256957087949,-0.2900532551436896,-0.28956637821070785,-0.25698713720930044,-0.195716429413757,-0.17294728819584293,-0.26539598508522033,-0.21012811481076454,-0.21338701892052114,-0.19504435042044577,-0.22509270898159883,-0.21691073154013196,-0.21859553656803143,-0.21691073154013196,-0.22509270898159883,-0.22509270898159883]}],                        {\"font\":{\"color\":\"#7f7f7f\",\"family\":\"Courier New, monospace\",\"size\":14},\"height\":400,\"template\":{\"data\":{\"bar\":[{\"error_x\":{\"color\":\"#2a3f5f\"},\"error_y\":{\"color\":\"#2a3f5f\"},\"marker\":{\"line\":{\"color\":\"#E5ECF6\",\"width\":0.5},\"pattern\":{\"fillmode\":\"overlay\",\"size\":10,\"solidity\":0.2}},\"type\":\"bar\"}],\"barpolar\":[{\"marker\":{\"line\":{\"color\":\"#E5ECF6\",\"width\":0.5},\"pattern\":{\"fillmode\":\"overlay\",\"size\":10,\"solidity\":0.2}},\"type\":\"barpolar\"}],\"carpet\":[{\"aaxis\":{\"endlinecolor\":\"#2a3f5f\",\"gridcolor\":\"white\",\"linecolor\":\"white\",\"minorgridcolor\":\"white\",\"startlinecolor\":\"#2a3f5f\"},\"baxis\":{\"endlinecolor\":\"#2a3f5f\",\"gridcolor\":\"white\",\"linecolor\":\"white\",\"minorgridcolor\":\"white\",\"startlinecolor\":\"#2a3f5f\"},\"type\":\"carpet\"}],\"choropleth\":[{\"colorbar\":{\"outlinewidth\":0,\"ticks\":\"\"},\"type\":\"choropleth\"}],\"contour\":[{\"colorbar\":{\"outlinewidth\":0,\"ticks\":\"\"},\"colorscale\":[[0.0,\"#0d0887\"],[0.1111111111111111,\"#46039f\"],[0.2222222222222222,\"#7201a8\"],[0.3333333333333333,\"#9c179e\"],[0.4444444444444444,\"#bd3786\"],[0.5555555555555556,\"#d8576b\"],[0.6666666666666666,\"#ed7953\"],[0.7777777777777778,\"#fb9f3a\"],[0.8888888888888888,\"#fdca26\"],[1.0,\"#f0f921\"]],\"type\":\"contour\"}],\"contourcarpet\":[{\"colorbar\":{\"outlinewidth\":0,\"ticks\":\"\"},\"type\":\"contourcarpet\"}],\"heatmap\":[{\"colorbar\":{\"outlinewidth\":0,\"ticks\":\"\"},\"colorscale\":[[0.0,\"#0d0887\"],[0.1111111111111111,\"#46039f\"],[0.2222222222222222,\"#7201a8\"],[0.3333333333333333,\"#9c179e\"],[0.4444444444444444,\"#bd3786\"],[0.5555555555555556,\"#d8576b\"],[0.6666666666666666,\"#ed7953\"],[0.7777777777777778,\"#fb9f3a\"],[0.8888888888888888,\"#fdca26\"],[1.0,\"#f0f921\"]],\"type\":\"heatmap\"}],\"heatmapgl\":[{\"colorbar\":{\"outlinewidth\":0,\"ticks\":\"\"},\"colorscale\":[[0.0,\"#0d0887\"],[0.1111111111111111,\"#46039f\"],[0.2222222222222222,\"#7201a8\"],[0.3333333333333333,\"#9c179e\"],[0.4444444444444444,\"#bd3786\"],[0.5555555555555556,\"#d8576b\"],[0.6666666666666666,\"#ed7953\"],[0.7777777777777778,\"#fb9f3a\"],[0.8888888888888888,\"#fdca26\"],[1.0,\"#f0f921\"]],\"type\":\"heatmapgl\"}],\"histogram\":[{\"marker\":{\"pattern\":{\"fillmode\":\"overlay\",\"size\":10,\"solidity\":0.2}},\"type\":\"histogram\"}],\"histogram2d\":[{\"colorbar\":{\"outlinewidth\":0,\"ticks\":\"\"},\"colorscale\":[[0.0,\"#0d0887\"],[0.1111111111111111,\"#46039f\"],[0.2222222222222222,\"#7201a8\"],[0.3333333333333333,\"#9c179e\"],[0.4444444444444444,\"#bd3786\"],[0.5555555555555556,\"#d8576b\"],[0.6666666666666666,\"#ed7953\"],[0.7777777777777778,\"#fb9f3a\"],[0.8888888888888888,\"#fdca26\"],[1.0,\"#f0f921\"]],\"type\":\"histogram2d\"}],\"histogram2dcontour\":[{\"colorbar\":{\"outlinewidth\":0,\"ticks\":\"\"},\"colorscale\":[[0.0,\"#0d0887\"],[0.1111111111111111,\"#46039f\"],[0.2222222222222222,\"#7201a8\"],[0.3333333333333333,\"#9c179e\"],[0.4444444444444444,\"#bd3786\"],[0.5555555555555556,\"#d8576b\"],[0.6666666666666666,\"#ed7953\"],[0.7777777777777778,\"#fb9f3a\"],[0.8888888888888888,\"#fdca26\"],[1.0,\"#f0f921\"]],\"type\":\"histogram2dcontour\"}],\"mesh3d\":[{\"colorbar\":{\"outlinewidth\":0,\"ticks\":\"\"},\"type\":\"mesh3d\"}],\"parcoords\":[{\"line\":{\"colorbar\":{\"outlinewidth\":0,\"ticks\":\"\"}},\"type\":\"parcoords\"}],\"pie\":[{\"automargin\":true,\"type\":\"pie\"}],\"scatter\":[{\"marker\":{\"colorbar\":{\"outlinewidth\":0,\"ticks\":\"\"}},\"type\":\"scatter\"}],\"scatter3d\":[{\"line\":{\"colorbar\":{\"outlinewidth\":0,\"ticks\":\"\"}},\"marker\":{\"colorbar\":{\"outlinewidth\":0,\"ticks\":\"\"}},\"type\":\"scatter3d\"}],\"scattercarpet\":[{\"marker\":{\"colorbar\":{\"outlinewidth\":0,\"ticks\":\"\"}},\"type\":\"scattercarpet\"}],\"scattergeo\":[{\"marker\":{\"colorbar\":{\"outlinewidth\":0,\"ticks\":\"\"}},\"type\":\"scattergeo\"}],\"scattergl\":[{\"marker\":{\"colorbar\":{\"outlinewidth\":0,\"ticks\":\"\"}},\"type\":\"scattergl\"}],\"scattermapbox\":[{\"marker\":{\"colorbar\":{\"outlinewidth\":0,\"ticks\":\"\"}},\"type\":\"scattermapbox\"}],\"scatterpolar\":[{\"marker\":{\"colorbar\":{\"outlinewidth\":0,\"ticks\":\"\"}},\"type\":\"scatterpolar\"}],\"scatterpolargl\":[{\"marker\":{\"colorbar\":{\"outlinewidth\":0,\"ticks\":\"\"}},\"type\":\"scatterpolargl\"}],\"scatterternary\":[{\"marker\":{\"colorbar\":{\"outlinewidth\":0,\"ticks\":\"\"}},\"type\":\"scatterternary\"}],\"surface\":[{\"colorbar\":{\"outlinewidth\":0,\"ticks\":\"\"},\"colorscale\":[[0.0,\"#0d0887\"],[0.1111111111111111,\"#46039f\"],[0.2222222222222222,\"#7201a8\"],[0.3333333333333333,\"#9c179e\"],[0.4444444444444444,\"#bd3786\"],[0.5555555555555556,\"#d8576b\"],[0.6666666666666666,\"#ed7953\"],[0.7777777777777778,\"#fb9f3a\"],[0.8888888888888888,\"#fdca26\"],[1.0,\"#f0f921\"]],\"type\":\"surface\"}],\"table\":[{\"cells\":{\"fill\":{\"color\":\"#EBF0F8\"},\"line\":{\"color\":\"white\"}},\"header\":{\"fill\":{\"color\":\"#C8D4E3\"},\"line\":{\"color\":\"white\"}},\"type\":\"table\"}]},\"layout\":{\"annotationdefaults\":{\"arrowcolor\":\"#2a3f5f\",\"arrowhead\":0,\"arrowwidth\":1},\"autotypenumbers\":\"strict\",\"coloraxis\":{\"colorbar\":{\"outlinewidth\":0,\"ticks\":\"\"}},\"colorscale\":{\"diverging\":[[0,\"#8e0152\"],[0.1,\"#c51b7d\"],[0.2,\"#de77ae\"],[0.3,\"#f1b6da\"],[0.4,\"#fde0ef\"],[0.5,\"#f7f7f7\"],[0.6,\"#e6f5d0\"],[0.7,\"#b8e186\"],[0.8,\"#7fbc41\"],[0.9,\"#4d9221\"],[1,\"#276419\"]],\"sequential\":[[0.0,\"#0d0887\"],[0.1111111111111111,\"#46039f\"],[0.2222222222222222,\"#7201a8\"],[0.3333333333333333,\"#9c179e\"],[0.4444444444444444,\"#bd3786\"],[0.5555555555555556,\"#d8576b\"],[0.6666666666666666,\"#ed7953\"],[0.7777777777777778,\"#fb9f3a\"],[0.8888888888888888,\"#fdca26\"],[1.0,\"#f0f921\"]],\"sequentialminus\":[[0.0,\"#0d0887\"],[0.1111111111111111,\"#46039f\"],[0.2222222222222222,\"#7201a8\"],[0.3333333333333333,\"#9c179e\"],[0.4444444444444444,\"#bd3786\"],[0.5555555555555556,\"#d8576b\"],[0.6666666666666666,\"#ed7953\"],[0.7777777777777778,\"#fb9f3a\"],[0.8888888888888888,\"#fdca26\"],[1.0,\"#f0f921\"]]},\"colorway\":[\"#636efa\",\"#EF553B\",\"#00cc96\",\"#ab63fa\",\"#FFA15A\",\"#19d3f3\",\"#FF6692\",\"#B6E880\",\"#FF97FF\",\"#FECB52\"],\"font\":{\"color\":\"#2a3f5f\"},\"geo\":{\"bgcolor\":\"white\",\"lakecolor\":\"white\",\"landcolor\":\"#E5ECF6\",\"showlakes\":true,\"showland\":true,\"subunitcolor\":\"white\"},\"hoverlabel\":{\"align\":\"left\"},\"hovermode\":\"closest\",\"mapbox\":{\"style\":\"light\"},\"paper_bgcolor\":\"white\",\"plot_bgcolor\":\"#E5ECF6\",\"polar\":{\"angularaxis\":{\"gridcolor\":\"white\",\"linecolor\":\"white\",\"ticks\":\"\"},\"bgcolor\":\"#E5ECF6\",\"radialaxis\":{\"gridcolor\":\"white\",\"linecolor\":\"white\",\"ticks\":\"\"}},\"scene\":{\"xaxis\":{\"backgroundcolor\":\"#E5ECF6\",\"gridcolor\":\"white\",\"gridwidth\":2,\"linecolor\":\"white\",\"showbackground\":true,\"ticks\":\"\",\"zerolinecolor\":\"white\"},\"yaxis\":{\"backgroundcolor\":\"#E5ECF6\",\"gridcolor\":\"white\",\"gridwidth\":2,\"linecolor\":\"white\",\"showbackground\":true,\"ticks\":\"\",\"zerolinecolor\":\"white\"},\"zaxis\":{\"backgroundcolor\":\"#E5ECF6\",\"gridcolor\":\"white\",\"gridwidth\":2,\"linecolor\":\"white\",\"showbackground\":true,\"ticks\":\"\",\"zerolinecolor\":\"white\"}},\"shapedefaults\":{\"line\":{\"color\":\"#2a3f5f\"}},\"ternary\":{\"aaxis\":{\"gridcolor\":\"white\",\"linecolor\":\"white\",\"ticks\":\"\"},\"baxis\":{\"gridcolor\":\"white\",\"linecolor\":\"white\",\"ticks\":\"\"},\"bgcolor\":\"#E5ECF6\",\"caxis\":{\"gridcolor\":\"white\",\"linecolor\":\"white\",\"ticks\":\"\"}},\"title\":{\"x\":0.05},\"xaxis\":{\"automargin\":true,\"gridcolor\":\"white\",\"linecolor\":\"white\",\"ticks\":\"\",\"title\":{\"standoff\":15},\"zerolinecolor\":\"white\",\"zerolinewidth\":2},\"yaxis\":{\"automargin\":true,\"gridcolor\":\"white\",\"linecolor\":\"white\",\"ticks\":\"\",\"title\":{\"standoff\":15},\"zerolinecolor\":\"white\",\"zerolinewidth\":2}}},\"title\":{\"text\":\"RGB raw data\"},\"width\":800},                        {\"responsive\": true}                    ).then(function(){\n",
       "                            \n",
       "var gd = document.getElementById('62e49cf7-473e-4af1-b5c6-7442d96e2348');\n",
       "var x = new MutationObserver(function (mutations, observer) {{\n",
       "        var display = window.getComputedStyle(gd).display;\n",
       "        if (!display || display === 'none') {{\n",
       "            console.log([gd, 'removed!']);\n",
       "            Plotly.purge(gd);\n",
       "            observer.disconnect();\n",
       "        }}\n",
       "}});\n",
       "\n",
       "// Listen for the removal of the full notebook cells\n",
       "var notebookContainer = gd.closest('#notebook-container');\n",
       "if (notebookContainer) {{\n",
       "    x.observe(notebookContainer, {childList: true});\n",
       "}}\n",
       "\n",
       "// Listen for the clearing of the current output cell\n",
       "var outputEl = gd.closest('.output');\n",
       "if (outputEl) {{\n",
       "    x.observe(outputEl, {childList: true});\n",
       "}}\n",
       "\n",
       "                        })                };                });            </script>        </div>"
      ]
     },
     "metadata": {},
     "output_type": "display_data"
    },
    {
     "data": {
      "application/vnd.plotly.v1+json": {
       "config": {
        "plotlyServerURL": "https://plot.ly"
       },
       "data": [
        {
         "name": "ch B",
         "type": "scatter",
         "x": [
          0,
          1,
          2,
          3,
          4,
          5,
          6,
          7,
          8,
          9,
          10,
          11,
          12,
          13,
          14,
          15,
          16,
          17,
          18,
          19,
          20,
          21,
          22,
          23,
          24,
          25,
          26,
          27,
          28,
          29,
          30,
          31,
          32,
          33,
          34,
          35,
          36,
          37,
          38,
          39,
          40,
          41,
          42,
          43,
          44,
          45,
          46,
          47,
          48,
          49,
          50,
          51,
          52,
          53,
          54,
          55,
          56,
          57,
          58,
          59,
          60,
          61,
          62,
          63,
          64,
          65,
          66,
          67,
          68,
          69,
          70,
          71,
          72,
          73,
          74,
          75,
          76,
          77,
          78,
          79,
          80,
          81,
          82,
          83,
          84,
          85,
          86,
          87,
          88,
          89,
          90,
          91,
          92,
          93,
          94,
          95,
          96,
          97,
          98,
          99,
          100,
          101,
          102,
          103,
          104,
          105,
          106,
          107,
          108,
          109,
          110,
          111,
          112,
          113,
          114,
          115,
          116,
          117,
          118,
          119,
          120,
          121,
          122,
          123,
          124,
          125,
          126,
          127,
          128,
          129,
          130,
          131,
          132,
          133,
          134,
          135,
          136,
          137,
          138,
          139,
          140,
          141,
          142,
          143,
          144,
          145,
          146,
          147,
          148,
          149,
          150,
          151,
          152,
          153,
          154,
          155,
          156,
          157,
          158,
          159,
          160,
          161,
          162,
          163,
          164,
          165,
          166,
          167,
          168,
          169,
          170,
          171,
          172,
          173,
          174,
          175,
          176,
          177,
          178,
          179,
          180,
          181,
          182,
          183,
          184,
          185,
          186,
          187,
          188,
          189,
          190,
          191,
          192,
          193,
          194,
          195,
          196,
          197,
          198,
          199,
          200,
          201,
          202,
          203,
          204,
          205,
          206,
          207,
          208,
          209,
          210,
          211,
          212,
          213,
          214,
          215,
          216,
          217,
          218,
          219,
          220,
          221,
          222,
          223,
          224,
          225,
          226,
          227,
          228,
          229,
          230,
          231,
          232,
          233,
          234,
          235,
          236,
          237,
          238,
          239,
          240,
          241,
          242,
          243,
          244,
          245,
          246,
          247,
          248,
          249,
          250,
          251,
          252,
          253,
          254,
          255,
          256,
          257,
          258,
          259,
          260,
          261,
          262,
          263,
          264,
          265,
          266,
          267,
          268,
          269,
          270,
          271,
          272,
          273,
          274,
          275,
          276,
          277,
          278,
          279,
          280,
          281,
          282,
          283,
          284,
          285,
          286,
          287,
          288,
          289,
          290,
          291,
          292,
          293,
          294,
          295,
          296,
          297,
          298,
          299
         ],
         "y": [
          -0.0024522870997660123,
          0.0014919836715008216,
          0.008095362776485222,
          0.018805623584720838,
          0.033123602478028244,
          0.04856766463623038,
          0.06153774573103115,
          0.06885839435395842,
          0.06933930688628266,
          0.06448353200984694,
          0.05775372529134561,
          0.05255891003752571,
          0.04997335434798544,
          0.04758773836318275,
          0.040447420071498784,
          0.023880373371457438,
          -0.003205882233836087,
          -0.036489151122068686,
          -0.06717152934060554,
          -0.08552849397793832,
          -0.08540141528780604,
          -0.06732543425577876,
          -0.038604659622492564,
          -0.010205987803280355,
          0.008010397410697985,
          0.011373119224548697,
          0.0018700160368371093,
          -0.013500487660235969,
          -0.026417307333948797,
          -0.0309971114998171,
          -0.025878540810709987,
          -0.013952774617967786,
          -0.0003004746276377518,
          0.01037142046101322,
          0.015548626149024452,
          0.01537473567942373,
          0.01191291104170539,
          0.007831155448054086,
          0.0051899299293452755,
          0.004760646872459739,
          0.0059845207091554255,
          0.007458710978833174,
          0.007730525255325314,
          0.006119669515915816,
          0.0032322778439479605,
          0.0008418294992512813,
          0.0010086352658581444,
          0.004717914970477287,
          0.010756843094981424,
          0.015686539876954196,
          0.015335618377901622,
          0.007331984851294693,
          -0.006700793439626505,
          -0.020864083089519304,
          -0.027365735256376415,
          -0.020723336146721085,
          -0.001540136230323225,
          0.02260964340462491,
          0.040264014295436704,
          0.041862513775475264,
          0.025118385435577126,
          -0.0032149267171664524,
          -0.03041870085514775,
          -0.04413896515307257,
          -0.03848798546511464,
          -0.016655082155872754,
          0.01112105712825862,
          0.032783664651268196,
          0.039977692775734784,
          0.03123818988240437,
          0.011789163952646696,
          -0.009398046033366834,
          -0.023664888148959402,
          -0.02616084505943064,
          -0.017588698888263428,
          -0.0036803780901307997,
          0.007413498739424652,
          0.008883875657114126,
          -0.0014054765858805694,
          -0.01969214961364802,
          -0.038052891198973114,
          -0.04841298301607246,
          -0.046713304593736446,
          -0.034846822308138146,
          -0.019215494779461613,
          -0.00681695349208237,
          -0.0013039477445700907,
          -0.0014260384060311927,
          -0.0026737721747261065,
          -0.0008561467674477175,
          0.004877259302734544,
          0.011628331508789804,
          0.015230127280205855,
          0.013904167302570183,
          0.010490847132214477,
          0.011456470252696187,
          0.022933358345285707,
          0.046077722986956,
          0.07472696561512379,
          0.09718531541131152,
          0.1015851610109547,
          0.08206802407036631,
          0.04235345004276811,
          -0.005414890555158956,
          -0.046062888882405034,
          -0.06818316396085775,
          -0.06877622761690289,
          -0.05348315126255302,
          -0.03266473330878939,
          -0.01578742080374618,
          -0.007254516148931768,
          -0.0057186687707947575,
          -0.00678565809776024,
          -0.007113357623491712,
          -0.00724932296402023,
          -0.011436743289942878,
          -0.024512397749630863,
          -0.047834598820167405,
          -0.07685243811081979,
          -0.10202506186962183,
          -0.1128146808916634,
          -0.10260055494480347,
          -0.07177554956855274,
          -0.027387803403205114,
          0.020225690801044454,
          0.06166874960210706,
          0.09122458386845185,
          0.10707944087723036,
          0.10983738126847947,
          0.10110020130884967,
          0.08333763571887606,
          0.06075218500739532,
          0.03964968176000014,
          0.02697920325486603,
          0.027145482668085516,
          0.03884474650706535,
          0.054245893619702654,
          0.061768746961084794,
          0.051558987057775826,
          0.020869844787416072,
          -0.023777536017447577,
          -0.06917960654359759,
          -0.10160299774864982,
          -0.11316184922089194,
          -0.10487640445153461,
          -0.0848563805251018,
          -0.0630095604729957,
          -0.045692944433528365,
          -0.03349287419418299,
          -0.023054157032276527,
          -0.011162435583771776,
          0.002038412040599478,
          0.012922630499911335,
          0.017219017243820994,
          0.013559861231838406,
          0.0050859137399438545,
          -0.0020716465037698023,
          -0.00239359582698312,
          0.005758800208252448,
          0.019293322241981777,
          0.032359090267897184,
          0.039750608706046124,
          0.03960550749238422,
          0.033906343046346696,
          0.02676780197744334,
          0.021788758705890778,
          0.02012463118662725,
          0.020291209312345532,
          0.019558658264271563,
          0.01587517248279708,
          0.009089142663351354,
          0.000831651463507966,
          -0.0066716648798740225,
          -0.011972666968701064,
          -0.015101815286245858,
          -0.017311678446026272,
          -0.020209241981371022,
          -0.024876480915191086,
          -0.03137345208227423,
          -0.03864753613682292,
          -0.0446895618986394,
          -0.046874918366932736,
          -0.04259129420917967,
          -0.03020566243758402,
          -0.010112971591365844,
          0.014701497622815328,
          0.039115149196676295,
          0.057378105364319705,
          0.06508259489831855,
          0.060675389613747,
          0.04584208029652593,
          0.02470759623178199,
          0.002344400348721446,
          -0.016745491066104654,
          -0.029680053956404585,
          -0.03557593868578702,
          -0.03529086441919527,
          -0.030719952745999198,
          -0.023943001765702857,
          -0.016557191151205932,
          -0.009436614054549097,
          -0.0029351563823609888,
          0.0026954911097487604,
          0.007007077736931348,
          0.0093988257974322,
          0.009470819614600518,
          0.007423477146956021,
          0.004190575276177407,
          0.0011554670805418205,
          -0.0004334285035272912,
          -3.2138661905638396e-05,
          0.0019676673127000284,
          0.004480815178457395,
          0.00631032024877913,
          0.0067462992253561815,
          0.005860245594870808,
          0.004357238772762474,
          0.003104632134778261,
          0.0026316908466339738,
          0.0028892208656431996,
          0.003380653034929783,
          0.0035407923868460553,
          0.0030944452423616944,
          0.002162947194187166,
          0.0010727622436562836,
          2.8923916089546703e-05,
          -0.0010937107417364534,
          -0.0026761939771136416,
          -0.005037549843121686,
          -0.008093662936616976,
          -0.011246705220570564,
          -0.013618312596984171,
          -0.014514554750675247,
          -0.013845359699966166,
          -0.012223316980299714,
          -0.01064327655767934,
          -0.009897708361764058,
          -0.01006653980720051,
          -0.010416517258038549,
          -0.00983226617092521,
          -0.007577010971199603,
          -0.0039266819994742035,
          -0.00021136892619825728,
          0.001907717053697734,
          0.001620757909507504,
          -8.304735806845948e-05,
          -0.0004196693790072814,
          0.003964417295629622,
          0.01500695340111214,
          0.03153954599058394,
          0.04898672371749582,
          0.060905796137750635,
          0.06179339355235504,
          0.04977085594145197,
          0.02769067621643788,
          0.001992790708975657,
          -0.020136851722859728,
          -0.03381429512120135,
          -0.038142357672895554,
          -0.03579171918498163,
          -0.030954084636915853,
          -0.02699676284596534,
          -0.025148221598562316,
          -0.02475664190811729,
          -0.0246334173639018,
          -0.024375574990566043,
          -0.024709991677607304,
          -0.026672875755399752,
          -0.03029753145107116,
          -0.03385569092637249,
          -0.03433068689706356,
          -0.028936335563048397,
          -0.016726585748974156,
          0.0007758025821825356,
          0.02034687292819211,
          0.038655236161142414,
          0.053528992070196374,
          0.06404165067513108,
          0.06955822118442917,
          0.0688039301952671,
          0.06008313961286219,
          0.04283759518061975,
          0.019465040030395914,
          -0.004252239659130227,
          -0.02105164958667046,
          -0.025754414327538926,
          -0.018419715558694556,
          -0.004924466137874303,
          0.005766770947755048,
          0.006294457352782189,
          -0.005128635173415532,
          -0.023818883156067013,
          -0.041300637712994984,
          -0.04994679995008319,
          -0.04689958731959768,
          -0.035162341921217755,
          -0.02147906425124081,
          -0.012393216740931474,
          -0.01072850053358269,
          -0.014333249160582633
         ]
        },
        {
         "name": "ch R",
         "type": "scatter",
         "x": [
          0,
          1,
          2,
          3,
          4,
          5,
          6,
          7,
          8,
          9,
          10,
          11,
          12,
          13,
          14,
          15,
          16,
          17,
          18,
          19,
          20,
          21,
          22,
          23,
          24,
          25,
          26,
          27,
          28,
          29,
          30,
          31,
          32,
          33,
          34,
          35,
          36,
          37,
          38,
          39,
          40,
          41,
          42,
          43,
          44,
          45,
          46,
          47,
          48,
          49,
          50,
          51,
          52,
          53,
          54,
          55,
          56,
          57,
          58,
          59,
          60,
          61,
          62,
          63,
          64,
          65,
          66,
          67,
          68,
          69,
          70,
          71,
          72,
          73,
          74,
          75,
          76,
          77,
          78,
          79,
          80,
          81,
          82,
          83,
          84,
          85,
          86,
          87,
          88,
          89,
          90,
          91,
          92,
          93,
          94,
          95,
          96,
          97,
          98,
          99,
          100,
          101,
          102,
          103,
          104,
          105,
          106,
          107,
          108,
          109,
          110,
          111,
          112,
          113,
          114,
          115,
          116,
          117,
          118,
          119,
          120,
          121,
          122,
          123,
          124,
          125,
          126,
          127,
          128,
          129,
          130,
          131,
          132,
          133,
          134,
          135,
          136,
          137,
          138,
          139,
          140,
          141,
          142,
          143,
          144,
          145,
          146,
          147,
          148,
          149,
          150,
          151,
          152,
          153,
          154,
          155,
          156,
          157,
          158,
          159,
          160,
          161,
          162,
          163,
          164,
          165,
          166,
          167,
          168,
          169,
          170,
          171,
          172,
          173,
          174,
          175,
          176,
          177,
          178,
          179,
          180,
          181,
          182,
          183,
          184,
          185,
          186,
          187,
          188,
          189,
          190,
          191,
          192,
          193,
          194,
          195,
          196,
          197,
          198,
          199,
          200,
          201,
          202,
          203,
          204,
          205,
          206,
          207,
          208,
          209,
          210,
          211,
          212,
          213,
          214,
          215,
          216,
          217,
          218,
          219,
          220,
          221,
          222,
          223,
          224,
          225,
          226,
          227,
          228,
          229,
          230,
          231,
          232,
          233,
          234,
          235,
          236,
          237,
          238,
          239,
          240,
          241,
          242,
          243,
          244,
          245,
          246,
          247,
          248,
          249,
          250,
          251,
          252,
          253,
          254,
          255,
          256,
          257,
          258,
          259,
          260,
          261,
          262,
          263,
          264,
          265,
          266,
          267,
          268,
          269,
          270,
          271,
          272,
          273,
          274,
          275,
          276,
          277,
          278,
          279,
          280,
          281,
          282,
          283,
          284,
          285,
          286,
          287,
          288,
          289,
          290,
          291,
          292,
          293,
          294,
          295,
          296,
          297,
          298,
          299
         ],
         "y": [
          -0.0019953931311721762,
          -0.008546633363437906,
          -0.011420291966944579,
          -0.009135525019762034,
          -0.003173407787855194,
          0.0029819800775926315,
          0.005961756313161156,
          0.0044750876367355905,
          -6.397322492687871e-05,
          -0.004592883993722477,
          -0.006476851721408758,
          -0.005340214615610735,
          -0.0035239276398018353,
          -0.0048261944180169394,
          -0.012177411533612039,
          -0.0255413769770063,
          -0.041251547777256585,
          -0.05322585228456896,
          -0.05549883336587504,
          -0.04484196896079751,
          -0.022257172056910385,
          0.007261626201613718,
          0.036500011398210755,
          0.05853574378232906,
          0.069003485524243,
          0.06729960258226175,
          0.0563565956036128,
          0.041175947548100125,
          0.02678718709672104,
          0.016492316572739443,
          0.011060877824458318,
          0.009060741068959037,
          0.007995095745239524,
          0.005621885553060387,
          0.0008697859676484542,
          -0.005940991419357256,
          -0.013505109794379608,
          -0.020253308966263667,
          -0.025025544858468293,
          -0.027442220416325595,
          -0.027893632956005807,
          -0.02722016305220749,
          -0.0262460138933018,
          -0.025358628276705895,
          -0.024307455692886597,
          -0.022330282916063857,
          -0.018595543091851408,
          -0.012790614710251717,
          -0.0055546602163028145,
          0.001550927647348666,
          0.0066560294740469084,
          0.008570254939925092,
          0.007633948091093537,
          0.0058598229013300885,
          0.006092824074382125,
          0.01047288567641412,
          0.018992447014268485,
          0.02904708964197316,
          0.036426778720165774,
          0.03738095462805624,
          0.030692388209736927,
          0.01858303047628444,
          0.0058726986278509604,
          -0.002227196316789735,
          -0.002567284150926668,
          0.004443170187374487,
          0.014957440468250566,
          0.023304189535361286,
          0.02436832839761655,
          0.015802680198446602,
          -0.0007605538204489351,
          -0.020033591519467913,
          -0.03501314847143565,
          -0.03999093193941428,
          -0.033430616968364885,
          -0.019208529223530526,
          -0.005200403134250075,
          0.0004988037971501102,
          -0.006073178695269556,
          -0.02230905839765781,
          -0.04016536907839786,
          -0.05045035064611585,
          -0.04781663405410933,
          -0.0334500493541769,
          -0.013864885637458569,
          0.003285711135264342,
          0.01359875071506917,
          0.017743040473435754,
          0.019799079230103496,
          0.023572952962916754,
          0.02961301590733349,
          0.0350227840291492,
          0.03611268387769824,
          0.031887030560835396,
          0.025710614913961226,
          0.023692339150392542,
          0.030582230588848076,
          0.045801023997459486,
          0.06236807566881284,
          0.06980741376970107,
          0.059635327642995034,
          0.030334787110006672,
          -0.011112351317633676,
          -0.0521199653949794,
          -0.08026880739229396,
          -0.08880971982182083,
          -0.07901984281939611,
          -0.05842310138650575,
          -0.036215334604960424,
          -0.01863865274823242,
          -0.006805745109945001,
          0.0021441059439236887,
          0.011654790868125632,
          0.02243726577409921,
          0.031346370603997184,
          0.033142325903393555,
          0.024009648018631348,
          0.004570735503075623,
          -0.019610929286108768,
          -0.04049595619892057,
          -0.051554240151616595,
          -0.050795827742703505,
          -0.040974140882508475,
          -0.026993592076061737,
          -0.012484030076457937,
          0.0019391949918050953,
          0.01751239093835822,
          0.034317138315559124,
          0.04905466491783469,
          0.055827416482774096,
          0.049957330156670005,
          0.032399756230269285,
          0.011385323368006114,
          -0.0006457603949502518,
          0.006250482724654061,
          0.03290615016078434,
          0.06875484563696055,
          0.09593094068707621,
          0.09809331533271706,
          0.06927600131597511,
          0.017667720575697984,
          -0.038102977200081566,
          -0.07831094512502518,
          -0.09190276442581842,
          -0.08120482169129614,
          -0.05911265138082269,
          -0.04079171749024583,
          -0.03506467607815452,
          -0.04052280350858919,
          -0.04817845013351753,
          -0.04834361925512989,
          -0.03704480914347188,
          -0.018054845106796898,
          0.00021004039578233463,
          0.010372845282668849,
          0.010496523772427834,
          0.004633912910154367,
          -0.0003135038693817053,
          0.0009724138233304102,
          0.009336860069547172,
          0.021287823803542504,
          0.031623160285275495,
          0.03664826604013571,
          0.03605165733049801,
          0.03258290592558845,
          0.03004708178082516,
          0.030973940605148065,
          0.03527570139767157,
          0.04046681485146015,
          0.043107162509953535,
          0.040556787800667266,
          0.032130451875697914,
          0.019206711654297725,
          0.0044458902929055705,
          -0.009341142596476615,
          -0.02011988975935551,
          -0.027076786614479396,
          -0.03061693237269961,
          -0.03208813630088719,
          -0.03334030655146864,
          -0.03611972318187416,
          -0.041322910863269974,
          -0.04832215149006553,
          -0.05475656579500461,
          -0.05713070522439503,
          -0.052195571073419864,
          -0.03858124072903847,
          -0.01784638157671809,
          0.005729098811008118,
          0.026678233079763577,
          0.04055121952477455,
          0.045711079021867954,
          0.04380079792323077,
          0.03864954527483397,
          0.034229353488447245,
          0.032778838217613473,
          0.034062433642005896,
          0.0360214790187953,
          0.03625588132934213,
          0.033372900319469545,
          0.027471513202087846,
          0.01967645482738629,
          0.011227002066518586,
          0.002793731912722052,
          -0.005593613132470242,
          -0.014104620178372159,
          -0.022577602629997147,
          -0.030314402671971264,
          -0.03633300744100675,
          -0.03988139397595465,
          -0.04085459059654086,
          -0.03983943425274607,
          -0.03775803330403196,
          -0.03532884326554399,
          -0.03267030008389576,
          -0.02928494091126767,
          -0.024437844001018384,
          -0.017707849675953,
          -0.009374602736421413,
          -0.00038193792807561294,
          0.008138015892177105,
          0.015511771689082292,
          0.02192307206119445,
          0.028247598218974462,
          0.035346646850634336,
          0.04323121490620886,
          0.050686279165387094,
          0.05574049302803587,
          0.056837091622940136,
          0.05401099200319314,
          0.049197824041226856,
          0.04521634316086658,
          0.043826460692082535,
          0.044058888707256084,
          0.04213943160944972,
          0.033515234985024935,
          0.016068591009170297,
          -0.0075491630319948185,
          -0.030489037126044734,
          -0.04565162902783589,
          -0.05110990919084968,
          -0.05341366980090401,
          -0.06559530093568872,
          -0.09952672834769481,
          -0.15617815543231225,
          -0.219824737307308,
          -0.2612233238893373,
          -0.25010144559801084,
          -0.17137547739852035,
          -0.036129050958826965,
          0.11975878446469386,
          0.24985880432577226,
          0.3173473723056591,
          0.31049092812310464,
          0.24552616975081173,
          0.15623090747812404,
          0.0767145636557226,
          0.02689875540248469,
          0.0075101233406149916,
          0.0053577988915770895,
          0.004116889282441759,
          -0.006169712483311706,
          -0.02559334286005024,
          -0.04733969623773162,
          -0.06387885469952706,
          -0.07201550004254899,
          -0.07400020683890568,
          -0.07479805178564918,
          -0.07793543089127072,
          -0.08284128693501976,
          -0.08524818521336723,
          -0.080080673620552,
          -0.06473115548881227,
          -0.04059629339549374,
          -0.012105867303228771,
          0.01577637633078548,
          0.03967896559326716,
          0.05819147146084102,
          0.07061503998802499,
          0.075581918693616,
          0.07113287554668127,
          0.05656758903150874,
          0.03469442974580209,
          0.012363826570139208,
          -0.0019052751393726325,
          -0.0023307059057880507,
          0.010315528925112422,
          0.02816644891061086,
          0.03984761104668044,
          0.0364318229144114,
          0.01636024410953075,
          -0.01358711631225865,
          -0.04185375530700603,
          -0.05811073646569109,
          -0.05828732757540718,
          -0.045963296796181205,
          -0.029661705753308634,
          -0.017829721992576007,
          -0.014355129046322915,
          -0.016938794617073656
         ]
        },
        {
         "name": "ch G",
         "type": "scatter",
         "x": [
          0,
          1,
          2,
          3,
          4,
          5,
          6,
          7,
          8,
          9,
          10,
          11,
          12,
          13,
          14,
          15,
          16,
          17,
          18,
          19,
          20,
          21,
          22,
          23,
          24,
          25,
          26,
          27,
          28,
          29,
          30,
          31,
          32,
          33,
          34,
          35,
          36,
          37,
          38,
          39,
          40,
          41,
          42,
          43,
          44,
          45,
          46,
          47,
          48,
          49,
          50,
          51,
          52,
          53,
          54,
          55,
          56,
          57,
          58,
          59,
          60,
          61,
          62,
          63,
          64,
          65,
          66,
          67,
          68,
          69,
          70,
          71,
          72,
          73,
          74,
          75,
          76,
          77,
          78,
          79,
          80,
          81,
          82,
          83,
          84,
          85,
          86,
          87,
          88,
          89,
          90,
          91,
          92,
          93,
          94,
          95,
          96,
          97,
          98,
          99,
          100,
          101,
          102,
          103,
          104,
          105,
          106,
          107,
          108,
          109,
          110,
          111,
          112,
          113,
          114,
          115,
          116,
          117,
          118,
          119,
          120,
          121,
          122,
          123,
          124,
          125,
          126,
          127,
          128,
          129,
          130,
          131,
          132,
          133,
          134,
          135,
          136,
          137,
          138,
          139,
          140,
          141,
          142,
          143,
          144,
          145,
          146,
          147,
          148,
          149,
          150,
          151,
          152,
          153,
          154,
          155,
          156,
          157,
          158,
          159,
          160,
          161,
          162,
          163,
          164,
          165,
          166,
          167,
          168,
          169,
          170,
          171,
          172,
          173,
          174,
          175,
          176,
          177,
          178,
          179,
          180,
          181,
          182,
          183,
          184,
          185,
          186,
          187,
          188,
          189,
          190,
          191,
          192,
          193,
          194,
          195,
          196,
          197,
          198,
          199,
          200,
          201,
          202,
          203,
          204,
          205,
          206,
          207,
          208,
          209,
          210,
          211,
          212,
          213,
          214,
          215,
          216,
          217,
          218,
          219,
          220,
          221,
          222,
          223,
          224,
          225,
          226,
          227,
          228,
          229,
          230,
          231,
          232,
          233,
          234,
          235,
          236,
          237,
          238,
          239,
          240,
          241,
          242,
          243,
          244,
          245,
          246,
          247,
          248,
          249,
          250,
          251,
          252,
          253,
          254,
          255,
          256,
          257,
          258,
          259,
          260,
          261,
          262,
          263,
          264,
          265,
          266,
          267,
          268,
          269,
          270,
          271,
          272,
          273,
          274,
          275,
          276,
          277,
          278,
          279,
          280,
          281,
          282,
          283,
          284,
          285,
          286,
          287,
          288,
          289,
          290,
          291,
          292,
          293,
          294,
          295,
          296,
          297,
          298,
          299
         ],
         "y": [
          -0.004791006134287323,
          0.08394568440261921,
          0.14947310602848488,
          0.1772594602087133,
          0.16618485036404237,
          0.1272815499526938,
          0.07769621683648967,
          0.03319573622326907,
          0.0027612405005010337,
          -0.012761090689449882,
          -0.018265757565243602,
          -0.02025102689917996,
          -0.023270436289004645,
          -0.028393173495819653,
          -0.03372623487110516,
          -0.036092109808177474,
          -0.03280273115812191,
          -0.022902259345215285,
          -0.00773097662080548,
          0.009175633442827059,
          0.02291447353692185,
          0.028778569695272208,
          0.024178675221297487,
          0.010066352518340666,
          -0.00905383171419466,
          -0.026806308954485446,
          -0.03761147075879668,
          -0.03897152907810158,
          -0.032191837056851184,
          -0.021270257768104976,
          -0.01071605895198817,
          -0.0035484611027797033,
          -0.00043830013264166065,
          -0.00017532768097032014,
          -0.0009056302674990448,
          -0.0013033432656216755,
          -0.0010815032627171546,
          -0.0007555900151720583,
          -0.0010019681084082056,
          -0.0020848774534582997,
          -0.0036646192070921473,
          -0.005010571031209049,
          -0.005414925961880781,
          -0.004541840899717401,
          -0.002541353567290054,
          8.13314140228334e-05,
          0.0027241636610304057,
          0.004923216550882255,
          0.006465097498317462,
          0.007362813586353447,
          0.007745220458988869,
          0.007731471541562773,
          0.007352343413383005,
          0.006557424388800239,
          0.005311960320182563,
          0.0037352744236496824,
          0.002182843636880521,
          0.001172228652658314,
          0.0011333557125549096,
          0.0020991823068814515,
          0.0035501994181175948,
          0.00458680573947382,
          0.004410780039928243,
          0.0028568381821425437,
          0.0006028332740163887,
          -0.0011753268113431437,
          -0.0015890684508952906,
          -0.000794519072209025,
          -0.00015525076752946967,
          -0.0015347438691353603,
          -0.006006398634876105,
          -0.01276398214372615,
          -0.01906956551527558,
          -0.021545507784140692,
          -0.018244147924941483,
          -0.010257849061465887,
          -0.0016849472983033473,
          0.002342405587733243,
          -0.0013960746381152696,
          -0.012053808504426555,
          -0.02482148025744597,
          -0.03343104637172061,
          -0.03365651029796368,
          -0.0256941663653178,
          -0.013948259753171002,
          -0.004355782360600345,
          -0.0009073384777642452,
          -0.0034819119170111804,
          -0.008250402854547341,
          -0.010296695696986314,
          -0.006762204999609826,
          0.0014590777468548688,
          0.010520612902732346,
          0.016396652296329226,
          0.017838515126740374,
          0.017532661231174976,
          0.020531251036886786,
          0.030739906887930327,
          0.047594910280372243,
          0.06516194958718499,
          0.07457035886292525,
          0.06867436572670244,
          0.046333153932761335,
          0.013720882770460387,
          -0.018293000703428573,
          -0.03936156728314488,
          -0.044605321401032606,
          -0.036578648350420365,
          -0.023294601786189632,
          -0.013580894991449963,
          -0.012459469616747144,
          -0.019091064778474196,
          -0.02826913550568747,
          -0.034394508046758955,
          -0.03544997045053002,
          -0.034501514049929904,
          -0.03770119649692848,
          -0.0498765791869871,
          -0.0703570849253729,
          -0.09173330635782129,
          -0.10264064500622484,
          -0.09328680979357927,
          -0.060730291231543915,
          -0.010950446756823818,
          0.04345135201652591,
          0.08861326607219759,
          0.11491433519384023,
          0.11987733641159126,
          0.10749034585954124,
          0.08506493885132045,
          0.05984336754293165,
          0.0371074778526776,
          0.020088700139530638,
          0.010683212110802021,
          0.009708055971233365,
          0.016224790449747215,
          0.026595869472037344,
          0.034525690256240193,
          0.03289081365552703,
          0.01693035039493257,
          -0.012817232585532613,
          -0.04969734135447313,
          -0.08311813750251948,
          -0.10290157792642944,
          -0.10364711613720656,
          -0.08686084912605024,
          -0.05983914837092227,
          -0.03207015931409981,
          -0.011141312331766715,
          -0.00015910241157503354,
          0.0023634452952671385,
          0.000583211074960011,
          -0.0012792583678953723,
          -0.0008253991017042855,
          0.0020770682082761824,
          0.006107295919781192,
          0.009781689600139785,
          0.01240202745475091,
          0.01424402806127736,
          0.016083121677875824,
          0.01848009003227912,
          0.021276951005431102,
          0.02356061859788716,
          0.024091531925911083,
          0.021985060048992526,
          0.017324357898185948,
          0.011386177538917904,
          0.006285140126486017,
          0.004083091134307227,
          0.005704628677560068,
          0.010203096225971656,
          0.014866388749887879,
          0.016276391402881667,
          0.011887356426985747,
          0.0012973923637270867,
          -0.013531532013309047,
          -0.02925743821193865,
          -0.042740517606449695,
          -0.05222785791857102,
          -0.05744133424928874,
          -0.058670172711321154,
          -0.05569259918313847,
          -0.047452093932973505,
          -0.03281432261010294,
          -0.011883369622450266,
          0.013102451759300821,
          0.03800917832147575,
          0.05811946183369782,
          0.06975878353776897,
          0.07134568823436503,
          0.06344929196085643,
          0.0481028954851857,
          0.027980855561199766,
          0.005898098057558165,
          -0.015346949085090458,
          -0.0330888359645737,
          -0.04513494909051776,
          -0.050283303681225314,
          -0.048704331116932766,
          -0.04188525089566188,
          -0.03210322431755204,
          -0.021682453309511462,
          -0.012383442930170262,
          -0.005138173644721716,
          -0.00012084841288986315,
          0.0030052914727462287,
          0.004831026771856365,
          0.006010901723956225,
          0.007127337664264085,
          0.008572015071440526,
          0.010443903516921167,
          0.012510323876498548,
          0.014284028383194865,
          0.015221242257862151,
          0.014971064490548122,
          0.013555369279881407,
          0.011371139592013042,
          0.008990018104931264,
          0.00684498467766378,
          0.004975433172011997,
          0.002992343716193809,
          0.0003152308774792066,
          -0.003425725189774965,
          -0.008045753575564352,
          -0.01274186783146676,
          -0.01639670992176142,
          -0.01813062230969394,
          -0.017817753637297186,
          -0.016262122596864843,
          -0.014885481242100634,
          -0.015039289284075552,
          -0.01727602207078825,
          -0.020968599660449123,
          -0.024510727239054123,
          -0.026041351130765184,
          -0.024358939752476376,
          -0.0195630846817049,
          -0.013051863849719222,
          -0.006793830103601936,
          -0.0021755907966094965,
          0.0009755850894272895,
          0.0045653835779935325,
          0.011308339230540365,
          0.023014634642905832,
          0.038963812896904794,
          0.055395560519538124,
          0.06667772721097265,
          0.06777907517566757,
          0.05680409631908761,
          0.036139426969839426,
          0.011463454899033467,
          -0.01088009596313445,
          -0.026650927085259922,
          -0.03508367202569981,
          -0.0382639970173518,
          -0.03917098249481237,
          -0.039754650052597824,
          -0.0401581420669375,
          -0.039274687044574555,
          -0.035966402711766515,
          -0.030021098820285603,
          -0.02232113999013606,
          -0.014337009564708108,
          -0.00745336192167535,
          -0.002575238793812759,
          -0.00010161299894438343,
          -3.619968356894038e-05,
          -0.0019797718690887727,
          -0.004989518153995959,
          -0.007547843234266663,
          -0.007896548934235186,
          -0.004717319380667145,
          0.0022051670020678945,
          0.011800895807752149,
          0.022189733524561245,
          0.0315034218684438,
          0.038454758581545574,
          0.04225311504929816,
          0.04204779697988414,
          0.03657787508606191,
          0.024648662936248386,
          0.00638869880900243,
          -0.015558085023787895,
          -0.03601264133159848,
          -0.04892003010494719,
          -0.050058911502093704,
          -0.039298995527461085,
          -0.020974597707174483,
          -0.001994601347794623,
          0.011328665764851684,
          0.015986897551494274,
          0.013105673134993882,
          0.006644016859959095,
          0.0009131450140407904,
          -0.0016217278482638857,
          -0.00116526589459673,
          0.00014932183479836672,
          -8.794766812603117e-05,
          -0.0030220169277084393,
          -0.007917534297897467
         ]
        }
       ],
       "layout": {
        "font": {
         "color": "#7f7f7f",
         "family": "Courier New, monospace",
         "size": 14
        },
        "height": 400,
        "template": {
         "data": {
          "bar": [
           {
            "error_x": {
             "color": "#2a3f5f"
            },
            "error_y": {
             "color": "#2a3f5f"
            },
            "marker": {
             "line": {
              "color": "#E5ECF6",
              "width": 0.5
             },
             "pattern": {
              "fillmode": "overlay",
              "size": 10,
              "solidity": 0.2
             }
            },
            "type": "bar"
           }
          ],
          "barpolar": [
           {
            "marker": {
             "line": {
              "color": "#E5ECF6",
              "width": 0.5
             },
             "pattern": {
              "fillmode": "overlay",
              "size": 10,
              "solidity": 0.2
             }
            },
            "type": "barpolar"
           }
          ],
          "carpet": [
           {
            "aaxis": {
             "endlinecolor": "#2a3f5f",
             "gridcolor": "white",
             "linecolor": "white",
             "minorgridcolor": "white",
             "startlinecolor": "#2a3f5f"
            },
            "baxis": {
             "endlinecolor": "#2a3f5f",
             "gridcolor": "white",
             "linecolor": "white",
             "minorgridcolor": "white",
             "startlinecolor": "#2a3f5f"
            },
            "type": "carpet"
           }
          ],
          "choropleth": [
           {
            "colorbar": {
             "outlinewidth": 0,
             "ticks": ""
            },
            "type": "choropleth"
           }
          ],
          "contour": [
           {
            "colorbar": {
             "outlinewidth": 0,
             "ticks": ""
            },
            "colorscale": [
             [
              0,
              "#0d0887"
             ],
             [
              0.1111111111111111,
              "#46039f"
             ],
             [
              0.2222222222222222,
              "#7201a8"
             ],
             [
              0.3333333333333333,
              "#9c179e"
             ],
             [
              0.4444444444444444,
              "#bd3786"
             ],
             [
              0.5555555555555556,
              "#d8576b"
             ],
             [
              0.6666666666666666,
              "#ed7953"
             ],
             [
              0.7777777777777778,
              "#fb9f3a"
             ],
             [
              0.8888888888888888,
              "#fdca26"
             ],
             [
              1,
              "#f0f921"
             ]
            ],
            "type": "contour"
           }
          ],
          "contourcarpet": [
           {
            "colorbar": {
             "outlinewidth": 0,
             "ticks": ""
            },
            "type": "contourcarpet"
           }
          ],
          "heatmap": [
           {
            "colorbar": {
             "outlinewidth": 0,
             "ticks": ""
            },
            "colorscale": [
             [
              0,
              "#0d0887"
             ],
             [
              0.1111111111111111,
              "#46039f"
             ],
             [
              0.2222222222222222,
              "#7201a8"
             ],
             [
              0.3333333333333333,
              "#9c179e"
             ],
             [
              0.4444444444444444,
              "#bd3786"
             ],
             [
              0.5555555555555556,
              "#d8576b"
             ],
             [
              0.6666666666666666,
              "#ed7953"
             ],
             [
              0.7777777777777778,
              "#fb9f3a"
             ],
             [
              0.8888888888888888,
              "#fdca26"
             ],
             [
              1,
              "#f0f921"
             ]
            ],
            "type": "heatmap"
           }
          ],
          "heatmapgl": [
           {
            "colorbar": {
             "outlinewidth": 0,
             "ticks": ""
            },
            "colorscale": [
             [
              0,
              "#0d0887"
             ],
             [
              0.1111111111111111,
              "#46039f"
             ],
             [
              0.2222222222222222,
              "#7201a8"
             ],
             [
              0.3333333333333333,
              "#9c179e"
             ],
             [
              0.4444444444444444,
              "#bd3786"
             ],
             [
              0.5555555555555556,
              "#d8576b"
             ],
             [
              0.6666666666666666,
              "#ed7953"
             ],
             [
              0.7777777777777778,
              "#fb9f3a"
             ],
             [
              0.8888888888888888,
              "#fdca26"
             ],
             [
              1,
              "#f0f921"
             ]
            ],
            "type": "heatmapgl"
           }
          ],
          "histogram": [
           {
            "marker": {
             "pattern": {
              "fillmode": "overlay",
              "size": 10,
              "solidity": 0.2
             }
            },
            "type": "histogram"
           }
          ],
          "histogram2d": [
           {
            "colorbar": {
             "outlinewidth": 0,
             "ticks": ""
            },
            "colorscale": [
             [
              0,
              "#0d0887"
             ],
             [
              0.1111111111111111,
              "#46039f"
             ],
             [
              0.2222222222222222,
              "#7201a8"
             ],
             [
              0.3333333333333333,
              "#9c179e"
             ],
             [
              0.4444444444444444,
              "#bd3786"
             ],
             [
              0.5555555555555556,
              "#d8576b"
             ],
             [
              0.6666666666666666,
              "#ed7953"
             ],
             [
              0.7777777777777778,
              "#fb9f3a"
             ],
             [
              0.8888888888888888,
              "#fdca26"
             ],
             [
              1,
              "#f0f921"
             ]
            ],
            "type": "histogram2d"
           }
          ],
          "histogram2dcontour": [
           {
            "colorbar": {
             "outlinewidth": 0,
             "ticks": ""
            },
            "colorscale": [
             [
              0,
              "#0d0887"
             ],
             [
              0.1111111111111111,
              "#46039f"
             ],
             [
              0.2222222222222222,
              "#7201a8"
             ],
             [
              0.3333333333333333,
              "#9c179e"
             ],
             [
              0.4444444444444444,
              "#bd3786"
             ],
             [
              0.5555555555555556,
              "#d8576b"
             ],
             [
              0.6666666666666666,
              "#ed7953"
             ],
             [
              0.7777777777777778,
              "#fb9f3a"
             ],
             [
              0.8888888888888888,
              "#fdca26"
             ],
             [
              1,
              "#f0f921"
             ]
            ],
            "type": "histogram2dcontour"
           }
          ],
          "mesh3d": [
           {
            "colorbar": {
             "outlinewidth": 0,
             "ticks": ""
            },
            "type": "mesh3d"
           }
          ],
          "parcoords": [
           {
            "line": {
             "colorbar": {
              "outlinewidth": 0,
              "ticks": ""
             }
            },
            "type": "parcoords"
           }
          ],
          "pie": [
           {
            "automargin": true,
            "type": "pie"
           }
          ],
          "scatter": [
           {
            "marker": {
             "colorbar": {
              "outlinewidth": 0,
              "ticks": ""
             }
            },
            "type": "scatter"
           }
          ],
          "scatter3d": [
           {
            "line": {
             "colorbar": {
              "outlinewidth": 0,
              "ticks": ""
             }
            },
            "marker": {
             "colorbar": {
              "outlinewidth": 0,
              "ticks": ""
             }
            },
            "type": "scatter3d"
           }
          ],
          "scattercarpet": [
           {
            "marker": {
             "colorbar": {
              "outlinewidth": 0,
              "ticks": ""
             }
            },
            "type": "scattercarpet"
           }
          ],
          "scattergeo": [
           {
            "marker": {
             "colorbar": {
              "outlinewidth": 0,
              "ticks": ""
             }
            },
            "type": "scattergeo"
           }
          ],
          "scattergl": [
           {
            "marker": {
             "colorbar": {
              "outlinewidth": 0,
              "ticks": ""
             }
            },
            "type": "scattergl"
           }
          ],
          "scattermapbox": [
           {
            "marker": {
             "colorbar": {
              "outlinewidth": 0,
              "ticks": ""
             }
            },
            "type": "scattermapbox"
           }
          ],
          "scatterpolar": [
           {
            "marker": {
             "colorbar": {
              "outlinewidth": 0,
              "ticks": ""
             }
            },
            "type": "scatterpolar"
           }
          ],
          "scatterpolargl": [
           {
            "marker": {
             "colorbar": {
              "outlinewidth": 0,
              "ticks": ""
             }
            },
            "type": "scatterpolargl"
           }
          ],
          "scatterternary": [
           {
            "marker": {
             "colorbar": {
              "outlinewidth": 0,
              "ticks": ""
             }
            },
            "type": "scatterternary"
           }
          ],
          "surface": [
           {
            "colorbar": {
             "outlinewidth": 0,
             "ticks": ""
            },
            "colorscale": [
             [
              0,
              "#0d0887"
             ],
             [
              0.1111111111111111,
              "#46039f"
             ],
             [
              0.2222222222222222,
              "#7201a8"
             ],
             [
              0.3333333333333333,
              "#9c179e"
             ],
             [
              0.4444444444444444,
              "#bd3786"
             ],
             [
              0.5555555555555556,
              "#d8576b"
             ],
             [
              0.6666666666666666,
              "#ed7953"
             ],
             [
              0.7777777777777778,
              "#fb9f3a"
             ],
             [
              0.8888888888888888,
              "#fdca26"
             ],
             [
              1,
              "#f0f921"
             ]
            ],
            "type": "surface"
           }
          ],
          "table": [
           {
            "cells": {
             "fill": {
              "color": "#EBF0F8"
             },
             "line": {
              "color": "white"
             }
            },
            "header": {
             "fill": {
              "color": "#C8D4E3"
             },
             "line": {
              "color": "white"
             }
            },
            "type": "table"
           }
          ]
         },
         "layout": {
          "annotationdefaults": {
           "arrowcolor": "#2a3f5f",
           "arrowhead": 0,
           "arrowwidth": 1
          },
          "autotypenumbers": "strict",
          "coloraxis": {
           "colorbar": {
            "outlinewidth": 0,
            "ticks": ""
           }
          },
          "colorscale": {
           "diverging": [
            [
             0,
             "#8e0152"
            ],
            [
             0.1,
             "#c51b7d"
            ],
            [
             0.2,
             "#de77ae"
            ],
            [
             0.3,
             "#f1b6da"
            ],
            [
             0.4,
             "#fde0ef"
            ],
            [
             0.5,
             "#f7f7f7"
            ],
            [
             0.6,
             "#e6f5d0"
            ],
            [
             0.7,
             "#b8e186"
            ],
            [
             0.8,
             "#7fbc41"
            ],
            [
             0.9,
             "#4d9221"
            ],
            [
             1,
             "#276419"
            ]
           ],
           "sequential": [
            [
             0,
             "#0d0887"
            ],
            [
             0.1111111111111111,
             "#46039f"
            ],
            [
             0.2222222222222222,
             "#7201a8"
            ],
            [
             0.3333333333333333,
             "#9c179e"
            ],
            [
             0.4444444444444444,
             "#bd3786"
            ],
            [
             0.5555555555555556,
             "#d8576b"
            ],
            [
             0.6666666666666666,
             "#ed7953"
            ],
            [
             0.7777777777777778,
             "#fb9f3a"
            ],
            [
             0.8888888888888888,
             "#fdca26"
            ],
            [
             1,
             "#f0f921"
            ]
           ],
           "sequentialminus": [
            [
             0,
             "#0d0887"
            ],
            [
             0.1111111111111111,
             "#46039f"
            ],
            [
             0.2222222222222222,
             "#7201a8"
            ],
            [
             0.3333333333333333,
             "#9c179e"
            ],
            [
             0.4444444444444444,
             "#bd3786"
            ],
            [
             0.5555555555555556,
             "#d8576b"
            ],
            [
             0.6666666666666666,
             "#ed7953"
            ],
            [
             0.7777777777777778,
             "#fb9f3a"
            ],
            [
             0.8888888888888888,
             "#fdca26"
            ],
            [
             1,
             "#f0f921"
            ]
           ]
          },
          "colorway": [
           "#636efa",
           "#EF553B",
           "#00cc96",
           "#ab63fa",
           "#FFA15A",
           "#19d3f3",
           "#FF6692",
           "#B6E880",
           "#FF97FF",
           "#FECB52"
          ],
          "font": {
           "color": "#2a3f5f"
          },
          "geo": {
           "bgcolor": "white",
           "lakecolor": "white",
           "landcolor": "#E5ECF6",
           "showlakes": true,
           "showland": true,
           "subunitcolor": "white"
          },
          "hoverlabel": {
           "align": "left"
          },
          "hovermode": "closest",
          "mapbox": {
           "style": "light"
          },
          "paper_bgcolor": "white",
          "plot_bgcolor": "#E5ECF6",
          "polar": {
           "angularaxis": {
            "gridcolor": "white",
            "linecolor": "white",
            "ticks": ""
           },
           "bgcolor": "#E5ECF6",
           "radialaxis": {
            "gridcolor": "white",
            "linecolor": "white",
            "ticks": ""
           }
          },
          "scene": {
           "xaxis": {
            "backgroundcolor": "#E5ECF6",
            "gridcolor": "white",
            "gridwidth": 2,
            "linecolor": "white",
            "showbackground": true,
            "ticks": "",
            "zerolinecolor": "white"
           },
           "yaxis": {
            "backgroundcolor": "#E5ECF6",
            "gridcolor": "white",
            "gridwidth": 2,
            "linecolor": "white",
            "showbackground": true,
            "ticks": "",
            "zerolinecolor": "white"
           },
           "zaxis": {
            "backgroundcolor": "#E5ECF6",
            "gridcolor": "white",
            "gridwidth": 2,
            "linecolor": "white",
            "showbackground": true,
            "ticks": "",
            "zerolinecolor": "white"
           }
          },
          "shapedefaults": {
           "line": {
            "color": "#2a3f5f"
           }
          },
          "ternary": {
           "aaxis": {
            "gridcolor": "white",
            "linecolor": "white",
            "ticks": ""
           },
           "baxis": {
            "gridcolor": "white",
            "linecolor": "white",
            "ticks": ""
           },
           "bgcolor": "#E5ECF6",
           "caxis": {
            "gridcolor": "white",
            "linecolor": "white",
            "ticks": ""
           }
          },
          "title": {
           "x": 0.05
          },
          "xaxis": {
           "automargin": true,
           "gridcolor": "white",
           "linecolor": "white",
           "ticks": "",
           "title": {
            "standoff": 15
           },
           "zerolinecolor": "white",
           "zerolinewidth": 2
          },
          "yaxis": {
           "automargin": true,
           "gridcolor": "white",
           "linecolor": "white",
           "ticks": "",
           "title": {
            "standoff": 15
           },
           "zerolinecolor": "white",
           "zerolinewidth": 2
          }
         }
        },
        "title": {
         "text": "RGB postprocessing"
        },
        "width": 800
       }
      },
      "text/html": [
       "<div>                            <div id=\"a5ae99d3-c317-4989-90f6-53be807af7be\" class=\"plotly-graph-div\" style=\"height:400px; width:800px;\"></div>            <script type=\"text/javascript\">                require([\"plotly\"], function(Plotly) {                    window.PLOTLYENV=window.PLOTLYENV || {};                                    if (document.getElementById(\"a5ae99d3-c317-4989-90f6-53be807af7be\")) {                    Plotly.newPlot(                        \"a5ae99d3-c317-4989-90f6-53be807af7be\",                        [{\"name\":\"ch B\",\"type\":\"scatter\",\"x\":[0.0,1.0,2.0,3.0,4.0,5.0,6.0,7.0,8.0,9.0,10.0,11.0,12.0,13.0,14.0,15.0,16.0,17.0,18.0,19.0,20.0,21.0,22.0,23.0,24.0,25.0,26.0,27.0,28.0,29.0,30.0,31.0,32.0,33.0,34.0,35.0,36.0,37.0,38.0,39.0,40.0,41.0,42.0,43.0,44.0,45.0,46.0,47.0,48.0,49.0,50.0,51.0,52.0,53.0,54.0,55.0,56.0,57.0,58.0,59.0,60.0,61.0,62.0,63.0,64.0,65.0,66.0,67.0,68.0,69.0,70.0,71.0,72.0,73.0,74.0,75.0,76.0,77.0,78.0,79.0,80.0,81.0,82.0,83.0,84.0,85.0,86.0,87.0,88.0,89.0,90.0,91.0,92.0,93.0,94.0,95.0,96.0,97.0,98.0,99.0,100.0,101.0,102.0,103.0,104.0,105.0,106.0,107.0,108.0,109.0,110.0,111.0,112.0,113.0,114.0,115.0,116.0,117.0,118.0,119.0,120.0,121.0,122.0,123.0,124.0,125.0,126.0,127.0,128.0,129.0,130.0,131.0,132.0,133.0,134.0,135.0,136.0,137.0,138.0,139.0,140.0,141.0,142.0,143.0,144.0,145.0,146.0,147.0,148.0,149.0,150.0,151.0,152.0,153.0,154.0,155.0,156.0,157.0,158.0,159.0,160.0,161.0,162.0,163.0,164.0,165.0,166.0,167.0,168.0,169.0,170.0,171.0,172.0,173.0,174.0,175.0,176.0,177.0,178.0,179.0,180.0,181.0,182.0,183.0,184.0,185.0,186.0,187.0,188.0,189.0,190.0,191.0,192.0,193.0,194.0,195.0,196.0,197.0,198.0,199.0,200.0,201.0,202.0,203.0,204.0,205.0,206.0,207.0,208.0,209.0,210.0,211.0,212.0,213.0,214.0,215.0,216.0,217.0,218.0,219.0,220.0,221.0,222.0,223.0,224.0,225.0,226.0,227.0,228.0,229.0,230.0,231.0,232.0,233.0,234.0,235.0,236.0,237.0,238.0,239.0,240.0,241.0,242.0,243.0,244.0,245.0,246.0,247.0,248.0,249.0,250.0,251.0,252.0,253.0,254.0,255.0,256.0,257.0,258.0,259.0,260.0,261.0,262.0,263.0,264.0,265.0,266.0,267.0,268.0,269.0,270.0,271.0,272.0,273.0,274.0,275.0,276.0,277.0,278.0,279.0,280.0,281.0,282.0,283.0,284.0,285.0,286.0,287.0,288.0,289.0,290.0,291.0,292.0,293.0,294.0,295.0,296.0,297.0,298.0,299.0],\"y\":[-0.0024522870997660123,0.0014919836715008216,0.008095362776485222,0.018805623584720838,0.033123602478028244,0.04856766463623038,0.06153774573103115,0.06885839435395842,0.06933930688628266,0.06448353200984694,0.05775372529134561,0.05255891003752571,0.04997335434798544,0.04758773836318275,0.040447420071498784,0.023880373371457438,-0.003205882233836087,-0.036489151122068686,-0.06717152934060554,-0.08552849397793832,-0.08540141528780604,-0.06732543425577876,-0.038604659622492564,-0.010205987803280355,0.008010397410697985,0.011373119224548697,0.0018700160368371093,-0.013500487660235969,-0.026417307333948797,-0.0309971114998171,-0.025878540810709987,-0.013952774617967786,-0.0003004746276377518,0.01037142046101322,0.015548626149024452,0.01537473567942373,0.01191291104170539,0.007831155448054086,0.0051899299293452755,0.004760646872459739,0.0059845207091554255,0.007458710978833174,0.007730525255325314,0.006119669515915816,0.0032322778439479605,0.0008418294992512813,0.0010086352658581444,0.004717914970477287,0.010756843094981424,0.015686539876954196,0.015335618377901622,0.007331984851294693,-0.006700793439626505,-0.020864083089519304,-0.027365735256376415,-0.020723336146721085,-0.001540136230323225,0.02260964340462491,0.040264014295436704,0.041862513775475264,0.025118385435577126,-0.0032149267171664524,-0.03041870085514775,-0.04413896515307257,-0.03848798546511464,-0.016655082155872754,0.01112105712825862,0.032783664651268196,0.039977692775734784,0.03123818988240437,0.011789163952646696,-0.009398046033366834,-0.023664888148959402,-0.02616084505943064,-0.017588698888263428,-0.0036803780901307997,0.007413498739424652,0.008883875657114126,-0.0014054765858805694,-0.01969214961364802,-0.038052891198973114,-0.04841298301607246,-0.046713304593736446,-0.034846822308138146,-0.019215494779461613,-0.00681695349208237,-0.0013039477445700907,-0.0014260384060311927,-0.0026737721747261065,-0.0008561467674477175,0.004877259302734544,0.011628331508789804,0.015230127280205855,0.013904167302570183,0.010490847132214477,0.011456470252696187,0.022933358345285707,0.046077722986956,0.07472696561512379,0.09718531541131152,0.1015851610109547,0.08206802407036631,0.04235345004276811,-0.005414890555158956,-0.046062888882405034,-0.06818316396085775,-0.06877622761690289,-0.05348315126255302,-0.03266473330878939,-0.01578742080374618,-0.007254516148931768,-0.0057186687707947575,-0.00678565809776024,-0.007113357623491712,-0.00724932296402023,-0.011436743289942878,-0.024512397749630863,-0.047834598820167405,-0.07685243811081979,-0.10202506186962183,-0.1128146808916634,-0.10260055494480347,-0.07177554956855274,-0.027387803403205114,0.020225690801044454,0.06166874960210706,0.09122458386845185,0.10707944087723036,0.10983738126847947,0.10110020130884967,0.08333763571887606,0.06075218500739532,0.03964968176000014,0.02697920325486603,0.027145482668085516,0.03884474650706535,0.054245893619702654,0.061768746961084794,0.051558987057775826,0.020869844787416072,-0.023777536017447577,-0.06917960654359759,-0.10160299774864982,-0.11316184922089194,-0.10487640445153461,-0.0848563805251018,-0.0630095604729957,-0.045692944433528365,-0.03349287419418299,-0.023054157032276527,-0.011162435583771776,0.002038412040599478,0.012922630499911335,0.017219017243820994,0.013559861231838406,0.0050859137399438545,-0.0020716465037698023,-0.00239359582698312,0.005758800208252448,0.019293322241981777,0.032359090267897184,0.039750608706046124,0.03960550749238422,0.033906343046346696,0.02676780197744334,0.021788758705890778,0.02012463118662725,0.020291209312345532,0.019558658264271563,0.01587517248279708,0.009089142663351354,0.000831651463507966,-0.0066716648798740225,-0.011972666968701064,-0.015101815286245858,-0.017311678446026272,-0.020209241981371022,-0.024876480915191086,-0.03137345208227423,-0.03864753613682292,-0.0446895618986394,-0.046874918366932736,-0.04259129420917967,-0.03020566243758402,-0.010112971591365844,0.014701497622815328,0.039115149196676295,0.057378105364319705,0.06508259489831855,0.060675389613747,0.04584208029652593,0.02470759623178199,0.002344400348721446,-0.016745491066104654,-0.029680053956404585,-0.03557593868578702,-0.03529086441919527,-0.030719952745999198,-0.023943001765702857,-0.016557191151205932,-0.009436614054549097,-0.0029351563823609888,0.0026954911097487604,0.007007077736931348,0.0093988257974322,0.009470819614600518,0.007423477146956021,0.004190575276177407,0.0011554670805418205,-0.0004334285035272912,-3.2138661905638396e-05,0.0019676673127000284,0.004480815178457395,0.00631032024877913,0.0067462992253561815,0.005860245594870808,0.004357238772762474,0.003104632134778261,0.0026316908466339738,0.0028892208656431996,0.003380653034929783,0.0035407923868460553,0.0030944452423616944,0.002162947194187166,0.0010727622436562836,2.8923916089546703e-05,-0.0010937107417364534,-0.0026761939771136416,-0.005037549843121686,-0.008093662936616976,-0.011246705220570564,-0.013618312596984171,-0.014514554750675247,-0.013845359699966166,-0.012223316980299714,-0.01064327655767934,-0.009897708361764058,-0.01006653980720051,-0.010416517258038549,-0.00983226617092521,-0.007577010971199603,-0.0039266819994742035,-0.00021136892619825728,0.001907717053697734,0.001620757909507504,-8.304735806845948e-05,-0.0004196693790072814,0.003964417295629622,0.01500695340111214,0.03153954599058394,0.04898672371749582,0.060905796137750635,0.06179339355235504,0.04977085594145197,0.02769067621643788,0.001992790708975657,-0.020136851722859728,-0.03381429512120135,-0.038142357672895554,-0.03579171918498163,-0.030954084636915853,-0.02699676284596534,-0.025148221598562316,-0.02475664190811729,-0.0246334173639018,-0.024375574990566043,-0.024709991677607304,-0.026672875755399752,-0.03029753145107116,-0.03385569092637249,-0.03433068689706356,-0.028936335563048397,-0.016726585748974156,0.0007758025821825356,0.02034687292819211,0.038655236161142414,0.053528992070196374,0.06404165067513108,0.06955822118442917,0.0688039301952671,0.06008313961286219,0.04283759518061975,0.019465040030395914,-0.004252239659130227,-0.02105164958667046,-0.025754414327538926,-0.018419715558694556,-0.004924466137874303,0.005766770947755048,0.006294457352782189,-0.005128635173415532,-0.023818883156067013,-0.041300637712994984,-0.04994679995008319,-0.04689958731959768,-0.035162341921217755,-0.02147906425124081,-0.012393216740931474,-0.01072850053358269,-0.014333249160582633]},{\"name\":\"ch R\",\"type\":\"scatter\",\"x\":[0.0,1.0,2.0,3.0,4.0,5.0,6.0,7.0,8.0,9.0,10.0,11.0,12.0,13.0,14.0,15.0,16.0,17.0,18.0,19.0,20.0,21.0,22.0,23.0,24.0,25.0,26.0,27.0,28.0,29.0,30.0,31.0,32.0,33.0,34.0,35.0,36.0,37.0,38.0,39.0,40.0,41.0,42.0,43.0,44.0,45.0,46.0,47.0,48.0,49.0,50.0,51.0,52.0,53.0,54.0,55.0,56.0,57.0,58.0,59.0,60.0,61.0,62.0,63.0,64.0,65.0,66.0,67.0,68.0,69.0,70.0,71.0,72.0,73.0,74.0,75.0,76.0,77.0,78.0,79.0,80.0,81.0,82.0,83.0,84.0,85.0,86.0,87.0,88.0,89.0,90.0,91.0,92.0,93.0,94.0,95.0,96.0,97.0,98.0,99.0,100.0,101.0,102.0,103.0,104.0,105.0,106.0,107.0,108.0,109.0,110.0,111.0,112.0,113.0,114.0,115.0,116.0,117.0,118.0,119.0,120.0,121.0,122.0,123.0,124.0,125.0,126.0,127.0,128.0,129.0,130.0,131.0,132.0,133.0,134.0,135.0,136.0,137.0,138.0,139.0,140.0,141.0,142.0,143.0,144.0,145.0,146.0,147.0,148.0,149.0,150.0,151.0,152.0,153.0,154.0,155.0,156.0,157.0,158.0,159.0,160.0,161.0,162.0,163.0,164.0,165.0,166.0,167.0,168.0,169.0,170.0,171.0,172.0,173.0,174.0,175.0,176.0,177.0,178.0,179.0,180.0,181.0,182.0,183.0,184.0,185.0,186.0,187.0,188.0,189.0,190.0,191.0,192.0,193.0,194.0,195.0,196.0,197.0,198.0,199.0,200.0,201.0,202.0,203.0,204.0,205.0,206.0,207.0,208.0,209.0,210.0,211.0,212.0,213.0,214.0,215.0,216.0,217.0,218.0,219.0,220.0,221.0,222.0,223.0,224.0,225.0,226.0,227.0,228.0,229.0,230.0,231.0,232.0,233.0,234.0,235.0,236.0,237.0,238.0,239.0,240.0,241.0,242.0,243.0,244.0,245.0,246.0,247.0,248.0,249.0,250.0,251.0,252.0,253.0,254.0,255.0,256.0,257.0,258.0,259.0,260.0,261.0,262.0,263.0,264.0,265.0,266.0,267.0,268.0,269.0,270.0,271.0,272.0,273.0,274.0,275.0,276.0,277.0,278.0,279.0,280.0,281.0,282.0,283.0,284.0,285.0,286.0,287.0,288.0,289.0,290.0,291.0,292.0,293.0,294.0,295.0,296.0,297.0,298.0,299.0],\"y\":[-0.0019953931311721762,-0.008546633363437906,-0.011420291966944579,-0.009135525019762034,-0.003173407787855194,0.0029819800775926315,0.005961756313161156,0.0044750876367355905,-6.397322492687871e-05,-0.004592883993722477,-0.006476851721408758,-0.005340214615610735,-0.0035239276398018353,-0.0048261944180169394,-0.012177411533612039,-0.0255413769770063,-0.041251547777256585,-0.05322585228456896,-0.05549883336587504,-0.04484196896079751,-0.022257172056910385,0.007261626201613718,0.036500011398210755,0.05853574378232906,0.069003485524243,0.06729960258226175,0.0563565956036128,0.041175947548100125,0.02678718709672104,0.016492316572739443,0.011060877824458318,0.009060741068959037,0.007995095745239524,0.005621885553060387,0.0008697859676484542,-0.005940991419357256,-0.013505109794379608,-0.020253308966263667,-0.025025544858468293,-0.027442220416325595,-0.027893632956005807,-0.02722016305220749,-0.0262460138933018,-0.025358628276705895,-0.024307455692886597,-0.022330282916063857,-0.018595543091851408,-0.012790614710251717,-0.0055546602163028145,0.001550927647348666,0.0066560294740469084,0.008570254939925092,0.007633948091093537,0.0058598229013300885,0.006092824074382125,0.01047288567641412,0.018992447014268485,0.02904708964197316,0.036426778720165774,0.03738095462805624,0.030692388209736927,0.01858303047628444,0.0058726986278509604,-0.002227196316789735,-0.002567284150926668,0.004443170187374487,0.014957440468250566,0.023304189535361286,0.02436832839761655,0.015802680198446602,-0.0007605538204489351,-0.020033591519467913,-0.03501314847143565,-0.03999093193941428,-0.033430616968364885,-0.019208529223530526,-0.005200403134250075,0.0004988037971501102,-0.006073178695269556,-0.02230905839765781,-0.04016536907839786,-0.05045035064611585,-0.04781663405410933,-0.0334500493541769,-0.013864885637458569,0.003285711135264342,0.01359875071506917,0.017743040473435754,0.019799079230103496,0.023572952962916754,0.02961301590733349,0.0350227840291492,0.03611268387769824,0.031887030560835396,0.025710614913961226,0.023692339150392542,0.030582230588848076,0.045801023997459486,0.06236807566881284,0.06980741376970107,0.059635327642995034,0.030334787110006672,-0.011112351317633676,-0.0521199653949794,-0.08026880739229396,-0.08880971982182083,-0.07901984281939611,-0.05842310138650575,-0.036215334604960424,-0.01863865274823242,-0.006805745109945001,0.0021441059439236887,0.011654790868125632,0.02243726577409921,0.031346370603997184,0.033142325903393555,0.024009648018631348,0.004570735503075623,-0.019610929286108768,-0.04049595619892057,-0.051554240151616595,-0.050795827742703505,-0.040974140882508475,-0.026993592076061737,-0.012484030076457937,0.0019391949918050953,0.01751239093835822,0.034317138315559124,0.04905466491783469,0.055827416482774096,0.049957330156670005,0.032399756230269285,0.011385323368006114,-0.0006457603949502518,0.006250482724654061,0.03290615016078434,0.06875484563696055,0.09593094068707621,0.09809331533271706,0.06927600131597511,0.017667720575697984,-0.038102977200081566,-0.07831094512502518,-0.09190276442581842,-0.08120482169129614,-0.05911265138082269,-0.04079171749024583,-0.03506467607815452,-0.04052280350858919,-0.04817845013351753,-0.04834361925512989,-0.03704480914347188,-0.018054845106796898,0.00021004039578233463,0.010372845282668849,0.010496523772427834,0.004633912910154367,-0.0003135038693817053,0.0009724138233304102,0.009336860069547172,0.021287823803542504,0.031623160285275495,0.03664826604013571,0.03605165733049801,0.03258290592558845,0.03004708178082516,0.030973940605148065,0.03527570139767157,0.04046681485146015,0.043107162509953535,0.040556787800667266,0.032130451875697914,0.019206711654297725,0.0044458902929055705,-0.009341142596476615,-0.02011988975935551,-0.027076786614479396,-0.03061693237269961,-0.03208813630088719,-0.03334030655146864,-0.03611972318187416,-0.041322910863269974,-0.04832215149006553,-0.05475656579500461,-0.05713070522439503,-0.052195571073419864,-0.03858124072903847,-0.01784638157671809,0.005729098811008118,0.026678233079763577,0.04055121952477455,0.045711079021867954,0.04380079792323077,0.03864954527483397,0.034229353488447245,0.032778838217613473,0.034062433642005896,0.0360214790187953,0.03625588132934213,0.033372900319469545,0.027471513202087846,0.01967645482738629,0.011227002066518586,0.002793731912722052,-0.005593613132470242,-0.014104620178372159,-0.022577602629997147,-0.030314402671971264,-0.03633300744100675,-0.03988139397595465,-0.04085459059654086,-0.03983943425274607,-0.03775803330403196,-0.03532884326554399,-0.03267030008389576,-0.02928494091126767,-0.024437844001018384,-0.017707849675953,-0.009374602736421413,-0.00038193792807561294,0.008138015892177105,0.015511771689082292,0.02192307206119445,0.028247598218974462,0.035346646850634336,0.04323121490620886,0.050686279165387094,0.05574049302803587,0.056837091622940136,0.05401099200319314,0.049197824041226856,0.04521634316086658,0.043826460692082535,0.044058888707256084,0.04213943160944972,0.033515234985024935,0.016068591009170297,-0.0075491630319948185,-0.030489037126044734,-0.04565162902783589,-0.05110990919084968,-0.05341366980090401,-0.06559530093568872,-0.09952672834769481,-0.15617815543231225,-0.219824737307308,-0.2612233238893373,-0.25010144559801084,-0.17137547739852035,-0.036129050958826965,0.11975878446469386,0.24985880432577226,0.3173473723056591,0.31049092812310464,0.24552616975081173,0.15623090747812404,0.0767145636557226,0.02689875540248469,0.0075101233406149916,0.0053577988915770895,0.004116889282441759,-0.006169712483311706,-0.02559334286005024,-0.04733969623773162,-0.06387885469952706,-0.07201550004254899,-0.07400020683890568,-0.07479805178564918,-0.07793543089127072,-0.08284128693501976,-0.08524818521336723,-0.080080673620552,-0.06473115548881227,-0.04059629339549374,-0.012105867303228771,0.01577637633078548,0.03967896559326716,0.05819147146084102,0.07061503998802499,0.075581918693616,0.07113287554668127,0.05656758903150874,0.03469442974580209,0.012363826570139208,-0.0019052751393726325,-0.0023307059057880507,0.010315528925112422,0.02816644891061086,0.03984761104668044,0.0364318229144114,0.01636024410953075,-0.01358711631225865,-0.04185375530700603,-0.05811073646569109,-0.05828732757540718,-0.045963296796181205,-0.029661705753308634,-0.017829721992576007,-0.014355129046322915,-0.016938794617073656]},{\"name\":\"ch G\",\"type\":\"scatter\",\"x\":[0.0,1.0,2.0,3.0,4.0,5.0,6.0,7.0,8.0,9.0,10.0,11.0,12.0,13.0,14.0,15.0,16.0,17.0,18.0,19.0,20.0,21.0,22.0,23.0,24.0,25.0,26.0,27.0,28.0,29.0,30.0,31.0,32.0,33.0,34.0,35.0,36.0,37.0,38.0,39.0,40.0,41.0,42.0,43.0,44.0,45.0,46.0,47.0,48.0,49.0,50.0,51.0,52.0,53.0,54.0,55.0,56.0,57.0,58.0,59.0,60.0,61.0,62.0,63.0,64.0,65.0,66.0,67.0,68.0,69.0,70.0,71.0,72.0,73.0,74.0,75.0,76.0,77.0,78.0,79.0,80.0,81.0,82.0,83.0,84.0,85.0,86.0,87.0,88.0,89.0,90.0,91.0,92.0,93.0,94.0,95.0,96.0,97.0,98.0,99.0,100.0,101.0,102.0,103.0,104.0,105.0,106.0,107.0,108.0,109.0,110.0,111.0,112.0,113.0,114.0,115.0,116.0,117.0,118.0,119.0,120.0,121.0,122.0,123.0,124.0,125.0,126.0,127.0,128.0,129.0,130.0,131.0,132.0,133.0,134.0,135.0,136.0,137.0,138.0,139.0,140.0,141.0,142.0,143.0,144.0,145.0,146.0,147.0,148.0,149.0,150.0,151.0,152.0,153.0,154.0,155.0,156.0,157.0,158.0,159.0,160.0,161.0,162.0,163.0,164.0,165.0,166.0,167.0,168.0,169.0,170.0,171.0,172.0,173.0,174.0,175.0,176.0,177.0,178.0,179.0,180.0,181.0,182.0,183.0,184.0,185.0,186.0,187.0,188.0,189.0,190.0,191.0,192.0,193.0,194.0,195.0,196.0,197.0,198.0,199.0,200.0,201.0,202.0,203.0,204.0,205.0,206.0,207.0,208.0,209.0,210.0,211.0,212.0,213.0,214.0,215.0,216.0,217.0,218.0,219.0,220.0,221.0,222.0,223.0,224.0,225.0,226.0,227.0,228.0,229.0,230.0,231.0,232.0,233.0,234.0,235.0,236.0,237.0,238.0,239.0,240.0,241.0,242.0,243.0,244.0,245.0,246.0,247.0,248.0,249.0,250.0,251.0,252.0,253.0,254.0,255.0,256.0,257.0,258.0,259.0,260.0,261.0,262.0,263.0,264.0,265.0,266.0,267.0,268.0,269.0,270.0,271.0,272.0,273.0,274.0,275.0,276.0,277.0,278.0,279.0,280.0,281.0,282.0,283.0,284.0,285.0,286.0,287.0,288.0,289.0,290.0,291.0,292.0,293.0,294.0,295.0,296.0,297.0,298.0,299.0],\"y\":[-0.004791006134287323,0.08394568440261921,0.14947310602848488,0.1772594602087133,0.16618485036404237,0.1272815499526938,0.07769621683648967,0.03319573622326907,0.0027612405005010337,-0.012761090689449882,-0.018265757565243602,-0.02025102689917996,-0.023270436289004645,-0.028393173495819653,-0.03372623487110516,-0.036092109808177474,-0.03280273115812191,-0.022902259345215285,-0.00773097662080548,0.009175633442827059,0.02291447353692185,0.028778569695272208,0.024178675221297487,0.010066352518340666,-0.00905383171419466,-0.026806308954485446,-0.03761147075879668,-0.03897152907810158,-0.032191837056851184,-0.021270257768104976,-0.01071605895198817,-0.0035484611027797033,-0.00043830013264166065,-0.00017532768097032014,-0.0009056302674990448,-0.0013033432656216755,-0.0010815032627171546,-0.0007555900151720583,-0.0010019681084082056,-0.0020848774534582997,-0.0036646192070921473,-0.005010571031209049,-0.005414925961880781,-0.004541840899717401,-0.002541353567290054,8.13314140228334e-05,0.0027241636610304057,0.004923216550882255,0.006465097498317462,0.007362813586353447,0.007745220458988869,0.007731471541562773,0.007352343413383005,0.006557424388800239,0.005311960320182563,0.0037352744236496824,0.002182843636880521,0.001172228652658314,0.0011333557125549096,0.0020991823068814515,0.0035501994181175948,0.00458680573947382,0.004410780039928243,0.0028568381821425437,0.0006028332740163887,-0.0011753268113431437,-0.0015890684508952906,-0.000794519072209025,-0.00015525076752946967,-0.0015347438691353603,-0.006006398634876105,-0.01276398214372615,-0.01906956551527558,-0.021545507784140692,-0.018244147924941483,-0.010257849061465887,-0.0016849472983033473,0.002342405587733243,-0.0013960746381152696,-0.012053808504426555,-0.02482148025744597,-0.03343104637172061,-0.03365651029796368,-0.0256941663653178,-0.013948259753171002,-0.004355782360600345,-0.0009073384777642452,-0.0034819119170111804,-0.008250402854547341,-0.010296695696986314,-0.006762204999609826,0.0014590777468548688,0.010520612902732346,0.016396652296329226,0.017838515126740374,0.017532661231174976,0.020531251036886786,0.030739906887930327,0.047594910280372243,0.06516194958718499,0.07457035886292525,0.06867436572670244,0.046333153932761335,0.013720882770460387,-0.018293000703428573,-0.03936156728314488,-0.044605321401032606,-0.036578648350420365,-0.023294601786189632,-0.013580894991449963,-0.012459469616747144,-0.019091064778474196,-0.02826913550568747,-0.034394508046758955,-0.03544997045053002,-0.034501514049929904,-0.03770119649692848,-0.0498765791869871,-0.0703570849253729,-0.09173330635782129,-0.10264064500622484,-0.09328680979357927,-0.060730291231543915,-0.010950446756823818,0.04345135201652591,0.08861326607219759,0.11491433519384023,0.11987733641159126,0.10749034585954124,0.08506493885132045,0.05984336754293165,0.0371074778526776,0.020088700139530638,0.010683212110802021,0.009708055971233365,0.016224790449747215,0.026595869472037344,0.034525690256240193,0.03289081365552703,0.01693035039493257,-0.012817232585532613,-0.04969734135447313,-0.08311813750251948,-0.10290157792642944,-0.10364711613720656,-0.08686084912605024,-0.05983914837092227,-0.03207015931409981,-0.011141312331766715,-0.00015910241157503354,0.0023634452952671385,0.000583211074960011,-0.0012792583678953723,-0.0008253991017042855,0.0020770682082761824,0.006107295919781192,0.009781689600139785,0.01240202745475091,0.01424402806127736,0.016083121677875824,0.01848009003227912,0.021276951005431102,0.02356061859788716,0.024091531925911083,0.021985060048992526,0.017324357898185948,0.011386177538917904,0.006285140126486017,0.004083091134307227,0.005704628677560068,0.010203096225971656,0.014866388749887879,0.016276391402881667,0.011887356426985747,0.0012973923637270867,-0.013531532013309047,-0.02925743821193865,-0.042740517606449695,-0.05222785791857102,-0.05744133424928874,-0.058670172711321154,-0.05569259918313847,-0.047452093932973505,-0.03281432261010294,-0.011883369622450266,0.013102451759300821,0.03800917832147575,0.05811946183369782,0.06975878353776897,0.07134568823436503,0.06344929196085643,0.0481028954851857,0.027980855561199766,0.005898098057558165,-0.015346949085090458,-0.0330888359645737,-0.04513494909051776,-0.050283303681225314,-0.048704331116932766,-0.04188525089566188,-0.03210322431755204,-0.021682453309511462,-0.012383442930170262,-0.005138173644721716,-0.00012084841288986315,0.0030052914727462287,0.004831026771856365,0.006010901723956225,0.007127337664264085,0.008572015071440526,0.010443903516921167,0.012510323876498548,0.014284028383194865,0.015221242257862151,0.014971064490548122,0.013555369279881407,0.011371139592013042,0.008990018104931264,0.00684498467766378,0.004975433172011997,0.002992343716193809,0.0003152308774792066,-0.003425725189774965,-0.008045753575564352,-0.01274186783146676,-0.01639670992176142,-0.01813062230969394,-0.017817753637297186,-0.016262122596864843,-0.014885481242100634,-0.015039289284075552,-0.01727602207078825,-0.020968599660449123,-0.024510727239054123,-0.026041351130765184,-0.024358939752476376,-0.0195630846817049,-0.013051863849719222,-0.006793830103601936,-0.0021755907966094965,0.0009755850894272895,0.0045653835779935325,0.011308339230540365,0.023014634642905832,0.038963812896904794,0.055395560519538124,0.06667772721097265,0.06777907517566757,0.05680409631908761,0.036139426969839426,0.011463454899033467,-0.01088009596313445,-0.026650927085259922,-0.03508367202569981,-0.0382639970173518,-0.03917098249481237,-0.039754650052597824,-0.0401581420669375,-0.039274687044574555,-0.035966402711766515,-0.030021098820285603,-0.02232113999013606,-0.014337009564708108,-0.00745336192167535,-0.002575238793812759,-0.00010161299894438343,-3.619968356894038e-05,-0.0019797718690887727,-0.004989518153995959,-0.007547843234266663,-0.007896548934235186,-0.004717319380667145,0.0022051670020678945,0.011800895807752149,0.022189733524561245,0.0315034218684438,0.038454758581545574,0.04225311504929816,0.04204779697988414,0.03657787508606191,0.024648662936248386,0.00638869880900243,-0.015558085023787895,-0.03601264133159848,-0.04892003010494719,-0.050058911502093704,-0.039298995527461085,-0.020974597707174483,-0.001994601347794623,0.011328665764851684,0.015986897551494274,0.013105673134993882,0.006644016859959095,0.0009131450140407904,-0.0016217278482638857,-0.00116526589459673,0.00014932183479836672,-8.794766812603117e-05,-0.0030220169277084393,-0.007917534297897467]}],                        {\"font\":{\"color\":\"#7f7f7f\",\"family\":\"Courier New, monospace\",\"size\":14},\"height\":400,\"template\":{\"data\":{\"bar\":[{\"error_x\":{\"color\":\"#2a3f5f\"},\"error_y\":{\"color\":\"#2a3f5f\"},\"marker\":{\"line\":{\"color\":\"#E5ECF6\",\"width\":0.5},\"pattern\":{\"fillmode\":\"overlay\",\"size\":10,\"solidity\":0.2}},\"type\":\"bar\"}],\"barpolar\":[{\"marker\":{\"line\":{\"color\":\"#E5ECF6\",\"width\":0.5},\"pattern\":{\"fillmode\":\"overlay\",\"size\":10,\"solidity\":0.2}},\"type\":\"barpolar\"}],\"carpet\":[{\"aaxis\":{\"endlinecolor\":\"#2a3f5f\",\"gridcolor\":\"white\",\"linecolor\":\"white\",\"minorgridcolor\":\"white\",\"startlinecolor\":\"#2a3f5f\"},\"baxis\":{\"endlinecolor\":\"#2a3f5f\",\"gridcolor\":\"white\",\"linecolor\":\"white\",\"minorgridcolor\":\"white\",\"startlinecolor\":\"#2a3f5f\"},\"type\":\"carpet\"}],\"choropleth\":[{\"colorbar\":{\"outlinewidth\":0,\"ticks\":\"\"},\"type\":\"choropleth\"}],\"contour\":[{\"colorbar\":{\"outlinewidth\":0,\"ticks\":\"\"},\"colorscale\":[[0.0,\"#0d0887\"],[0.1111111111111111,\"#46039f\"],[0.2222222222222222,\"#7201a8\"],[0.3333333333333333,\"#9c179e\"],[0.4444444444444444,\"#bd3786\"],[0.5555555555555556,\"#d8576b\"],[0.6666666666666666,\"#ed7953\"],[0.7777777777777778,\"#fb9f3a\"],[0.8888888888888888,\"#fdca26\"],[1.0,\"#f0f921\"]],\"type\":\"contour\"}],\"contourcarpet\":[{\"colorbar\":{\"outlinewidth\":0,\"ticks\":\"\"},\"type\":\"contourcarpet\"}],\"heatmap\":[{\"colorbar\":{\"outlinewidth\":0,\"ticks\":\"\"},\"colorscale\":[[0.0,\"#0d0887\"],[0.1111111111111111,\"#46039f\"],[0.2222222222222222,\"#7201a8\"],[0.3333333333333333,\"#9c179e\"],[0.4444444444444444,\"#bd3786\"],[0.5555555555555556,\"#d8576b\"],[0.6666666666666666,\"#ed7953\"],[0.7777777777777778,\"#fb9f3a\"],[0.8888888888888888,\"#fdca26\"],[1.0,\"#f0f921\"]],\"type\":\"heatmap\"}],\"heatmapgl\":[{\"colorbar\":{\"outlinewidth\":0,\"ticks\":\"\"},\"colorscale\":[[0.0,\"#0d0887\"],[0.1111111111111111,\"#46039f\"],[0.2222222222222222,\"#7201a8\"],[0.3333333333333333,\"#9c179e\"],[0.4444444444444444,\"#bd3786\"],[0.5555555555555556,\"#d8576b\"],[0.6666666666666666,\"#ed7953\"],[0.7777777777777778,\"#fb9f3a\"],[0.8888888888888888,\"#fdca26\"],[1.0,\"#f0f921\"]],\"type\":\"heatmapgl\"}],\"histogram\":[{\"marker\":{\"pattern\":{\"fillmode\":\"overlay\",\"size\":10,\"solidity\":0.2}},\"type\":\"histogram\"}],\"histogram2d\":[{\"colorbar\":{\"outlinewidth\":0,\"ticks\":\"\"},\"colorscale\":[[0.0,\"#0d0887\"],[0.1111111111111111,\"#46039f\"],[0.2222222222222222,\"#7201a8\"],[0.3333333333333333,\"#9c179e\"],[0.4444444444444444,\"#bd3786\"],[0.5555555555555556,\"#d8576b\"],[0.6666666666666666,\"#ed7953\"],[0.7777777777777778,\"#fb9f3a\"],[0.8888888888888888,\"#fdca26\"],[1.0,\"#f0f921\"]],\"type\":\"histogram2d\"}],\"histogram2dcontour\":[{\"colorbar\":{\"outlinewidth\":0,\"ticks\":\"\"},\"colorscale\":[[0.0,\"#0d0887\"],[0.1111111111111111,\"#46039f\"],[0.2222222222222222,\"#7201a8\"],[0.3333333333333333,\"#9c179e\"],[0.4444444444444444,\"#bd3786\"],[0.5555555555555556,\"#d8576b\"],[0.6666666666666666,\"#ed7953\"],[0.7777777777777778,\"#fb9f3a\"],[0.8888888888888888,\"#fdca26\"],[1.0,\"#f0f921\"]],\"type\":\"histogram2dcontour\"}],\"mesh3d\":[{\"colorbar\":{\"outlinewidth\":0,\"ticks\":\"\"},\"type\":\"mesh3d\"}],\"parcoords\":[{\"line\":{\"colorbar\":{\"outlinewidth\":0,\"ticks\":\"\"}},\"type\":\"parcoords\"}],\"pie\":[{\"automargin\":true,\"type\":\"pie\"}],\"scatter\":[{\"marker\":{\"colorbar\":{\"outlinewidth\":0,\"ticks\":\"\"}},\"type\":\"scatter\"}],\"scatter3d\":[{\"line\":{\"colorbar\":{\"outlinewidth\":0,\"ticks\":\"\"}},\"marker\":{\"colorbar\":{\"outlinewidth\":0,\"ticks\":\"\"}},\"type\":\"scatter3d\"}],\"scattercarpet\":[{\"marker\":{\"colorbar\":{\"outlinewidth\":0,\"ticks\":\"\"}},\"type\":\"scattercarpet\"}],\"scattergeo\":[{\"marker\":{\"colorbar\":{\"outlinewidth\":0,\"ticks\":\"\"}},\"type\":\"scattergeo\"}],\"scattergl\":[{\"marker\":{\"colorbar\":{\"outlinewidth\":0,\"ticks\":\"\"}},\"type\":\"scattergl\"}],\"scattermapbox\":[{\"marker\":{\"colorbar\":{\"outlinewidth\":0,\"ticks\":\"\"}},\"type\":\"scattermapbox\"}],\"scatterpolar\":[{\"marker\":{\"colorbar\":{\"outlinewidth\":0,\"ticks\":\"\"}},\"type\":\"scatterpolar\"}],\"scatterpolargl\":[{\"marker\":{\"colorbar\":{\"outlinewidth\":0,\"ticks\":\"\"}},\"type\":\"scatterpolargl\"}],\"scatterternary\":[{\"marker\":{\"colorbar\":{\"outlinewidth\":0,\"ticks\":\"\"}},\"type\":\"scatterternary\"}],\"surface\":[{\"colorbar\":{\"outlinewidth\":0,\"ticks\":\"\"},\"colorscale\":[[0.0,\"#0d0887\"],[0.1111111111111111,\"#46039f\"],[0.2222222222222222,\"#7201a8\"],[0.3333333333333333,\"#9c179e\"],[0.4444444444444444,\"#bd3786\"],[0.5555555555555556,\"#d8576b\"],[0.6666666666666666,\"#ed7953\"],[0.7777777777777778,\"#fb9f3a\"],[0.8888888888888888,\"#fdca26\"],[1.0,\"#f0f921\"]],\"type\":\"surface\"}],\"table\":[{\"cells\":{\"fill\":{\"color\":\"#EBF0F8\"},\"line\":{\"color\":\"white\"}},\"header\":{\"fill\":{\"color\":\"#C8D4E3\"},\"line\":{\"color\":\"white\"}},\"type\":\"table\"}]},\"layout\":{\"annotationdefaults\":{\"arrowcolor\":\"#2a3f5f\",\"arrowhead\":0,\"arrowwidth\":1},\"autotypenumbers\":\"strict\",\"coloraxis\":{\"colorbar\":{\"outlinewidth\":0,\"ticks\":\"\"}},\"colorscale\":{\"diverging\":[[0,\"#8e0152\"],[0.1,\"#c51b7d\"],[0.2,\"#de77ae\"],[0.3,\"#f1b6da\"],[0.4,\"#fde0ef\"],[0.5,\"#f7f7f7\"],[0.6,\"#e6f5d0\"],[0.7,\"#b8e186\"],[0.8,\"#7fbc41\"],[0.9,\"#4d9221\"],[1,\"#276419\"]],\"sequential\":[[0.0,\"#0d0887\"],[0.1111111111111111,\"#46039f\"],[0.2222222222222222,\"#7201a8\"],[0.3333333333333333,\"#9c179e\"],[0.4444444444444444,\"#bd3786\"],[0.5555555555555556,\"#d8576b\"],[0.6666666666666666,\"#ed7953\"],[0.7777777777777778,\"#fb9f3a\"],[0.8888888888888888,\"#fdca26\"],[1.0,\"#f0f921\"]],\"sequentialminus\":[[0.0,\"#0d0887\"],[0.1111111111111111,\"#46039f\"],[0.2222222222222222,\"#7201a8\"],[0.3333333333333333,\"#9c179e\"],[0.4444444444444444,\"#bd3786\"],[0.5555555555555556,\"#d8576b\"],[0.6666666666666666,\"#ed7953\"],[0.7777777777777778,\"#fb9f3a\"],[0.8888888888888888,\"#fdca26\"],[1.0,\"#f0f921\"]]},\"colorway\":[\"#636efa\",\"#EF553B\",\"#00cc96\",\"#ab63fa\",\"#FFA15A\",\"#19d3f3\",\"#FF6692\",\"#B6E880\",\"#FF97FF\",\"#FECB52\"],\"font\":{\"color\":\"#2a3f5f\"},\"geo\":{\"bgcolor\":\"white\",\"lakecolor\":\"white\",\"landcolor\":\"#E5ECF6\",\"showlakes\":true,\"showland\":true,\"subunitcolor\":\"white\"},\"hoverlabel\":{\"align\":\"left\"},\"hovermode\":\"closest\",\"mapbox\":{\"style\":\"light\"},\"paper_bgcolor\":\"white\",\"plot_bgcolor\":\"#E5ECF6\",\"polar\":{\"angularaxis\":{\"gridcolor\":\"white\",\"linecolor\":\"white\",\"ticks\":\"\"},\"bgcolor\":\"#E5ECF6\",\"radialaxis\":{\"gridcolor\":\"white\",\"linecolor\":\"white\",\"ticks\":\"\"}},\"scene\":{\"xaxis\":{\"backgroundcolor\":\"#E5ECF6\",\"gridcolor\":\"white\",\"gridwidth\":2,\"linecolor\":\"white\",\"showbackground\":true,\"ticks\":\"\",\"zerolinecolor\":\"white\"},\"yaxis\":{\"backgroundcolor\":\"#E5ECF6\",\"gridcolor\":\"white\",\"gridwidth\":2,\"linecolor\":\"white\",\"showbackground\":true,\"ticks\":\"\",\"zerolinecolor\":\"white\"},\"zaxis\":{\"backgroundcolor\":\"#E5ECF6\",\"gridcolor\":\"white\",\"gridwidth\":2,\"linecolor\":\"white\",\"showbackground\":true,\"ticks\":\"\",\"zerolinecolor\":\"white\"}},\"shapedefaults\":{\"line\":{\"color\":\"#2a3f5f\"}},\"ternary\":{\"aaxis\":{\"gridcolor\":\"white\",\"linecolor\":\"white\",\"ticks\":\"\"},\"baxis\":{\"gridcolor\":\"white\",\"linecolor\":\"white\",\"ticks\":\"\"},\"bgcolor\":\"#E5ECF6\",\"caxis\":{\"gridcolor\":\"white\",\"linecolor\":\"white\",\"ticks\":\"\"}},\"title\":{\"x\":0.05},\"xaxis\":{\"automargin\":true,\"gridcolor\":\"white\",\"linecolor\":\"white\",\"ticks\":\"\",\"title\":{\"standoff\":15},\"zerolinecolor\":\"white\",\"zerolinewidth\":2},\"yaxis\":{\"automargin\":true,\"gridcolor\":\"white\",\"linecolor\":\"white\",\"ticks\":\"\",\"title\":{\"standoff\":15},\"zerolinecolor\":\"white\",\"zerolinewidth\":2}}},\"title\":{\"text\":\"RGB postprocessing\"},\"width\":800},                        {\"responsive\": true}                    ).then(function(){\n",
       "                            \n",
       "var gd = document.getElementById('a5ae99d3-c317-4989-90f6-53be807af7be');\n",
       "var x = new MutationObserver(function (mutations, observer) {{\n",
       "        var display = window.getComputedStyle(gd).display;\n",
       "        if (!display || display === 'none') {{\n",
       "            console.log([gd, 'removed!']);\n",
       "            Plotly.purge(gd);\n",
       "            observer.disconnect();\n",
       "        }}\n",
       "}});\n",
       "\n",
       "// Listen for the removal of the full notebook cells\n",
       "var notebookContainer = gd.closest('#notebook-container');\n",
       "if (notebookContainer) {{\n",
       "    x.observe(notebookContainer, {childList: true});\n",
       "}}\n",
       "\n",
       "// Listen for the clearing of the current output cell\n",
       "var outputEl = gd.closest('.output');\n",
       "if (outputEl) {{\n",
       "    x.observe(outputEl, {childList: true});\n",
       "}}\n",
       "\n",
       "                        })                };                });            </script>        </div>"
      ]
     },
     "metadata": {},
     "output_type": "display_data"
    },
    {
     "name": "stdout",
     "output_type": "stream",
     "text": [
      "[ 1.34281074e-03  2.05452043e-01  3.53271945e-01  4.12088015e-01\n",
      "  3.84101724e-01  3.00661291e-01  2.03909836e-01  1.26698156e-01\n",
      "  8.11731124e-02  6.02957868e-02  4.88603067e-02  3.59296495e-02\n",
      "  2.12352295e-02  1.29271247e-02  1.96890010e-02  4.31581441e-02\n",
      "  7.54091980e-02  1.02331375e-01  1.10021939e-01  9.02250641e-02\n",
      "  4.25333264e-02 -2.63639969e-02 -1.04810220e-01 -1.78636599e-01\n",
      " -2.33977574e-01 -2.60631589e-01 -2.55210913e-01 -2.22468210e-01\n",
      " -1.73582535e-01 -1.21788702e-01 -7.73701802e-02 -4.44749033e-02\n",
      " -2.11443138e-02 -2.12032979e-03  1.74103600e-02  3.91849869e-02\n",
      "  6.14641653e-02  8.06135535e-02  9.34404436e-02  9.89100994e-02\n",
      "  9.84552237e-02  9.49612939e-02  9.11645357e-02  8.83600260e-02\n",
      "  8.60098109e-02  8.23095532e-02  7.53127585e-02  6.40188430e-02\n",
      "  4.89323935e-02  3.18882261e-02  1.52595341e-02  9.11965786e-04\n",
      " -1.06212704e-02 -2.03212542e-02 -3.00416411e-02 -4.12595271e-02\n",
      " -5.38327737e-02 -6.55249376e-02 -7.27638991e-02 -7.24264872e-02\n",
      " -6.37563429e-02 -4.92932309e-02 -3.41411969e-02 -2.38014181e-02\n",
      " -2.15983765e-02 -2.69609294e-02 -3.53970356e-02 -4.02210384e-02\n",
      " -3.53651909e-02 -1.81863103e-02  8.88138990e-03  3.86837861e-02\n",
      "  6.19095641e-02  7.10863159e-02  6.43010768e-02  4.66274783e-02\n",
      "  2.80597941e-02  1.85756178e-02  2.28206390e-02  3.75148675e-02\n",
      "  5.33074342e-02  6.00939350e-02  5.25283683e-02  3.23017726e-02\n",
      "  5.97873551e-03 -1.97428353e-02 -4.17953808e-02 -6.09308782e-02\n",
      " -7.86159143e-02 -9.35315697e-02 -1.00922364e-01 -9.57817516e-02\n",
      " -7.76445437e-02 -5.30369353e-02 -3.28925222e-02 -2.58103117e-02\n",
      " -3.14277686e-02 -3.88165148e-02 -3.18995579e-02  8.00709850e-04\n",
      "  5.80372703e-02  1.24714224e-01  1.78905481e-01  2.03011723e-01\n",
      "  1.92427911e-01  1.56704831e-01  1.12884263e-01  7.53737329e-02\n",
      "  4.85203517e-02  2.60552629e-02 -2.75857524e-03 -4.44541526e-02\n",
      " -9.57180058e-02 -1.44362433e-01 -1.76372045e-01 -1.84611340e-01\n",
      " -1.73491168e-01 -1.56136834e-01 -1.45273918e-01 -1.43412481e-01\n",
      " -1.39086336e-01 -1.12705666e-01 -4.95527174e-02  4.77552573e-02\n",
      "  1.55779508e-01  2.39412491e-01  2.69529175e-01  2.39082549e-01\n",
      "  1.67702219e-01  9.13640056e-02  4.26912864e-02  3.32699908e-02\n",
      "  4.83513679e-02  5.70816381e-02  3.22551517e-02 -3.20842196e-02\n",
      " -1.15713695e-01 -1.83087842e-01 -2.03706936e-01 -1.69934159e-01\n",
      " -1.01576781e-01 -3.43989338e-02  6.09870810e-04 -5.20178269e-03\n",
      " -3.42220573e-02 -5.44421338e-02 -3.96891231e-02  1.41388871e-02\n",
      "  8.65088848e-02  1.44484942e-01  1.61883625e-01  1.33645633e-01\n",
      "  7.72616482e-02  2.14293457e-02 -1.03029380e-02 -1.10096971e-02\n",
      "  8.86477240e-03  3.03346699e-02  3.78160117e-02  2.69817780e-02\n",
      "  4.82641127e-03 -1.67494900e-02 -2.90864342e-02 -3.16715848e-02\n",
      " -3.13902072e-02 -3.72186633e-02 -5.38955438e-02 -7.83481772e-02\n",
      " -1.00835767e-01 -1.10043379e-01 -9.92068368e-02 -6.98723675e-02\n",
      " -3.13086230e-02  3.91804717e-03  2.55823248e-02  2.95917222e-02\n",
      "  1.83535419e-02 -1.54121310e-03 -2.21281026e-02 -3.56275019e-02\n",
      " -3.47986239e-02 -1.36021863e-02  3.05758554e-02  9.37477445e-02\n",
      "  1.63639332e-01  2.21945120e-01  2.50708901e-01  2.39961503e-01\n",
      "  1.92246834e-01  1.21106622e-01  4.42150869e-02 -2.47892273e-02\n",
      " -8.09952303e-02 -1.27075567e-01 -1.67817633e-01 -2.04466457e-01\n",
      " -2.32678585e-01 -2.45040151e-01 -2.35937888e-01 -2.05290997e-01\n",
      " -1.58871893e-01 -1.05458037e-01 -5.29754240e-02 -5.98043696e-03\n",
      "  3.44824950e-02  6.92604038e-02  9.91990208e-02  1.24206885e-01\n",
      "  1.43544871e-01  1.56725007e-01  1.64134366e-01  1.66877313e-01\n",
      "  1.65979490e-01  1.61562062e-01  1.52612323e-01  1.37583654e-01\n",
      "  1.15517717e-01  8.70157625e-02  5.44060274e-02  2.08710981e-02\n",
      " -1.10816112e-02 -4.09291546e-02 -7.03009210e-02 -1.01629955e-01\n",
      " -1.35855744e-01 -1.70566526e-01 -2.00060666e-01 -2.17878913e-01\n",
      " -2.20753816e-01 -2.11575802e-01 -1.98933097e-01 -1.92479848e-01\n",
      " -1.96146215e-01 -2.03377862e-01 -1.98436820e-01 -1.64688576e-01\n",
      " -9.60455975e-02 -4.25131681e-03  8.45908246e-02  1.45089005e-01\n",
      "  1.71884320e-01  1.90407581e-01  2.48321043e-01  3.87266017e-01\n",
      "  6.08232837e-01  8.52128001e-01  1.01272669e+00  9.82138070e-01\n",
      "  7.08097063e-01  2.31258828e-01 -3.21671135e-01 -7.89264985e-01\n",
      " -1.04547153e+00 -1.05142657e+00 -8.62722261e-01 -5.91775485e-01\n",
      " -3.49303761e-01 -1.97290194e-01 -1.35048826e-01 -1.18884284e-01\n",
      " -9.80011407e-02 -4.42536818e-02  3.84913776e-02  1.25339169e-01\n",
      "  1.90500343e-01  2.22900778e-01  2.29329382e-01  2.26144117e-01\n",
      "  2.26983826e-01  2.34702779e-01  2.41569947e-01  2.36043497e-01\n",
      "  2.10784482e-01  1.66798911e-01  1.11909658e-01  5.56403540e-02\n",
      "  4.51294173e-03 -3.92685874e-02 -7.57087028e-02 -1.04035994e-01\n",
      " -1.21787387e-01 -1.26918603e-01 -1.21120846e-01 -1.11138028e-01\n",
      " -1.06060131e-01 -1.11585699e-01 -1.24933236e-01 -1.34359999e-01\n",
      " -1.24641174e-01 -8.59366023e-02 -2.08557320e-02  5.48588043e-02\n",
      "  1.18961956e-01  1.53175738e-01  1.51689496e-01  1.23072791e-01\n",
      "  8.48240132e-02  5.38305011e-02  3.79788579e-02  3.31994284e-02]\n"
     ]
    },
    {
     "data": {
      "application/vnd.plotly.v1+json": {
       "config": {
        "plotlyServerURL": "https://plot.ly"
       },
       "data": [
        {
         "name": "BVP 0",
         "type": "scatter",
         "x": [
          0,
          0.03333333333333333,
          0.06666666666666667,
          0.1,
          0.13333333333333333,
          0.16666666666666666,
          0.2,
          0.23333333333333334,
          0.26666666666666666,
          0.3,
          0.3333333333333333,
          0.36666666666666664,
          0.4,
          0.43333333333333335,
          0.4666666666666667,
          0.5,
          0.5333333333333333,
          0.5666666666666667,
          0.6,
          0.6333333333333333,
          0.6666666666666666,
          0.7,
          0.7333333333333333,
          0.7666666666666666,
          0.8,
          0.8333333333333334,
          0.8666666666666667,
          0.9,
          0.9333333333333333,
          0.9666666666666667,
          1,
          1.0333333333333332,
          1.0666666666666667,
          1.1,
          1.1333333333333333,
          1.1666666666666667,
          1.2,
          1.2333333333333334,
          1.2666666666666666,
          1.3,
          1.3333333333333333,
          1.3666666666666667,
          1.4,
          1.4333333333333333,
          1.4666666666666666,
          1.5,
          1.5333333333333332,
          1.5666666666666667,
          1.6,
          1.6333333333333333,
          1.6666666666666667,
          1.7,
          1.7333333333333334,
          1.7666666666666666,
          1.8,
          1.8333333333333333,
          1.8666666666666667,
          1.9,
          1.9333333333333333,
          1.9666666666666666,
          2,
          2.033333333333333,
          2.0666666666666664,
          2.1,
          2.1333333333333333,
          2.1666666666666665,
          2.2,
          2.2333333333333334,
          2.2666666666666666,
          2.3,
          2.3333333333333335,
          2.3666666666666667,
          2.4,
          2.433333333333333,
          2.466666666666667,
          2.5,
          2.533333333333333,
          2.5666666666666664,
          2.6,
          2.6333333333333333,
          2.6666666666666665,
          2.7,
          2.7333333333333334,
          2.7666666666666666,
          2.8,
          2.8333333333333335,
          2.8666666666666667,
          2.9,
          2.933333333333333,
          2.966666666666667,
          3,
          3.033333333333333,
          3.0666666666666664,
          3.1,
          3.1333333333333333,
          3.1666666666666665,
          3.2,
          3.2333333333333334,
          3.2666666666666666,
          3.3,
          3.3333333333333335,
          3.3666666666666667,
          3.4,
          3.433333333333333,
          3.466666666666667,
          3.5,
          3.533333333333333,
          3.5666666666666664,
          3.6,
          3.6333333333333333,
          3.6666666666666665,
          3.6999999999999997,
          3.7333333333333334,
          3.7666666666666666,
          3.8,
          3.8333333333333335,
          3.8666666666666667,
          3.9,
          3.933333333333333,
          3.966666666666667,
          4,
          4.033333333333333,
          4.066666666666666,
          4.1,
          4.133333333333333,
          4.166666666666667,
          4.2,
          4.233333333333333,
          4.266666666666667,
          4.3,
          4.333333333333333,
          4.366666666666666,
          4.4,
          4.433333333333334,
          4.466666666666667,
          4.5,
          4.533333333333333,
          4.566666666666666,
          4.6,
          4.633333333333333,
          4.666666666666667,
          4.7,
          4.733333333333333,
          4.766666666666667,
          4.8,
          4.833333333333333,
          4.866666666666666,
          4.9,
          4.933333333333334,
          4.966666666666667,
          5,
          5.033333333333333,
          5.066666666666666,
          5.1,
          5.133333333333333,
          5.166666666666667,
          5.2,
          5.233333333333333,
          5.266666666666667,
          5.3,
          5.333333333333333,
          5.366666666666666,
          5.4,
          5.433333333333334,
          5.466666666666667,
          5.5,
          5.533333333333333,
          5.566666666666666,
          5.6,
          5.633333333333333,
          5.666666666666667,
          5.7,
          5.733333333333333,
          5.766666666666667,
          5.8,
          5.833333333333333,
          5.866666666666666,
          5.9,
          5.933333333333334,
          5.966666666666667,
          6,
          6.033333333333333,
          6.066666666666666,
          6.1,
          6.133333333333333,
          6.166666666666667,
          6.2,
          6.233333333333333,
          6.266666666666667,
          6.3,
          6.333333333333333,
          6.366666666666666,
          6.4,
          6.433333333333334,
          6.466666666666667,
          6.5,
          6.533333333333333,
          6.566666666666666,
          6.6,
          6.633333333333333,
          6.666666666666667,
          6.7,
          6.733333333333333,
          6.766666666666667,
          6.8,
          6.833333333333333,
          6.866666666666666,
          6.8999999999999995,
          6.933333333333334,
          6.966666666666667,
          7,
          7.033333333333333,
          7.066666666666666,
          7.1,
          7.133333333333333,
          7.166666666666667,
          7.2,
          7.233333333333333,
          7.266666666666667,
          7.3,
          7.333333333333333,
          7.366666666666666,
          7.3999999999999995,
          7.433333333333334,
          7.466666666666667,
          7.5,
          7.533333333333333,
          7.566666666666666,
          7.6,
          7.633333333333333,
          7.666666666666667,
          7.7,
          7.733333333333333,
          7.766666666666667,
          7.8,
          7.833333333333333,
          7.866666666666666,
          7.8999999999999995,
          7.933333333333334,
          7.966666666666667,
          8,
          8.033333333333333,
          8.066666666666666,
          8.1,
          8.133333333333333,
          8.166666666666666,
          8.2,
          8.233333333333333,
          8.266666666666666,
          8.3,
          8.333333333333334,
          8.366666666666667,
          8.4,
          8.433333333333334,
          8.466666666666667,
          8.5,
          8.533333333333333,
          8.566666666666666,
          8.6,
          8.633333333333333,
          8.666666666666666,
          8.7,
          8.733333333333333,
          8.766666666666666,
          8.8,
          8.833333333333334,
          8.866666666666667,
          8.9,
          8.933333333333334,
          8.966666666666667,
          9,
          9.033333333333333,
          9.066666666666666,
          9.1,
          9.133333333333333,
          9.166666666666666,
          9.2,
          9.233333333333333,
          9.266666666666666,
          9.3,
          9.333333333333334,
          9.366666666666667,
          9.4,
          9.433333333333334,
          9.466666666666667,
          9.5,
          9.533333333333333,
          9.566666666666666,
          9.6,
          9.633333333333333,
          9.666666666666666,
          9.7,
          9.733333333333333,
          9.766666666666666,
          9.8,
          9.833333333333334,
          9.866666666666667,
          9.9,
          9.933333333333334,
          9.966666666666667
         ],
         "y": [
          0.0013428107427130493,
          0.20545204252653218,
          0.35327194538809853,
          0.41208801477717033,
          0.3841017238202087,
          0.3006612913365576,
          0.20390983561408663,
          0.12669815620698477,
          0.08117311237023131,
          0.06029578676262637,
          0.0488603067333474,
          0.035929649501184324,
          0.021235229502811787,
          0.012927124714994465,
          0.019689001049630173,
          0.04315814414052936,
          0.0754091979526255,
          0.1023313745238119,
          0.11002193923252646,
          0.09022506411117209,
          0.042533326387494075,
          -0.026363996922634414,
          -0.10481021967582747,
          -0.1786365994248267,
          -0.23397757384323042,
          -0.2606315893330749,
          -0.255210913237449,
          -0.22246821026520208,
          -0.17358253522595327,
          -0.12178870247531014,
          -0.07737018022945691,
          -0.044474903349817727,
          -0.021144313757992327,
          -0.0021203297942173904,
          0.01741036003160992,
          0.03918498688986901,
          0.06146416532146234,
          0.08061355348582856,
          0.09344044360425073,
          0.09891009938763015,
          0.09845522367465802,
          0.09496129387497132,
          0.0911645357469792,
          0.08836002595557382,
          0.08600981087406066,
          0.08230955320725694,
          0.07531275852195168,
          0.06401884300059969,
          0.048932393491903606,
          0.03188822605696241,
          0.015259534098362781,
          0.0009119657863848997,
          -0.010621270403967254,
          -0.020321254175463495,
          -0.03004164113338962,
          -0.041259527053403466,
          -0.05383277374986174,
          -0.06552493763443189,
          -0.07276389909715102,
          -0.07242648723611066,
          -0.0637563428505413,
          -0.049293230907972926,
          -0.0341411968505915,
          -0.02380141812718052,
          -0.021598376467314037,
          -0.02696092935717836,
          -0.03539703557106603,
          -0.04022103838041707,
          -0.035365190870859056,
          -0.018186310256152916,
          0.00888138989709317,
          0.038683786103079446,
          0.06190956410136088,
          0.07108631591913238,
          0.06430107683026365,
          0.04662747832113075,
          0.028059794123287393,
          0.018575617819944008,
          0.02282063900907521,
          0.0375148674764263,
          0.05330743415468771,
          0.06009393497621028,
          0.052528368335263836,
          0.03230177255509806,
          0.005978735508004443,
          -0.019742835261424233,
          -0.04179538083866339,
          -0.06093087824660799,
          -0.078615914335025,
          -0.09353156970805365,
          -0.1009223641130319,
          -0.0957817516431192,
          -0.0776445436742034,
          -0.05303693525073476,
          -0.03289252221520034,
          -0.025810311735335146,
          -0.03142776857696616,
          -0.03881651482781283,
          -0.03189955792368648,
          0.0008007098503226284,
          0.05803727030112993,
          0.12471422419691795,
          0.17890548061756303,
          0.20301172291430297,
          0.1924279109248538,
          0.1567048311272247,
          0.11288426254642453,
          0.07537373285572393,
          0.04852035167409935,
          0.026055262854163666,
          -0.002758575237509447,
          -0.044454152586854714,
          -0.09571800578541698,
          -0.14436243344485528,
          -0.17637204492086161,
          -0.18461134032265142,
          -0.17349116794661182,
          -0.15613683364250303,
          -0.14527391814106108,
          -0.14341248099375742,
          -0.13908633619568436,
          -0.11270566589437843,
          -0.04955271740630006,
          0.047755257289470346,
          0.1557795078739483,
          0.23941249080515287,
          0.2695291747351318,
          0.2390825490718207,
          0.16770221863058435,
          0.09136400564157586,
          0.042691286434703324,
          0.03326999081554763,
          0.04835136794130432,
          0.057081638056109336,
          0.03225515170681719,
          -0.0320842196169535,
          -0.1157136949607726,
          -0.1830878416232429,
          -0.20370693635539294,
          -0.16993415945938012,
          -0.10157678063557607,
          -0.0343989337627235,
          0.0006098708099028516,
          -0.005201782687444617,
          -0.03422205731058986,
          -0.05444213383066222,
          -0.039689123128002005,
          0.014138887076800388,
          0.08650888482887283,
          0.14448494213795043,
          0.16188362503351444,
          0.13364563331387957,
          0.07726164817235083,
          0.021429345716400067,
          -0.010302937966477913,
          -0.011009697061831894,
          0.008864772397154252,
          0.030334669898579098,
          0.037816011695087234,
          0.026981777986560145,
          0.004826411268940664,
          -0.016749490035534075,
          -0.029086434242882528,
          -0.031671584782181836,
          -0.03139020719150174,
          -0.03721866333331827,
          -0.05389554378442135,
          -0.07834817719286029,
          -0.10083576725686444,
          -0.11004337927968606,
          -0.09920683684177814,
          -0.06987236747730549,
          -0.031308622986657646,
          0.003918047174592758,
          0.02558232483090385,
          0.029591722190692088,
          0.018353541926265586,
          -0.0015412130985874573,
          -0.02212810255364041,
          -0.03562750190014738,
          -0.03479862389389719,
          -0.013602186294413295,
          0.030575855373233804,
          0.09374774453392884,
          0.1636393317701041,
          0.2219451204555238,
          0.250708901274146,
          0.23996150335574679,
          0.1922468338455434,
          0.1211066223569331,
          0.04421508685293149,
          -0.02478922728322385,
          -0.08099523030537609,
          -0.12707556708507714,
          -0.16781763341247344,
          -0.2044664569249786,
          -0.23267858515839526,
          -0.2450401513822918,
          -0.2359378876208887,
          -0.20529099710269805,
          -0.15887189250004877,
          -0.10545803747052784,
          -0.052975424046452876,
          -0.005980436958152455,
          0.03448249495191269,
          0.06926040384707392,
          0.09919902080072251,
          0.12420688483536207,
          0.14354487141822603,
          0.15672500736605072,
          0.16413436571270545,
          0.16687731289789204,
          0.1659794904748657,
          0.16156206170148155,
          0.15261232301559682,
          0.13758365449503585,
          0.11551771742115735,
          0.08701576247528858,
          0.05440602742068022,
          0.02087109806934736,
          -0.011081611152750005,
          -0.04092915463199456,
          -0.07030092099250393,
          -0.1016299549330596,
          -0.1358557442027548,
          -0.17056652627062877,
          -0.2000606664817848,
          -0.21787891336986226,
          -0.2207538160902238,
          -0.2115758020609732,
          -0.19893309720718946,
          -0.1924798479674798,
          -0.19614621508758417,
          -0.2033778622227584,
          -0.1984368197447749,
          -0.16468857649190677,
          -0.09604559752929867,
          -0.004251316811237891,
          0.08459082459111178,
          0.14508900506476963,
          0.17188432037521834,
          0.19040758117353807,
          0.2483210425657345,
          0.3872660173345877,
          0.6082328370502312,
          0.8521280012313173,
          1.0127266908070953,
          0.9821380701428806,
          0.708097063208496,
          0.23125882840391715,
          -0.32167113485083093,
          -0.7892649848514492,
          -1.0454715303874362,
          -1.0514265675128438,
          -0.8627222613219506,
          -0.5917754849736692,
          -0.34930376129757856,
          -0.19729019370953368,
          -0.1350488256378505,
          -0.1188842842873587,
          -0.09800114070079928,
          -0.0442536818303794,
          0.03849137760521488,
          0.12533916860310323,
          0.19050034264324783,
          0.22290077761417115,
          0.22932938214847395,
          0.22614411718908783,
          0.22698382630421726,
          0.2347027787377989,
          0.2415699467798619,
          0.2360434970433405,
          0.21078448181510895,
          0.16679891095236943,
          0.11190965758800685,
          0.055640354024824555,
          0.0045129417342019,
          -0.039268587399801824,
          -0.07570870280382955,
          -0.10403599392183566,
          -0.12178738699649516,
          -0.12691860299307606,
          -0.12112084647669108,
          -0.11113802788893469,
          -0.10606013137351329,
          -0.11158569897032006,
          -0.12493323584485075,
          -0.13435999890521977,
          -0.12464117381799604,
          -0.08593660225611639,
          -0.020855731998878232,
          0.05485880434196285,
          0.11896195613901048,
          0.15317573771873683,
          0.1516894955256059,
          0.1230727914831637,
          0.08482401321136601,
          0.05383050106880725,
          0.03797885789911007,
          0.03319942835601735
         ]
        }
       ],
       "layout": {
        "font": {
         "color": "#7f7f7f",
         "family": "Courier New, monospace",
         "size": 14
        },
        "height": 400,
        "template": {
         "data": {
          "bar": [
           {
            "error_x": {
             "color": "#2a3f5f"
            },
            "error_y": {
             "color": "#2a3f5f"
            },
            "marker": {
             "line": {
              "color": "#E5ECF6",
              "width": 0.5
             },
             "pattern": {
              "fillmode": "overlay",
              "size": 10,
              "solidity": 0.2
             }
            },
            "type": "bar"
           }
          ],
          "barpolar": [
           {
            "marker": {
             "line": {
              "color": "#E5ECF6",
              "width": 0.5
             },
             "pattern": {
              "fillmode": "overlay",
              "size": 10,
              "solidity": 0.2
             }
            },
            "type": "barpolar"
           }
          ],
          "carpet": [
           {
            "aaxis": {
             "endlinecolor": "#2a3f5f",
             "gridcolor": "white",
             "linecolor": "white",
             "minorgridcolor": "white",
             "startlinecolor": "#2a3f5f"
            },
            "baxis": {
             "endlinecolor": "#2a3f5f",
             "gridcolor": "white",
             "linecolor": "white",
             "minorgridcolor": "white",
             "startlinecolor": "#2a3f5f"
            },
            "type": "carpet"
           }
          ],
          "choropleth": [
           {
            "colorbar": {
             "outlinewidth": 0,
             "ticks": ""
            },
            "type": "choropleth"
           }
          ],
          "contour": [
           {
            "colorbar": {
             "outlinewidth": 0,
             "ticks": ""
            },
            "colorscale": [
             [
              0,
              "#0d0887"
             ],
             [
              0.1111111111111111,
              "#46039f"
             ],
             [
              0.2222222222222222,
              "#7201a8"
             ],
             [
              0.3333333333333333,
              "#9c179e"
             ],
             [
              0.4444444444444444,
              "#bd3786"
             ],
             [
              0.5555555555555556,
              "#d8576b"
             ],
             [
              0.6666666666666666,
              "#ed7953"
             ],
             [
              0.7777777777777778,
              "#fb9f3a"
             ],
             [
              0.8888888888888888,
              "#fdca26"
             ],
             [
              1,
              "#f0f921"
             ]
            ],
            "type": "contour"
           }
          ],
          "contourcarpet": [
           {
            "colorbar": {
             "outlinewidth": 0,
             "ticks": ""
            },
            "type": "contourcarpet"
           }
          ],
          "heatmap": [
           {
            "colorbar": {
             "outlinewidth": 0,
             "ticks": ""
            },
            "colorscale": [
             [
              0,
              "#0d0887"
             ],
             [
              0.1111111111111111,
              "#46039f"
             ],
             [
              0.2222222222222222,
              "#7201a8"
             ],
             [
              0.3333333333333333,
              "#9c179e"
             ],
             [
              0.4444444444444444,
              "#bd3786"
             ],
             [
              0.5555555555555556,
              "#d8576b"
             ],
             [
              0.6666666666666666,
              "#ed7953"
             ],
             [
              0.7777777777777778,
              "#fb9f3a"
             ],
             [
              0.8888888888888888,
              "#fdca26"
             ],
             [
              1,
              "#f0f921"
             ]
            ],
            "type": "heatmap"
           }
          ],
          "heatmapgl": [
           {
            "colorbar": {
             "outlinewidth": 0,
             "ticks": ""
            },
            "colorscale": [
             [
              0,
              "#0d0887"
             ],
             [
              0.1111111111111111,
              "#46039f"
             ],
             [
              0.2222222222222222,
              "#7201a8"
             ],
             [
              0.3333333333333333,
              "#9c179e"
             ],
             [
              0.4444444444444444,
              "#bd3786"
             ],
             [
              0.5555555555555556,
              "#d8576b"
             ],
             [
              0.6666666666666666,
              "#ed7953"
             ],
             [
              0.7777777777777778,
              "#fb9f3a"
             ],
             [
              0.8888888888888888,
              "#fdca26"
             ],
             [
              1,
              "#f0f921"
             ]
            ],
            "type": "heatmapgl"
           }
          ],
          "histogram": [
           {
            "marker": {
             "pattern": {
              "fillmode": "overlay",
              "size": 10,
              "solidity": 0.2
             }
            },
            "type": "histogram"
           }
          ],
          "histogram2d": [
           {
            "colorbar": {
             "outlinewidth": 0,
             "ticks": ""
            },
            "colorscale": [
             [
              0,
              "#0d0887"
             ],
             [
              0.1111111111111111,
              "#46039f"
             ],
             [
              0.2222222222222222,
              "#7201a8"
             ],
             [
              0.3333333333333333,
              "#9c179e"
             ],
             [
              0.4444444444444444,
              "#bd3786"
             ],
             [
              0.5555555555555556,
              "#d8576b"
             ],
             [
              0.6666666666666666,
              "#ed7953"
             ],
             [
              0.7777777777777778,
              "#fb9f3a"
             ],
             [
              0.8888888888888888,
              "#fdca26"
             ],
             [
              1,
              "#f0f921"
             ]
            ],
            "type": "histogram2d"
           }
          ],
          "histogram2dcontour": [
           {
            "colorbar": {
             "outlinewidth": 0,
             "ticks": ""
            },
            "colorscale": [
             [
              0,
              "#0d0887"
             ],
             [
              0.1111111111111111,
              "#46039f"
             ],
             [
              0.2222222222222222,
              "#7201a8"
             ],
             [
              0.3333333333333333,
              "#9c179e"
             ],
             [
              0.4444444444444444,
              "#bd3786"
             ],
             [
              0.5555555555555556,
              "#d8576b"
             ],
             [
              0.6666666666666666,
              "#ed7953"
             ],
             [
              0.7777777777777778,
              "#fb9f3a"
             ],
             [
              0.8888888888888888,
              "#fdca26"
             ],
             [
              1,
              "#f0f921"
             ]
            ],
            "type": "histogram2dcontour"
           }
          ],
          "mesh3d": [
           {
            "colorbar": {
             "outlinewidth": 0,
             "ticks": ""
            },
            "type": "mesh3d"
           }
          ],
          "parcoords": [
           {
            "line": {
             "colorbar": {
              "outlinewidth": 0,
              "ticks": ""
             }
            },
            "type": "parcoords"
           }
          ],
          "pie": [
           {
            "automargin": true,
            "type": "pie"
           }
          ],
          "scatter": [
           {
            "marker": {
             "colorbar": {
              "outlinewidth": 0,
              "ticks": ""
             }
            },
            "type": "scatter"
           }
          ],
          "scatter3d": [
           {
            "line": {
             "colorbar": {
              "outlinewidth": 0,
              "ticks": ""
             }
            },
            "marker": {
             "colorbar": {
              "outlinewidth": 0,
              "ticks": ""
             }
            },
            "type": "scatter3d"
           }
          ],
          "scattercarpet": [
           {
            "marker": {
             "colorbar": {
              "outlinewidth": 0,
              "ticks": ""
             }
            },
            "type": "scattercarpet"
           }
          ],
          "scattergeo": [
           {
            "marker": {
             "colorbar": {
              "outlinewidth": 0,
              "ticks": ""
             }
            },
            "type": "scattergeo"
           }
          ],
          "scattergl": [
           {
            "marker": {
             "colorbar": {
              "outlinewidth": 0,
              "ticks": ""
             }
            },
            "type": "scattergl"
           }
          ],
          "scattermapbox": [
           {
            "marker": {
             "colorbar": {
              "outlinewidth": 0,
              "ticks": ""
             }
            },
            "type": "scattermapbox"
           }
          ],
          "scatterpolar": [
           {
            "marker": {
             "colorbar": {
              "outlinewidth": 0,
              "ticks": ""
             }
            },
            "type": "scatterpolar"
           }
          ],
          "scatterpolargl": [
           {
            "marker": {
             "colorbar": {
              "outlinewidth": 0,
              "ticks": ""
             }
            },
            "type": "scatterpolargl"
           }
          ],
          "scatterternary": [
           {
            "marker": {
             "colorbar": {
              "outlinewidth": 0,
              "ticks": ""
             }
            },
            "type": "scatterternary"
           }
          ],
          "surface": [
           {
            "colorbar": {
             "outlinewidth": 0,
             "ticks": ""
            },
            "colorscale": [
             [
              0,
              "#0d0887"
             ],
             [
              0.1111111111111111,
              "#46039f"
             ],
             [
              0.2222222222222222,
              "#7201a8"
             ],
             [
              0.3333333333333333,
              "#9c179e"
             ],
             [
              0.4444444444444444,
              "#bd3786"
             ],
             [
              0.5555555555555556,
              "#d8576b"
             ],
             [
              0.6666666666666666,
              "#ed7953"
             ],
             [
              0.7777777777777778,
              "#fb9f3a"
             ],
             [
              0.8888888888888888,
              "#fdca26"
             ],
             [
              1,
              "#f0f921"
             ]
            ],
            "type": "surface"
           }
          ],
          "table": [
           {
            "cells": {
             "fill": {
              "color": "#EBF0F8"
             },
             "line": {
              "color": "white"
             }
            },
            "header": {
             "fill": {
              "color": "#C8D4E3"
             },
             "line": {
              "color": "white"
             }
            },
            "type": "table"
           }
          ]
         },
         "layout": {
          "annotationdefaults": {
           "arrowcolor": "#2a3f5f",
           "arrowhead": 0,
           "arrowwidth": 1
          },
          "autotypenumbers": "strict",
          "coloraxis": {
           "colorbar": {
            "outlinewidth": 0,
            "ticks": ""
           }
          },
          "colorscale": {
           "diverging": [
            [
             0,
             "#8e0152"
            ],
            [
             0.1,
             "#c51b7d"
            ],
            [
             0.2,
             "#de77ae"
            ],
            [
             0.3,
             "#f1b6da"
            ],
            [
             0.4,
             "#fde0ef"
            ],
            [
             0.5,
             "#f7f7f7"
            ],
            [
             0.6,
             "#e6f5d0"
            ],
            [
             0.7,
             "#b8e186"
            ],
            [
             0.8,
             "#7fbc41"
            ],
            [
             0.9,
             "#4d9221"
            ],
            [
             1,
             "#276419"
            ]
           ],
           "sequential": [
            [
             0,
             "#0d0887"
            ],
            [
             0.1111111111111111,
             "#46039f"
            ],
            [
             0.2222222222222222,
             "#7201a8"
            ],
            [
             0.3333333333333333,
             "#9c179e"
            ],
            [
             0.4444444444444444,
             "#bd3786"
            ],
            [
             0.5555555555555556,
             "#d8576b"
            ],
            [
             0.6666666666666666,
             "#ed7953"
            ],
            [
             0.7777777777777778,
             "#fb9f3a"
            ],
            [
             0.8888888888888888,
             "#fdca26"
            ],
            [
             1,
             "#f0f921"
            ]
           ],
           "sequentialminus": [
            [
             0,
             "#0d0887"
            ],
            [
             0.1111111111111111,
             "#46039f"
            ],
            [
             0.2222222222222222,
             "#7201a8"
            ],
            [
             0.3333333333333333,
             "#9c179e"
            ],
            [
             0.4444444444444444,
             "#bd3786"
            ],
            [
             0.5555555555555556,
             "#d8576b"
            ],
            [
             0.6666666666666666,
             "#ed7953"
            ],
            [
             0.7777777777777778,
             "#fb9f3a"
            ],
            [
             0.8888888888888888,
             "#fdca26"
            ],
            [
             1,
             "#f0f921"
            ]
           ]
          },
          "colorway": [
           "#636efa",
           "#EF553B",
           "#00cc96",
           "#ab63fa",
           "#FFA15A",
           "#19d3f3",
           "#FF6692",
           "#B6E880",
           "#FF97FF",
           "#FECB52"
          ],
          "font": {
           "color": "#2a3f5f"
          },
          "geo": {
           "bgcolor": "white",
           "lakecolor": "white",
           "landcolor": "#E5ECF6",
           "showlakes": true,
           "showland": true,
           "subunitcolor": "white"
          },
          "hoverlabel": {
           "align": "left"
          },
          "hovermode": "closest",
          "mapbox": {
           "style": "light"
          },
          "paper_bgcolor": "white",
          "plot_bgcolor": "#E5ECF6",
          "polar": {
           "angularaxis": {
            "gridcolor": "white",
            "linecolor": "white",
            "ticks": ""
           },
           "bgcolor": "#E5ECF6",
           "radialaxis": {
            "gridcolor": "white",
            "linecolor": "white",
            "ticks": ""
           }
          },
          "scene": {
           "xaxis": {
            "backgroundcolor": "#E5ECF6",
            "gridcolor": "white",
            "gridwidth": 2,
            "linecolor": "white",
            "showbackground": true,
            "ticks": "",
            "zerolinecolor": "white"
           },
           "yaxis": {
            "backgroundcolor": "#E5ECF6",
            "gridcolor": "white",
            "gridwidth": 2,
            "linecolor": "white",
            "showbackground": true,
            "ticks": "",
            "zerolinecolor": "white"
           },
           "zaxis": {
            "backgroundcolor": "#E5ECF6",
            "gridcolor": "white",
            "gridwidth": 2,
            "linecolor": "white",
            "showbackground": true,
            "ticks": "",
            "zerolinecolor": "white"
           }
          },
          "shapedefaults": {
           "line": {
            "color": "#2a3f5f"
           }
          },
          "ternary": {
           "aaxis": {
            "gridcolor": "white",
            "linecolor": "white",
            "ticks": ""
           },
           "baxis": {
            "gridcolor": "white",
            "linecolor": "white",
            "ticks": ""
           },
           "bgcolor": "#E5ECF6",
           "caxis": {
            "gridcolor": "white",
            "linecolor": "white",
            "ticks": ""
           }
          },
          "title": {
           "x": 0.05
          },
          "xaxis": {
           "automargin": true,
           "gridcolor": "white",
           "linecolor": "white",
           "ticks": "",
           "title": {
            "standoff": 15
           },
           "zerolinecolor": "white",
           "zerolinewidth": 2
          },
          "yaxis": {
           "automargin": true,
           "gridcolor": "white",
           "linecolor": "white",
           "ticks": "",
           "title": {
            "standoff": 15
           },
           "zerolinecolor": "white",
           "zerolinewidth": 2
          }
         }
        },
        "title": {
         "text": "BVP estimate by CHROM"
        },
        "width": 800
       }
      },
      "text/html": [
       "<div>                            <div id=\"0d5526c2-441b-41b0-9910-c16c1cf72628\" class=\"plotly-graph-div\" style=\"height:400px; width:800px;\"></div>            <script type=\"text/javascript\">                require([\"plotly\"], function(Plotly) {                    window.PLOTLYENV=window.PLOTLYENV || {};                                    if (document.getElementById(\"0d5526c2-441b-41b0-9910-c16c1cf72628\")) {                    Plotly.newPlot(                        \"0d5526c2-441b-41b0-9910-c16c1cf72628\",                        [{\"name\":\"BVP 0\",\"type\":\"scatter\",\"x\":[0.0,0.03333333333333333,0.06666666666666667,0.1,0.13333333333333333,0.16666666666666666,0.2,0.23333333333333334,0.26666666666666666,0.3,0.3333333333333333,0.36666666666666664,0.4,0.43333333333333335,0.4666666666666667,0.5,0.5333333333333333,0.5666666666666667,0.6,0.6333333333333333,0.6666666666666666,0.7,0.7333333333333333,0.7666666666666666,0.8,0.8333333333333334,0.8666666666666667,0.9,0.9333333333333333,0.9666666666666667,1.0,1.0333333333333332,1.0666666666666667,1.1,1.1333333333333333,1.1666666666666667,1.2,1.2333333333333334,1.2666666666666666,1.3,1.3333333333333333,1.3666666666666667,1.4,1.4333333333333333,1.4666666666666666,1.5,1.5333333333333332,1.5666666666666667,1.6,1.6333333333333333,1.6666666666666667,1.7,1.7333333333333334,1.7666666666666666,1.8,1.8333333333333333,1.8666666666666667,1.9,1.9333333333333333,1.9666666666666666,2.0,2.033333333333333,2.0666666666666664,2.1,2.1333333333333333,2.1666666666666665,2.2,2.2333333333333334,2.2666666666666666,2.3,2.3333333333333335,2.3666666666666667,2.4,2.433333333333333,2.466666666666667,2.5,2.533333333333333,2.5666666666666664,2.6,2.6333333333333333,2.6666666666666665,2.7,2.7333333333333334,2.7666666666666666,2.8,2.8333333333333335,2.8666666666666667,2.9,2.933333333333333,2.966666666666667,3.0,3.033333333333333,3.0666666666666664,3.1,3.1333333333333333,3.1666666666666665,3.2,3.2333333333333334,3.2666666666666666,3.3,3.3333333333333335,3.3666666666666667,3.4,3.433333333333333,3.466666666666667,3.5,3.533333333333333,3.5666666666666664,3.6,3.6333333333333333,3.6666666666666665,3.6999999999999997,3.7333333333333334,3.7666666666666666,3.8,3.8333333333333335,3.8666666666666667,3.9,3.933333333333333,3.966666666666667,4.0,4.033333333333333,4.066666666666666,4.1,4.133333333333333,4.166666666666667,4.2,4.233333333333333,4.266666666666667,4.3,4.333333333333333,4.366666666666666,4.4,4.433333333333334,4.466666666666667,4.5,4.533333333333333,4.566666666666666,4.6,4.633333333333333,4.666666666666667,4.7,4.733333333333333,4.766666666666667,4.8,4.833333333333333,4.866666666666666,4.9,4.933333333333334,4.966666666666667,5.0,5.033333333333333,5.066666666666666,5.1,5.133333333333333,5.166666666666667,5.2,5.233333333333333,5.266666666666667,5.3,5.333333333333333,5.366666666666666,5.4,5.433333333333334,5.466666666666667,5.5,5.533333333333333,5.566666666666666,5.6,5.633333333333333,5.666666666666667,5.7,5.733333333333333,5.766666666666667,5.8,5.833333333333333,5.866666666666666,5.9,5.933333333333334,5.966666666666667,6.0,6.033333333333333,6.066666666666666,6.1,6.133333333333333,6.166666666666667,6.2,6.233333333333333,6.266666666666667,6.3,6.333333333333333,6.366666666666666,6.4,6.433333333333334,6.466666666666667,6.5,6.533333333333333,6.566666666666666,6.6,6.633333333333333,6.666666666666667,6.7,6.733333333333333,6.766666666666667,6.8,6.833333333333333,6.866666666666666,6.8999999999999995,6.933333333333334,6.966666666666667,7.0,7.033333333333333,7.066666666666666,7.1,7.133333333333333,7.166666666666667,7.2,7.233333333333333,7.266666666666667,7.3,7.333333333333333,7.366666666666666,7.3999999999999995,7.433333333333334,7.466666666666667,7.5,7.533333333333333,7.566666666666666,7.6,7.633333333333333,7.666666666666667,7.7,7.733333333333333,7.766666666666667,7.8,7.833333333333333,7.866666666666666,7.8999999999999995,7.933333333333334,7.966666666666667,8.0,8.033333333333333,8.066666666666666,8.1,8.133333333333333,8.166666666666666,8.2,8.233333333333333,8.266666666666666,8.3,8.333333333333334,8.366666666666667,8.4,8.433333333333334,8.466666666666667,8.5,8.533333333333333,8.566666666666666,8.6,8.633333333333333,8.666666666666666,8.7,8.733333333333333,8.766666666666666,8.8,8.833333333333334,8.866666666666667,8.9,8.933333333333334,8.966666666666667,9.0,9.033333333333333,9.066666666666666,9.1,9.133333333333333,9.166666666666666,9.2,9.233333333333333,9.266666666666666,9.3,9.333333333333334,9.366666666666667,9.4,9.433333333333334,9.466666666666667,9.5,9.533333333333333,9.566666666666666,9.6,9.633333333333333,9.666666666666666,9.7,9.733333333333333,9.766666666666666,9.8,9.833333333333334,9.866666666666667,9.9,9.933333333333334,9.966666666666667],\"y\":[0.0013428107427130493,0.20545204252653218,0.35327194538809853,0.41208801477717033,0.3841017238202087,0.3006612913365576,0.20390983561408663,0.12669815620698477,0.08117311237023131,0.06029578676262637,0.0488603067333474,0.035929649501184324,0.021235229502811787,0.012927124714994465,0.019689001049630173,0.04315814414052936,0.0754091979526255,0.1023313745238119,0.11002193923252646,0.09022506411117209,0.042533326387494075,-0.026363996922634414,-0.10481021967582747,-0.1786365994248267,-0.23397757384323042,-0.2606315893330749,-0.255210913237449,-0.22246821026520208,-0.17358253522595327,-0.12178870247531014,-0.07737018022945691,-0.044474903349817727,-0.021144313757992327,-0.0021203297942173904,0.01741036003160992,0.03918498688986901,0.06146416532146234,0.08061355348582856,0.09344044360425073,0.09891009938763015,0.09845522367465802,0.09496129387497132,0.0911645357469792,0.08836002595557382,0.08600981087406066,0.08230955320725694,0.07531275852195168,0.06401884300059969,0.048932393491903606,0.03188822605696241,0.015259534098362781,0.0009119657863848997,-0.010621270403967254,-0.020321254175463495,-0.03004164113338962,-0.041259527053403466,-0.05383277374986174,-0.06552493763443189,-0.07276389909715102,-0.07242648723611066,-0.0637563428505413,-0.049293230907972926,-0.0341411968505915,-0.02380141812718052,-0.021598376467314037,-0.02696092935717836,-0.03539703557106603,-0.04022103838041707,-0.035365190870859056,-0.018186310256152916,0.00888138989709317,0.038683786103079446,0.06190956410136088,0.07108631591913238,0.06430107683026365,0.04662747832113075,0.028059794123287393,0.018575617819944008,0.02282063900907521,0.0375148674764263,0.05330743415468771,0.06009393497621028,0.052528368335263836,0.03230177255509806,0.005978735508004443,-0.019742835261424233,-0.04179538083866339,-0.06093087824660799,-0.078615914335025,-0.09353156970805365,-0.1009223641130319,-0.0957817516431192,-0.0776445436742034,-0.05303693525073476,-0.03289252221520034,-0.025810311735335146,-0.03142776857696616,-0.03881651482781283,-0.03189955792368648,0.0008007098503226284,0.05803727030112993,0.12471422419691795,0.17890548061756303,0.20301172291430297,0.1924279109248538,0.1567048311272247,0.11288426254642453,0.07537373285572393,0.04852035167409935,0.026055262854163666,-0.002758575237509447,-0.044454152586854714,-0.09571800578541698,-0.14436243344485528,-0.17637204492086161,-0.18461134032265142,-0.17349116794661182,-0.15613683364250303,-0.14527391814106108,-0.14341248099375742,-0.13908633619568436,-0.11270566589437843,-0.04955271740630006,0.047755257289470346,0.1557795078739483,0.23941249080515287,0.2695291747351318,0.2390825490718207,0.16770221863058435,0.09136400564157586,0.042691286434703324,0.03326999081554763,0.04835136794130432,0.057081638056109336,0.03225515170681719,-0.0320842196169535,-0.1157136949607726,-0.1830878416232429,-0.20370693635539294,-0.16993415945938012,-0.10157678063557607,-0.0343989337627235,0.0006098708099028516,-0.005201782687444617,-0.03422205731058986,-0.05444213383066222,-0.039689123128002005,0.014138887076800388,0.08650888482887283,0.14448494213795043,0.16188362503351444,0.13364563331387957,0.07726164817235083,0.021429345716400067,-0.010302937966477913,-0.011009697061831894,0.008864772397154252,0.030334669898579098,0.037816011695087234,0.026981777986560145,0.004826411268940664,-0.016749490035534075,-0.029086434242882528,-0.031671584782181836,-0.03139020719150174,-0.03721866333331827,-0.05389554378442135,-0.07834817719286029,-0.10083576725686444,-0.11004337927968606,-0.09920683684177814,-0.06987236747730549,-0.031308622986657646,0.003918047174592758,0.02558232483090385,0.029591722190692088,0.018353541926265586,-0.0015412130985874573,-0.02212810255364041,-0.03562750190014738,-0.03479862389389719,-0.013602186294413295,0.030575855373233804,0.09374774453392884,0.1636393317701041,0.2219451204555238,0.250708901274146,0.23996150335574679,0.1922468338455434,0.1211066223569331,0.04421508685293149,-0.02478922728322385,-0.08099523030537609,-0.12707556708507714,-0.16781763341247344,-0.2044664569249786,-0.23267858515839526,-0.2450401513822918,-0.2359378876208887,-0.20529099710269805,-0.15887189250004877,-0.10545803747052784,-0.052975424046452876,-0.005980436958152455,0.03448249495191269,0.06926040384707392,0.09919902080072251,0.12420688483536207,0.14354487141822603,0.15672500736605072,0.16413436571270545,0.16687731289789204,0.1659794904748657,0.16156206170148155,0.15261232301559682,0.13758365449503585,0.11551771742115735,0.08701576247528858,0.05440602742068022,0.02087109806934736,-0.011081611152750005,-0.04092915463199456,-0.07030092099250393,-0.1016299549330596,-0.1358557442027548,-0.17056652627062877,-0.2000606664817848,-0.21787891336986226,-0.2207538160902238,-0.2115758020609732,-0.19893309720718946,-0.1924798479674798,-0.19614621508758417,-0.2033778622227584,-0.1984368197447749,-0.16468857649190677,-0.09604559752929867,-0.004251316811237891,0.08459082459111178,0.14508900506476963,0.17188432037521834,0.19040758117353807,0.2483210425657345,0.3872660173345877,0.6082328370502312,0.8521280012313173,1.0127266908070953,0.9821380701428806,0.708097063208496,0.23125882840391715,-0.32167113485083093,-0.7892649848514492,-1.0454715303874362,-1.0514265675128438,-0.8627222613219506,-0.5917754849736692,-0.34930376129757856,-0.19729019370953368,-0.1350488256378505,-0.1188842842873587,-0.09800114070079928,-0.0442536818303794,0.03849137760521488,0.12533916860310323,0.19050034264324783,0.22290077761417115,0.22932938214847395,0.22614411718908783,0.22698382630421726,0.2347027787377989,0.2415699467798619,0.2360434970433405,0.21078448181510895,0.16679891095236943,0.11190965758800685,0.055640354024824555,0.0045129417342019,-0.039268587399801824,-0.07570870280382955,-0.10403599392183566,-0.12178738699649516,-0.12691860299307606,-0.12112084647669108,-0.11113802788893469,-0.10606013137351329,-0.11158569897032006,-0.12493323584485075,-0.13435999890521977,-0.12464117381799604,-0.08593660225611639,-0.020855731998878232,0.05485880434196285,0.11896195613901048,0.15317573771873683,0.1516894955256059,0.1230727914831637,0.08482401321136601,0.05383050106880725,0.03797885789911007,0.03319942835601735]}],                        {\"font\":{\"color\":\"#7f7f7f\",\"family\":\"Courier New, monospace\",\"size\":14},\"height\":400,\"template\":{\"data\":{\"bar\":[{\"error_x\":{\"color\":\"#2a3f5f\"},\"error_y\":{\"color\":\"#2a3f5f\"},\"marker\":{\"line\":{\"color\":\"#E5ECF6\",\"width\":0.5},\"pattern\":{\"fillmode\":\"overlay\",\"size\":10,\"solidity\":0.2}},\"type\":\"bar\"}],\"barpolar\":[{\"marker\":{\"line\":{\"color\":\"#E5ECF6\",\"width\":0.5},\"pattern\":{\"fillmode\":\"overlay\",\"size\":10,\"solidity\":0.2}},\"type\":\"barpolar\"}],\"carpet\":[{\"aaxis\":{\"endlinecolor\":\"#2a3f5f\",\"gridcolor\":\"white\",\"linecolor\":\"white\",\"minorgridcolor\":\"white\",\"startlinecolor\":\"#2a3f5f\"},\"baxis\":{\"endlinecolor\":\"#2a3f5f\",\"gridcolor\":\"white\",\"linecolor\":\"white\",\"minorgridcolor\":\"white\",\"startlinecolor\":\"#2a3f5f\"},\"type\":\"carpet\"}],\"choropleth\":[{\"colorbar\":{\"outlinewidth\":0,\"ticks\":\"\"},\"type\":\"choropleth\"}],\"contour\":[{\"colorbar\":{\"outlinewidth\":0,\"ticks\":\"\"},\"colorscale\":[[0.0,\"#0d0887\"],[0.1111111111111111,\"#46039f\"],[0.2222222222222222,\"#7201a8\"],[0.3333333333333333,\"#9c179e\"],[0.4444444444444444,\"#bd3786\"],[0.5555555555555556,\"#d8576b\"],[0.6666666666666666,\"#ed7953\"],[0.7777777777777778,\"#fb9f3a\"],[0.8888888888888888,\"#fdca26\"],[1.0,\"#f0f921\"]],\"type\":\"contour\"}],\"contourcarpet\":[{\"colorbar\":{\"outlinewidth\":0,\"ticks\":\"\"},\"type\":\"contourcarpet\"}],\"heatmap\":[{\"colorbar\":{\"outlinewidth\":0,\"ticks\":\"\"},\"colorscale\":[[0.0,\"#0d0887\"],[0.1111111111111111,\"#46039f\"],[0.2222222222222222,\"#7201a8\"],[0.3333333333333333,\"#9c179e\"],[0.4444444444444444,\"#bd3786\"],[0.5555555555555556,\"#d8576b\"],[0.6666666666666666,\"#ed7953\"],[0.7777777777777778,\"#fb9f3a\"],[0.8888888888888888,\"#fdca26\"],[1.0,\"#f0f921\"]],\"type\":\"heatmap\"}],\"heatmapgl\":[{\"colorbar\":{\"outlinewidth\":0,\"ticks\":\"\"},\"colorscale\":[[0.0,\"#0d0887\"],[0.1111111111111111,\"#46039f\"],[0.2222222222222222,\"#7201a8\"],[0.3333333333333333,\"#9c179e\"],[0.4444444444444444,\"#bd3786\"],[0.5555555555555556,\"#d8576b\"],[0.6666666666666666,\"#ed7953\"],[0.7777777777777778,\"#fb9f3a\"],[0.8888888888888888,\"#fdca26\"],[1.0,\"#f0f921\"]],\"type\":\"heatmapgl\"}],\"histogram\":[{\"marker\":{\"pattern\":{\"fillmode\":\"overlay\",\"size\":10,\"solidity\":0.2}},\"type\":\"histogram\"}],\"histogram2d\":[{\"colorbar\":{\"outlinewidth\":0,\"ticks\":\"\"},\"colorscale\":[[0.0,\"#0d0887\"],[0.1111111111111111,\"#46039f\"],[0.2222222222222222,\"#7201a8\"],[0.3333333333333333,\"#9c179e\"],[0.4444444444444444,\"#bd3786\"],[0.5555555555555556,\"#d8576b\"],[0.6666666666666666,\"#ed7953\"],[0.7777777777777778,\"#fb9f3a\"],[0.8888888888888888,\"#fdca26\"],[1.0,\"#f0f921\"]],\"type\":\"histogram2d\"}],\"histogram2dcontour\":[{\"colorbar\":{\"outlinewidth\":0,\"ticks\":\"\"},\"colorscale\":[[0.0,\"#0d0887\"],[0.1111111111111111,\"#46039f\"],[0.2222222222222222,\"#7201a8\"],[0.3333333333333333,\"#9c179e\"],[0.4444444444444444,\"#bd3786\"],[0.5555555555555556,\"#d8576b\"],[0.6666666666666666,\"#ed7953\"],[0.7777777777777778,\"#fb9f3a\"],[0.8888888888888888,\"#fdca26\"],[1.0,\"#f0f921\"]],\"type\":\"histogram2dcontour\"}],\"mesh3d\":[{\"colorbar\":{\"outlinewidth\":0,\"ticks\":\"\"},\"type\":\"mesh3d\"}],\"parcoords\":[{\"line\":{\"colorbar\":{\"outlinewidth\":0,\"ticks\":\"\"}},\"type\":\"parcoords\"}],\"pie\":[{\"automargin\":true,\"type\":\"pie\"}],\"scatter\":[{\"marker\":{\"colorbar\":{\"outlinewidth\":0,\"ticks\":\"\"}},\"type\":\"scatter\"}],\"scatter3d\":[{\"line\":{\"colorbar\":{\"outlinewidth\":0,\"ticks\":\"\"}},\"marker\":{\"colorbar\":{\"outlinewidth\":0,\"ticks\":\"\"}},\"type\":\"scatter3d\"}],\"scattercarpet\":[{\"marker\":{\"colorbar\":{\"outlinewidth\":0,\"ticks\":\"\"}},\"type\":\"scattercarpet\"}],\"scattergeo\":[{\"marker\":{\"colorbar\":{\"outlinewidth\":0,\"ticks\":\"\"}},\"type\":\"scattergeo\"}],\"scattergl\":[{\"marker\":{\"colorbar\":{\"outlinewidth\":0,\"ticks\":\"\"}},\"type\":\"scattergl\"}],\"scattermapbox\":[{\"marker\":{\"colorbar\":{\"outlinewidth\":0,\"ticks\":\"\"}},\"type\":\"scattermapbox\"}],\"scatterpolar\":[{\"marker\":{\"colorbar\":{\"outlinewidth\":0,\"ticks\":\"\"}},\"type\":\"scatterpolar\"}],\"scatterpolargl\":[{\"marker\":{\"colorbar\":{\"outlinewidth\":0,\"ticks\":\"\"}},\"type\":\"scatterpolargl\"}],\"scatterternary\":[{\"marker\":{\"colorbar\":{\"outlinewidth\":0,\"ticks\":\"\"}},\"type\":\"scatterternary\"}],\"surface\":[{\"colorbar\":{\"outlinewidth\":0,\"ticks\":\"\"},\"colorscale\":[[0.0,\"#0d0887\"],[0.1111111111111111,\"#46039f\"],[0.2222222222222222,\"#7201a8\"],[0.3333333333333333,\"#9c179e\"],[0.4444444444444444,\"#bd3786\"],[0.5555555555555556,\"#d8576b\"],[0.6666666666666666,\"#ed7953\"],[0.7777777777777778,\"#fb9f3a\"],[0.8888888888888888,\"#fdca26\"],[1.0,\"#f0f921\"]],\"type\":\"surface\"}],\"table\":[{\"cells\":{\"fill\":{\"color\":\"#EBF0F8\"},\"line\":{\"color\":\"white\"}},\"header\":{\"fill\":{\"color\":\"#C8D4E3\"},\"line\":{\"color\":\"white\"}},\"type\":\"table\"}]},\"layout\":{\"annotationdefaults\":{\"arrowcolor\":\"#2a3f5f\",\"arrowhead\":0,\"arrowwidth\":1},\"autotypenumbers\":\"strict\",\"coloraxis\":{\"colorbar\":{\"outlinewidth\":0,\"ticks\":\"\"}},\"colorscale\":{\"diverging\":[[0,\"#8e0152\"],[0.1,\"#c51b7d\"],[0.2,\"#de77ae\"],[0.3,\"#f1b6da\"],[0.4,\"#fde0ef\"],[0.5,\"#f7f7f7\"],[0.6,\"#e6f5d0\"],[0.7,\"#b8e186\"],[0.8,\"#7fbc41\"],[0.9,\"#4d9221\"],[1,\"#276419\"]],\"sequential\":[[0.0,\"#0d0887\"],[0.1111111111111111,\"#46039f\"],[0.2222222222222222,\"#7201a8\"],[0.3333333333333333,\"#9c179e\"],[0.4444444444444444,\"#bd3786\"],[0.5555555555555556,\"#d8576b\"],[0.6666666666666666,\"#ed7953\"],[0.7777777777777778,\"#fb9f3a\"],[0.8888888888888888,\"#fdca26\"],[1.0,\"#f0f921\"]],\"sequentialminus\":[[0.0,\"#0d0887\"],[0.1111111111111111,\"#46039f\"],[0.2222222222222222,\"#7201a8\"],[0.3333333333333333,\"#9c179e\"],[0.4444444444444444,\"#bd3786\"],[0.5555555555555556,\"#d8576b\"],[0.6666666666666666,\"#ed7953\"],[0.7777777777777778,\"#fb9f3a\"],[0.8888888888888888,\"#fdca26\"],[1.0,\"#f0f921\"]]},\"colorway\":[\"#636efa\",\"#EF553B\",\"#00cc96\",\"#ab63fa\",\"#FFA15A\",\"#19d3f3\",\"#FF6692\",\"#B6E880\",\"#FF97FF\",\"#FECB52\"],\"font\":{\"color\":\"#2a3f5f\"},\"geo\":{\"bgcolor\":\"white\",\"lakecolor\":\"white\",\"landcolor\":\"#E5ECF6\",\"showlakes\":true,\"showland\":true,\"subunitcolor\":\"white\"},\"hoverlabel\":{\"align\":\"left\"},\"hovermode\":\"closest\",\"mapbox\":{\"style\":\"light\"},\"paper_bgcolor\":\"white\",\"plot_bgcolor\":\"#E5ECF6\",\"polar\":{\"angularaxis\":{\"gridcolor\":\"white\",\"linecolor\":\"white\",\"ticks\":\"\"},\"bgcolor\":\"#E5ECF6\",\"radialaxis\":{\"gridcolor\":\"white\",\"linecolor\":\"white\",\"ticks\":\"\"}},\"scene\":{\"xaxis\":{\"backgroundcolor\":\"#E5ECF6\",\"gridcolor\":\"white\",\"gridwidth\":2,\"linecolor\":\"white\",\"showbackground\":true,\"ticks\":\"\",\"zerolinecolor\":\"white\"},\"yaxis\":{\"backgroundcolor\":\"#E5ECF6\",\"gridcolor\":\"white\",\"gridwidth\":2,\"linecolor\":\"white\",\"showbackground\":true,\"ticks\":\"\",\"zerolinecolor\":\"white\"},\"zaxis\":{\"backgroundcolor\":\"#E5ECF6\",\"gridcolor\":\"white\",\"gridwidth\":2,\"linecolor\":\"white\",\"showbackground\":true,\"ticks\":\"\",\"zerolinecolor\":\"white\"}},\"shapedefaults\":{\"line\":{\"color\":\"#2a3f5f\"}},\"ternary\":{\"aaxis\":{\"gridcolor\":\"white\",\"linecolor\":\"white\",\"ticks\":\"\"},\"baxis\":{\"gridcolor\":\"white\",\"linecolor\":\"white\",\"ticks\":\"\"},\"bgcolor\":\"#E5ECF6\",\"caxis\":{\"gridcolor\":\"white\",\"linecolor\":\"white\",\"ticks\":\"\"}},\"title\":{\"x\":0.05},\"xaxis\":{\"automargin\":true,\"gridcolor\":\"white\",\"linecolor\":\"white\",\"ticks\":\"\",\"title\":{\"standoff\":15},\"zerolinecolor\":\"white\",\"zerolinewidth\":2},\"yaxis\":{\"automargin\":true,\"gridcolor\":\"white\",\"linecolor\":\"white\",\"ticks\":\"\",\"title\":{\"standoff\":15},\"zerolinecolor\":\"white\",\"zerolinewidth\":2}}},\"title\":{\"text\":\"BVP estimate by CHROM\"},\"width\":800},                        {\"responsive\": true}                    ).then(function(){\n",
       "                            \n",
       "var gd = document.getElementById('0d5526c2-441b-41b0-9910-c16c1cf72628');\n",
       "var x = new MutationObserver(function (mutations, observer) {{\n",
       "        var display = window.getComputedStyle(gd).display;\n",
       "        if (!display || display === 'none') {{\n",
       "            console.log([gd, 'removed!']);\n",
       "            Plotly.purge(gd);\n",
       "            observer.disconnect();\n",
       "        }}\n",
       "}});\n",
       "\n",
       "// Listen for the removal of the full notebook cells\n",
       "var notebookContainer = gd.closest('#notebook-container');\n",
       "if (notebookContainer) {{\n",
       "    x.observe(notebookContainer, {childList: true});\n",
       "}}\n",
       "\n",
       "// Listen for the clearing of the current output cell\n",
       "var outputEl = gd.closest('.output');\n",
       "if (outputEl) {{\n",
       "    x.observe(outputEl, {childList: true});\n",
       "}}\n",
       "\n",
       "                        })                };                });            </script>        </div>"
      ]
     },
     "metadata": {},
     "output_type": "display_data"
    }
   ],
   "source": [
    "# -- Detailed pipeline for rafinement steps and tuning  \n",
    "\n",
    "# -- define some params in the form of dict (those in the cfg file) \n",
    "params = {\"video\": video, \"verb\":2, \"ROImask\":\"rect\",\"rectRegions\":['forehead', 'lcheek', 'rcheek', 'nose'], \"skinAdapt\":0.2,\"csv_filename\":\"mesh\"+\".csv\"}\n",
    "\n",
    "# -- invoke the method\n",
    "m = CHROM(**params)\n",
    "#m = POS(**params)\n",
    "\n",
    "# -- invoke the method\n",
    "bpmES, timesES = m.runOffline(**params)"
   ]
  },
  {
   "cell_type": "markdown",
   "metadata": {},
   "source": [
    "<a id=\"gt\"></a>\n",
    "<h2>Compare with ground truth (GT)</h2>\n",
    "\n",
    "In this section it is shown how to define a new Dataset object of type SAMPLE, to load the BVP ground truth (GT) signal and plot it and to compute the GT BPMs used in comparisons with those estimated by method"
   ]
  },
  {
   "cell_type": "code",
   "execution_count": 15,
   "metadata": {
    "ExecuteTime": {
     "end_time": "2020-07-23T10:56:54.667107Z",
     "start_time": "2020-07-23T10:56:54.142823Z"
    }
   },
   "outputs": [
    {
     "name": "stdout",
     "output_type": "stream",
     "text": [
      "cms50\n",
      "cms50\n",
      "cms50\n",
      "cms50\n",
      "cms50\n",
      "cms50\n",
      "cms50\n",
      "cms50\n",
      "cms50\n",
      "cms50\n",
      "cms50\n",
      "cms50\n",
      "cms50\n"
     ]
    },
    {
     "ename": "IndexError",
     "evalue": "list index out of range",
     "output_type": "error",
     "traceback": [
      "\u001b[1;31m---------------------------------------------------------------------------\u001b[0m",
      "\u001b[1;31mIndexError\u001b[0m                                Traceback (most recent call last)",
      "\u001b[1;32m<ipython-input-15-31f863d4f10e>\u001b[0m in \u001b[0;36m<module>\u001b[1;34m\u001b[0m\n\u001b[0;32m      7\u001b[0m \u001b[1;31m# -- ground-truth (GT) signal\u001b[0m\u001b[1;33m\u001b[0m\u001b[1;33m\u001b[0m\u001b[1;33m\u001b[0m\u001b[0m\n\u001b[0;32m      8\u001b[0m \u001b[0midx\u001b[0m \u001b[1;33m=\u001b[0m \u001b[1;36m0\u001b[0m   \u001b[1;31m# index of signal within the list dataset.videoFilenames\u001b[0m\u001b[1;33m\u001b[0m\u001b[1;33m\u001b[0m\u001b[0m\n\u001b[1;32m----> 9\u001b[1;33m \u001b[0mfname\u001b[0m \u001b[1;33m=\u001b[0m \u001b[0mdataset\u001b[0m\u001b[1;33m.\u001b[0m\u001b[0mgetSigFilename\u001b[0m\u001b[1;33m(\u001b[0m\u001b[0midx\u001b[0m\u001b[1;33m)\u001b[0m\u001b[1;33m\u001b[0m\u001b[1;33m\u001b[0m\u001b[0m\n\u001b[0m\u001b[0;32m     10\u001b[0m \u001b[1;33m\u001b[0m\u001b[0m\n\u001b[0;32m     11\u001b[0m \u001b[1;31m# -- load signal and build a BVPsignal or ECGsignal object\u001b[0m\u001b[1;33m\u001b[0m\u001b[1;33m\u001b[0m\u001b[1;33m\u001b[0m\u001b[0m\n",
      "\u001b[1;32mD:\\Anaconda\\lib\\pyVHR\\datasets\\dataset.py\u001b[0m in \u001b[0;36mgetSigFilename\u001b[1;34m(self, videoIdx)\u001b[0m\n\u001b[0;32m     64\u001b[0m     \u001b[1;32mdef\u001b[0m \u001b[0mgetSigFilename\u001b[0m\u001b[1;33m(\u001b[0m\u001b[0mself\u001b[0m\u001b[1;33m,\u001b[0m \u001b[0mvideoIdx\u001b[0m\u001b[1;33m=\u001b[0m\u001b[1;36m0\u001b[0m\u001b[1;33m)\u001b[0m\u001b[1;33m:\u001b[0m\u001b[1;33m\u001b[0m\u001b[1;33m\u001b[0m\u001b[0m\n\u001b[0;32m     65\u001b[0m         \u001b[1;34m\"\"\"Get Signal filename given the progressive index\"\"\"\u001b[0m\u001b[1;33m\u001b[0m\u001b[1;33m\u001b[0m\u001b[0m\n\u001b[1;32m---> 66\u001b[1;33m         \u001b[1;32mreturn\u001b[0m \u001b[0mself\u001b[0m\u001b[1;33m.\u001b[0m\u001b[0msigFilenames\u001b[0m\u001b[1;33m[\u001b[0m\u001b[0mvideoIdx\u001b[0m\u001b[1;33m]\u001b[0m\u001b[1;33m\u001b[0m\u001b[1;33m\u001b[0m\u001b[0m\n\u001b[0m\u001b[0;32m     67\u001b[0m \u001b[1;33m\u001b[0m\u001b[0m\n\u001b[0;32m     68\u001b[0m     \u001b[1;33m@\u001b[0m\u001b[0mabstractmethod\u001b[0m\u001b[1;33m\u001b[0m\u001b[1;33m\u001b[0m\u001b[0m\n",
      "\u001b[1;31mIndexError\u001b[0m: list index out of range"
     ]
    }
   ],
   "source": [
    "from pyVHR.datasets.sample import SAMPLE\n",
    "from pyVHR.datasets.dataset import Dataset\n",
    "\n",
    "# -- dataset object\n",
    "dataset = SAMPLE(videodataDIR='../sampleDataset/', BVPdataDIR='../sampleDataset/')\n",
    "\n",
    "# -- ground-truth (GT) signal\n",
    "idx = 0   # index of signal within the list dataset.videoFilenames\n",
    "fname = dataset.getSigFilename(idx)\n",
    "\n",
    "# -- load signal and build a BVPsignal or ECGsignal object\n",
    "sigGT = dataset.readSigfile(fname)\n",
    "sigGT.plot()\n",
    "\n",
    "# -- plot signal + peaks\n",
    "sigGT.findPeaks(distance=20)\n",
    "sigGT.plotBPMPeaks()\n",
    "\n",
    "# -- compute BPM GT\n",
    "winSizeGT = 7\n",
    "bpmGT, timesGT = sigGT.getBPM(winSizeGT)"
   ]
  },
  {
   "cell_type": "code",
   "execution_count": null,
   "metadata": {
    "ExecuteTime": {
     "end_time": "2020-07-23T10:57:01.541035Z",
     "start_time": "2020-07-23T10:57:01.248605Z"
    }
   },
   "outputs": [],
   "source": [
    "from pyVHR.utils.errors import getErrors, printErrors, displayErrors\n",
    "\n",
    "# -- error metrics\n",
    "RMSE, MAE, MAX, PCC = getErrors(bpmES, bpmGT, timesES, timesGT)\n",
    "printErrors(RMSE, MAE, MAX, PCC)\n",
    "displayErrors(bpmES, bpmGT, timesES, timesGT)"
   ]
  },
  {
   "cell_type": "code",
   "execution_count": null,
   "metadata": {
    "ExecuteTime": {
     "end_time": "2020-07-23T19:45:27.488962Z",
     "start_time": "2020-07-23T19:45:27.241135Z"
    }
   },
   "outputs": [],
   "source": [
    "# -- print BPM\n",
    "print(\"BPMs of the GT signal averaged on winSizeGT = %d sec:\" %winSizeGT)\n",
    "print(bpmGT)\n",
    "\n",
    "# -- plot spectrogram\n",
    "sigGT.displaySpectrum()"
   ]
  },
  {
   "cell_type": "code",
   "execution_count": null,
   "metadata": {},
   "outputs": [],
   "source": []
  },
  {
   "cell_type": "code",
   "execution_count": null,
   "metadata": {},
   "outputs": [],
   "source": []
  },
  {
   "cell_type": "code",
   "execution_count": null,
   "metadata": {},
   "outputs": [],
   "source": []
  },
  {
   "cell_type": "code",
   "execution_count": null,
   "metadata": {},
   "outputs": [],
   "source": []
  },
  {
   "cell_type": "code",
   "execution_count": null,
   "metadata": {},
   "outputs": [],
   "source": []
  },
  {
   "cell_type": "code",
   "execution_count": null,
   "metadata": {},
   "outputs": [],
   "source": []
  },
  {
   "cell_type": "code",
   "execution_count": null,
   "metadata": {},
   "outputs": [],
   "source": []
  }
 ],
 "metadata": {
  "kernelspec": {
   "display_name": "Python 3",
   "language": "python",
   "name": "python3"
  },
  "language_info": {
   "codemirror_mode": {
    "name": "ipython",
    "version": 3
   },
   "file_extension": ".py",
   "mimetype": "text/x-python",
   "name": "python",
   "nbconvert_exporter": "python",
   "pygments_lexer": "ipython3",
   "version": "3.8.5"
  },
  "latex_envs": {
   "LaTeX_envs_menu_present": true,
   "autoclose": false,
   "autocomplete": true,
   "bibliofile": "biblio.bib",
   "cite_by": "apalike",
   "current_citInitial": 1,
   "eqLabelWithNumbers": true,
   "eqNumInitial": 1,
   "hotkeys": {
    "equation": "Ctrl-E",
    "itemize": "Ctrl-I"
   },
   "labels_anchors": false,
   "latex_user_defs": false,
   "report_style_numbering": false,
   "user_envs_cfg": false
  },
  "varInspector": {
   "cols": {
    "lenName": 16,
    "lenType": 16,
    "lenVar": 40
   },
   "kernels_config": {
    "python": {
     "delete_cmd_postfix": "",
     "delete_cmd_prefix": "del ",
     "library": "var_list.py",
     "varRefreshCmd": "print(var_dic_list())"
    },
    "r": {
     "delete_cmd_postfix": ") ",
     "delete_cmd_prefix": "rm(",
     "library": "var_list.r",
     "varRefreshCmd": "cat(var_dic_list()) "
    }
   },
   "types_to_exclude": [
    "module",
    "function",
    "builtin_function_or_method",
    "instance",
    "_Feature"
   ],
   "window_display": false
  }
 },
 "nbformat": 4,
 "nbformat_minor": 2
}
